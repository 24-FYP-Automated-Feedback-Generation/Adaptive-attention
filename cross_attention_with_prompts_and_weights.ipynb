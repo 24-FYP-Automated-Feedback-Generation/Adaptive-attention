{
  "metadata": {
    "kernelspec": {
      "name": "python3",
      "display_name": "Python 3",
      "language": "python"
    },
    "language_info": {
      "name": "python",
      "version": "3.10.12",
      "mimetype": "text/x-python",
      "codemirror_mode": {
        "name": "ipython",
        "version": 3
      },
      "pygments_lexer": "ipython3",
      "nbconvert_exporter": "python",
      "file_extension": ".py"
    },
    "kaggle": {
      "accelerator": "gpu",
      "dataSources": [
        {
          "sourceId": 10048507,
          "sourceType": "datasetVersion",
          "datasetId": 6190931
        },
        {
          "sourceId": 10242967,
          "sourceType": "datasetVersion",
          "datasetId": 6334477
        },
        {
          "sourceId": 10316683,
          "sourceType": "datasetVersion",
          "datasetId": 6386966
        }
      ],
      "dockerImageVersionId": 30823,
      "isInternetEnabled": true,
      "language": "python",
      "sourceType": "notebook",
      "isGpuEnabled": true
    },
    "colab": {
      "provenance": [],
      "gpuType": "T4",
      "name": "cross attention with prompts and weights",
      "include_colab_link": true
    },
    "accelerator": "GPU",
    "widgets": {
      "application/vnd.jupyter.widget-state+json": {
        "4325fa3c610a41bf920eaef43c6eeb83": {
          "model_module": "@jupyter-widgets/controls",
          "model_name": "HBoxModel",
          "model_module_version": "1.5.0",
          "state": {
            "_dom_classes": [],
            "_model_module": "@jupyter-widgets/controls",
            "_model_module_version": "1.5.0",
            "_model_name": "HBoxModel",
            "_view_count": null,
            "_view_module": "@jupyter-widgets/controls",
            "_view_module_version": "1.5.0",
            "_view_name": "HBoxView",
            "box_style": "",
            "children": [
              "IPY_MODEL_efcb345069e845c3acdfe1b2e967553b",
              "IPY_MODEL_08b2b76b7da144899a1048a96fdd0b9b",
              "IPY_MODEL_999d7e96b41f478caaa130caf7f024eb"
            ],
            "layout": "IPY_MODEL_5b11ea9bb9b5436192057143c5902cad"
          }
        },
        "efcb345069e845c3acdfe1b2e967553b": {
          "model_module": "@jupyter-widgets/controls",
          "model_name": "HTMLModel",
          "model_module_version": "1.5.0",
          "state": {
            "_dom_classes": [],
            "_model_module": "@jupyter-widgets/controls",
            "_model_module_version": "1.5.0",
            "_model_name": "HTMLModel",
            "_view_count": null,
            "_view_module": "@jupyter-widgets/controls",
            "_view_module_version": "1.5.0",
            "_view_name": "HTMLView",
            "description": "",
            "description_tooltip": null,
            "layout": "IPY_MODEL_44a306790372481996b948864fa259e1",
            "placeholder": "​",
            "style": "IPY_MODEL_1bb68e58f50c45f9b1b7f7de94f183bc",
            "value": "config.json: 100%"
          }
        },
        "08b2b76b7da144899a1048a96fdd0b9b": {
          "model_module": "@jupyter-widgets/controls",
          "model_name": "FloatProgressModel",
          "model_module_version": "1.5.0",
          "state": {
            "_dom_classes": [],
            "_model_module": "@jupyter-widgets/controls",
            "_model_module_version": "1.5.0",
            "_model_name": "FloatProgressModel",
            "_view_count": null,
            "_view_module": "@jupyter-widgets/controls",
            "_view_module_version": "1.5.0",
            "_view_name": "ProgressView",
            "bar_style": "success",
            "description": "",
            "description_tooltip": null,
            "layout": "IPY_MODEL_1d523ab378a44fe98f7506de4a747798",
            "max": 1208,
            "min": 0,
            "orientation": "horizontal",
            "style": "IPY_MODEL_f94f5133c0664663ae3cb4454115441b",
            "value": 1208
          }
        },
        "999d7e96b41f478caaa130caf7f024eb": {
          "model_module": "@jupyter-widgets/controls",
          "model_name": "HTMLModel",
          "model_module_version": "1.5.0",
          "state": {
            "_dom_classes": [],
            "_model_module": "@jupyter-widgets/controls",
            "_model_module_version": "1.5.0",
            "_model_name": "HTMLModel",
            "_view_count": null,
            "_view_module": "@jupyter-widgets/controls",
            "_view_module_version": "1.5.0",
            "_view_name": "HTMLView",
            "description": "",
            "description_tooltip": null,
            "layout": "IPY_MODEL_9f2bce6c4bc44be89d625252d1726204",
            "placeholder": "​",
            "style": "IPY_MODEL_560fd838bf4146bab22dd2258927f06d",
            "value": " 1.21k/1.21k [00:00&lt;00:00, 74.1kB/s]"
          }
        },
        "5b11ea9bb9b5436192057143c5902cad": {
          "model_module": "@jupyter-widgets/base",
          "model_name": "LayoutModel",
          "model_module_version": "1.2.0",
          "state": {
            "_model_module": "@jupyter-widgets/base",
            "_model_module_version": "1.2.0",
            "_model_name": "LayoutModel",
            "_view_count": null,
            "_view_module": "@jupyter-widgets/base",
            "_view_module_version": "1.2.0",
            "_view_name": "LayoutView",
            "align_content": null,
            "align_items": null,
            "align_self": null,
            "border": null,
            "bottom": null,
            "display": null,
            "flex": null,
            "flex_flow": null,
            "grid_area": null,
            "grid_auto_columns": null,
            "grid_auto_flow": null,
            "grid_auto_rows": null,
            "grid_column": null,
            "grid_gap": null,
            "grid_row": null,
            "grid_template_areas": null,
            "grid_template_columns": null,
            "grid_template_rows": null,
            "height": null,
            "justify_content": null,
            "justify_items": null,
            "left": null,
            "margin": null,
            "max_height": null,
            "max_width": null,
            "min_height": null,
            "min_width": null,
            "object_fit": null,
            "object_position": null,
            "order": null,
            "overflow": null,
            "overflow_x": null,
            "overflow_y": null,
            "padding": null,
            "right": null,
            "top": null,
            "visibility": null,
            "width": null
          }
        },
        "44a306790372481996b948864fa259e1": {
          "model_module": "@jupyter-widgets/base",
          "model_name": "LayoutModel",
          "model_module_version": "1.2.0",
          "state": {
            "_model_module": "@jupyter-widgets/base",
            "_model_module_version": "1.2.0",
            "_model_name": "LayoutModel",
            "_view_count": null,
            "_view_module": "@jupyter-widgets/base",
            "_view_module_version": "1.2.0",
            "_view_name": "LayoutView",
            "align_content": null,
            "align_items": null,
            "align_self": null,
            "border": null,
            "bottom": null,
            "display": null,
            "flex": null,
            "flex_flow": null,
            "grid_area": null,
            "grid_auto_columns": null,
            "grid_auto_flow": null,
            "grid_auto_rows": null,
            "grid_column": null,
            "grid_gap": null,
            "grid_row": null,
            "grid_template_areas": null,
            "grid_template_columns": null,
            "grid_template_rows": null,
            "height": null,
            "justify_content": null,
            "justify_items": null,
            "left": null,
            "margin": null,
            "max_height": null,
            "max_width": null,
            "min_height": null,
            "min_width": null,
            "object_fit": null,
            "object_position": null,
            "order": null,
            "overflow": null,
            "overflow_x": null,
            "overflow_y": null,
            "padding": null,
            "right": null,
            "top": null,
            "visibility": null,
            "width": null
          }
        },
        "1bb68e58f50c45f9b1b7f7de94f183bc": {
          "model_module": "@jupyter-widgets/controls",
          "model_name": "DescriptionStyleModel",
          "model_module_version": "1.5.0",
          "state": {
            "_model_module": "@jupyter-widgets/controls",
            "_model_module_version": "1.5.0",
            "_model_name": "DescriptionStyleModel",
            "_view_count": null,
            "_view_module": "@jupyter-widgets/base",
            "_view_module_version": "1.2.0",
            "_view_name": "StyleView",
            "description_width": ""
          }
        },
        "1d523ab378a44fe98f7506de4a747798": {
          "model_module": "@jupyter-widgets/base",
          "model_name": "LayoutModel",
          "model_module_version": "1.2.0",
          "state": {
            "_model_module": "@jupyter-widgets/base",
            "_model_module_version": "1.2.0",
            "_model_name": "LayoutModel",
            "_view_count": null,
            "_view_module": "@jupyter-widgets/base",
            "_view_module_version": "1.2.0",
            "_view_name": "LayoutView",
            "align_content": null,
            "align_items": null,
            "align_self": null,
            "border": null,
            "bottom": null,
            "display": null,
            "flex": null,
            "flex_flow": null,
            "grid_area": null,
            "grid_auto_columns": null,
            "grid_auto_flow": null,
            "grid_auto_rows": null,
            "grid_column": null,
            "grid_gap": null,
            "grid_row": null,
            "grid_template_areas": null,
            "grid_template_columns": null,
            "grid_template_rows": null,
            "height": null,
            "justify_content": null,
            "justify_items": null,
            "left": null,
            "margin": null,
            "max_height": null,
            "max_width": null,
            "min_height": null,
            "min_width": null,
            "object_fit": null,
            "object_position": null,
            "order": null,
            "overflow": null,
            "overflow_x": null,
            "overflow_y": null,
            "padding": null,
            "right": null,
            "top": null,
            "visibility": null,
            "width": null
          }
        },
        "f94f5133c0664663ae3cb4454115441b": {
          "model_module": "@jupyter-widgets/controls",
          "model_name": "ProgressStyleModel",
          "model_module_version": "1.5.0",
          "state": {
            "_model_module": "@jupyter-widgets/controls",
            "_model_module_version": "1.5.0",
            "_model_name": "ProgressStyleModel",
            "_view_count": null,
            "_view_module": "@jupyter-widgets/base",
            "_view_module_version": "1.2.0",
            "_view_name": "StyleView",
            "bar_color": null,
            "description_width": ""
          }
        },
        "9f2bce6c4bc44be89d625252d1726204": {
          "model_module": "@jupyter-widgets/base",
          "model_name": "LayoutModel",
          "model_module_version": "1.2.0",
          "state": {
            "_model_module": "@jupyter-widgets/base",
            "_model_module_version": "1.2.0",
            "_model_name": "LayoutModel",
            "_view_count": null,
            "_view_module": "@jupyter-widgets/base",
            "_view_module_version": "1.2.0",
            "_view_name": "LayoutView",
            "align_content": null,
            "align_items": null,
            "align_self": null,
            "border": null,
            "bottom": null,
            "display": null,
            "flex": null,
            "flex_flow": null,
            "grid_area": null,
            "grid_auto_columns": null,
            "grid_auto_flow": null,
            "grid_auto_rows": null,
            "grid_column": null,
            "grid_gap": null,
            "grid_row": null,
            "grid_template_areas": null,
            "grid_template_columns": null,
            "grid_template_rows": null,
            "height": null,
            "justify_content": null,
            "justify_items": null,
            "left": null,
            "margin": null,
            "max_height": null,
            "max_width": null,
            "min_height": null,
            "min_width": null,
            "object_fit": null,
            "object_position": null,
            "order": null,
            "overflow": null,
            "overflow_x": null,
            "overflow_y": null,
            "padding": null,
            "right": null,
            "top": null,
            "visibility": null,
            "width": null
          }
        },
        "560fd838bf4146bab22dd2258927f06d": {
          "model_module": "@jupyter-widgets/controls",
          "model_name": "DescriptionStyleModel",
          "model_module_version": "1.5.0",
          "state": {
            "_model_module": "@jupyter-widgets/controls",
            "_model_module_version": "1.5.0",
            "_model_name": "DescriptionStyleModel",
            "_view_count": null,
            "_view_module": "@jupyter-widgets/base",
            "_view_module_version": "1.2.0",
            "_view_name": "StyleView",
            "description_width": ""
          }
        },
        "ac8e66aa059a4f6091d9ce26da3c0fe1": {
          "model_module": "@jupyter-widgets/controls",
          "model_name": "HBoxModel",
          "model_module_version": "1.5.0",
          "state": {
            "_dom_classes": [],
            "_model_module": "@jupyter-widgets/controls",
            "_model_module_version": "1.5.0",
            "_model_name": "HBoxModel",
            "_view_count": null,
            "_view_module": "@jupyter-widgets/controls",
            "_view_module_version": "1.5.0",
            "_view_name": "HBoxView",
            "box_style": "",
            "children": [
              "IPY_MODEL_cf1cdeac115f47c2a6e96d9b67acc4c7",
              "IPY_MODEL_2648ae2d422a4626b813313e7c60b0b3",
              "IPY_MODEL_10c04f6d255047f38b2a5af513b2faf1"
            ],
            "layout": "IPY_MODEL_07a2cf6da3d9433c96b8c99f1aa472e9"
          }
        },
        "cf1cdeac115f47c2a6e96d9b67acc4c7": {
          "model_module": "@jupyter-widgets/controls",
          "model_name": "HTMLModel",
          "model_module_version": "1.5.0",
          "state": {
            "_dom_classes": [],
            "_model_module": "@jupyter-widgets/controls",
            "_model_module_version": "1.5.0",
            "_model_name": "HTMLModel",
            "_view_count": null,
            "_view_module": "@jupyter-widgets/controls",
            "_view_module_version": "1.5.0",
            "_view_name": "HTMLView",
            "description": "",
            "description_tooltip": null,
            "layout": "IPY_MODEL_d31fb11c55d941be89e0747b3940b0b7",
            "placeholder": "​",
            "style": "IPY_MODEL_df5eacb65a4447a582d02af85c66ffd9",
            "value": "spiece.model: 100%"
          }
        },
        "2648ae2d422a4626b813313e7c60b0b3": {
          "model_module": "@jupyter-widgets/controls",
          "model_name": "FloatProgressModel",
          "model_module_version": "1.5.0",
          "state": {
            "_dom_classes": [],
            "_model_module": "@jupyter-widgets/controls",
            "_model_module_version": "1.5.0",
            "_model_name": "FloatProgressModel",
            "_view_count": null,
            "_view_module": "@jupyter-widgets/controls",
            "_view_module_version": "1.5.0",
            "_view_name": "ProgressView",
            "bar_style": "success",
            "description": "",
            "description_tooltip": null,
            "layout": "IPY_MODEL_4e985515dde34d58b1d4ea8f03e16806",
            "max": 791656,
            "min": 0,
            "orientation": "horizontal",
            "style": "IPY_MODEL_1e59fab06ab84b83919ac76bf5bf43db",
            "value": 791656
          }
        },
        "10c04f6d255047f38b2a5af513b2faf1": {
          "model_module": "@jupyter-widgets/controls",
          "model_name": "HTMLModel",
          "model_module_version": "1.5.0",
          "state": {
            "_dom_classes": [],
            "_model_module": "@jupyter-widgets/controls",
            "_model_module_version": "1.5.0",
            "_model_name": "HTMLModel",
            "_view_count": null,
            "_view_module": "@jupyter-widgets/controls",
            "_view_module_version": "1.5.0",
            "_view_name": "HTMLView",
            "description": "",
            "description_tooltip": null,
            "layout": "IPY_MODEL_c02f610988c5434a9db9d798e79248d9",
            "placeholder": "​",
            "style": "IPY_MODEL_2d1c3c71d37b4144ab5d53d0ff2314b6",
            "value": " 792k/792k [00:00&lt;00:00, 6.13MB/s]"
          }
        },
        "07a2cf6da3d9433c96b8c99f1aa472e9": {
          "model_module": "@jupyter-widgets/base",
          "model_name": "LayoutModel",
          "model_module_version": "1.2.0",
          "state": {
            "_model_module": "@jupyter-widgets/base",
            "_model_module_version": "1.2.0",
            "_model_name": "LayoutModel",
            "_view_count": null,
            "_view_module": "@jupyter-widgets/base",
            "_view_module_version": "1.2.0",
            "_view_name": "LayoutView",
            "align_content": null,
            "align_items": null,
            "align_self": null,
            "border": null,
            "bottom": null,
            "display": null,
            "flex": null,
            "flex_flow": null,
            "grid_area": null,
            "grid_auto_columns": null,
            "grid_auto_flow": null,
            "grid_auto_rows": null,
            "grid_column": null,
            "grid_gap": null,
            "grid_row": null,
            "grid_template_areas": null,
            "grid_template_columns": null,
            "grid_template_rows": null,
            "height": null,
            "justify_content": null,
            "justify_items": null,
            "left": null,
            "margin": null,
            "max_height": null,
            "max_width": null,
            "min_height": null,
            "min_width": null,
            "object_fit": null,
            "object_position": null,
            "order": null,
            "overflow": null,
            "overflow_x": null,
            "overflow_y": null,
            "padding": null,
            "right": null,
            "top": null,
            "visibility": null,
            "width": null
          }
        },
        "d31fb11c55d941be89e0747b3940b0b7": {
          "model_module": "@jupyter-widgets/base",
          "model_name": "LayoutModel",
          "model_module_version": "1.2.0",
          "state": {
            "_model_module": "@jupyter-widgets/base",
            "_model_module_version": "1.2.0",
            "_model_name": "LayoutModel",
            "_view_count": null,
            "_view_module": "@jupyter-widgets/base",
            "_view_module_version": "1.2.0",
            "_view_name": "LayoutView",
            "align_content": null,
            "align_items": null,
            "align_self": null,
            "border": null,
            "bottom": null,
            "display": null,
            "flex": null,
            "flex_flow": null,
            "grid_area": null,
            "grid_auto_columns": null,
            "grid_auto_flow": null,
            "grid_auto_rows": null,
            "grid_column": null,
            "grid_gap": null,
            "grid_row": null,
            "grid_template_areas": null,
            "grid_template_columns": null,
            "grid_template_rows": null,
            "height": null,
            "justify_content": null,
            "justify_items": null,
            "left": null,
            "margin": null,
            "max_height": null,
            "max_width": null,
            "min_height": null,
            "min_width": null,
            "object_fit": null,
            "object_position": null,
            "order": null,
            "overflow": null,
            "overflow_x": null,
            "overflow_y": null,
            "padding": null,
            "right": null,
            "top": null,
            "visibility": null,
            "width": null
          }
        },
        "df5eacb65a4447a582d02af85c66ffd9": {
          "model_module": "@jupyter-widgets/controls",
          "model_name": "DescriptionStyleModel",
          "model_module_version": "1.5.0",
          "state": {
            "_model_module": "@jupyter-widgets/controls",
            "_model_module_version": "1.5.0",
            "_model_name": "DescriptionStyleModel",
            "_view_count": null,
            "_view_module": "@jupyter-widgets/base",
            "_view_module_version": "1.2.0",
            "_view_name": "StyleView",
            "description_width": ""
          }
        },
        "4e985515dde34d58b1d4ea8f03e16806": {
          "model_module": "@jupyter-widgets/base",
          "model_name": "LayoutModel",
          "model_module_version": "1.2.0",
          "state": {
            "_model_module": "@jupyter-widgets/base",
            "_model_module_version": "1.2.0",
            "_model_name": "LayoutModel",
            "_view_count": null,
            "_view_module": "@jupyter-widgets/base",
            "_view_module_version": "1.2.0",
            "_view_name": "LayoutView",
            "align_content": null,
            "align_items": null,
            "align_self": null,
            "border": null,
            "bottom": null,
            "display": null,
            "flex": null,
            "flex_flow": null,
            "grid_area": null,
            "grid_auto_columns": null,
            "grid_auto_flow": null,
            "grid_auto_rows": null,
            "grid_column": null,
            "grid_gap": null,
            "grid_row": null,
            "grid_template_areas": null,
            "grid_template_columns": null,
            "grid_template_rows": null,
            "height": null,
            "justify_content": null,
            "justify_items": null,
            "left": null,
            "margin": null,
            "max_height": null,
            "max_width": null,
            "min_height": null,
            "min_width": null,
            "object_fit": null,
            "object_position": null,
            "order": null,
            "overflow": null,
            "overflow_x": null,
            "overflow_y": null,
            "padding": null,
            "right": null,
            "top": null,
            "visibility": null,
            "width": null
          }
        },
        "1e59fab06ab84b83919ac76bf5bf43db": {
          "model_module": "@jupyter-widgets/controls",
          "model_name": "ProgressStyleModel",
          "model_module_version": "1.5.0",
          "state": {
            "_model_module": "@jupyter-widgets/controls",
            "_model_module_version": "1.5.0",
            "_model_name": "ProgressStyleModel",
            "_view_count": null,
            "_view_module": "@jupyter-widgets/base",
            "_view_module_version": "1.2.0",
            "_view_name": "StyleView",
            "bar_color": null,
            "description_width": ""
          }
        },
        "c02f610988c5434a9db9d798e79248d9": {
          "model_module": "@jupyter-widgets/base",
          "model_name": "LayoutModel",
          "model_module_version": "1.2.0",
          "state": {
            "_model_module": "@jupyter-widgets/base",
            "_model_module_version": "1.2.0",
            "_model_name": "LayoutModel",
            "_view_count": null,
            "_view_module": "@jupyter-widgets/base",
            "_view_module_version": "1.2.0",
            "_view_name": "LayoutView",
            "align_content": null,
            "align_items": null,
            "align_self": null,
            "border": null,
            "bottom": null,
            "display": null,
            "flex": null,
            "flex_flow": null,
            "grid_area": null,
            "grid_auto_columns": null,
            "grid_auto_flow": null,
            "grid_auto_rows": null,
            "grid_column": null,
            "grid_gap": null,
            "grid_row": null,
            "grid_template_areas": null,
            "grid_template_columns": null,
            "grid_template_rows": null,
            "height": null,
            "justify_content": null,
            "justify_items": null,
            "left": null,
            "margin": null,
            "max_height": null,
            "max_width": null,
            "min_height": null,
            "min_width": null,
            "object_fit": null,
            "object_position": null,
            "order": null,
            "overflow": null,
            "overflow_x": null,
            "overflow_y": null,
            "padding": null,
            "right": null,
            "top": null,
            "visibility": null,
            "width": null
          }
        },
        "2d1c3c71d37b4144ab5d53d0ff2314b6": {
          "model_module": "@jupyter-widgets/controls",
          "model_name": "DescriptionStyleModel",
          "model_module_version": "1.5.0",
          "state": {
            "_model_module": "@jupyter-widgets/controls",
            "_model_module_version": "1.5.0",
            "_model_name": "DescriptionStyleModel",
            "_view_count": null,
            "_view_module": "@jupyter-widgets/base",
            "_view_module_version": "1.2.0",
            "_view_name": "StyleView",
            "description_width": ""
          }
        },
        "592a806bc8934d7c89a65eafb39bc88e": {
          "model_module": "@jupyter-widgets/controls",
          "model_name": "HBoxModel",
          "model_module_version": "1.5.0",
          "state": {
            "_dom_classes": [],
            "_model_module": "@jupyter-widgets/controls",
            "_model_module_version": "1.5.0",
            "_model_name": "HBoxModel",
            "_view_count": null,
            "_view_module": "@jupyter-widgets/controls",
            "_view_module_version": "1.5.0",
            "_view_name": "HBoxView",
            "box_style": "",
            "children": [
              "IPY_MODEL_26c4eb91ec9e4514878e2c1538be6a93",
              "IPY_MODEL_b453f3afb0e44d719aa2828e589da7a5",
              "IPY_MODEL_95bbf8ff56d043c5bf8a4424f22fd75c"
            ],
            "layout": "IPY_MODEL_67b3750c60ec4419abfb3e7db035ac57"
          }
        },
        "26c4eb91ec9e4514878e2c1538be6a93": {
          "model_module": "@jupyter-widgets/controls",
          "model_name": "HTMLModel",
          "model_module_version": "1.5.0",
          "state": {
            "_dom_classes": [],
            "_model_module": "@jupyter-widgets/controls",
            "_model_module_version": "1.5.0",
            "_model_name": "HTMLModel",
            "_view_count": null,
            "_view_module": "@jupyter-widgets/controls",
            "_view_module_version": "1.5.0",
            "_view_name": "HTMLView",
            "description": "",
            "description_tooltip": null,
            "layout": "IPY_MODEL_4e114a6c056f48ae9ca881e1a6f502d0",
            "placeholder": "​",
            "style": "IPY_MODEL_fee4162d5ad740819e6ec84e994a4e8c",
            "value": "tokenizer.json: 100%"
          }
        },
        "b453f3afb0e44d719aa2828e589da7a5": {
          "model_module": "@jupyter-widgets/controls",
          "model_name": "FloatProgressModel",
          "model_module_version": "1.5.0",
          "state": {
            "_dom_classes": [],
            "_model_module": "@jupyter-widgets/controls",
            "_model_module_version": "1.5.0",
            "_model_name": "FloatProgressModel",
            "_view_count": null,
            "_view_module": "@jupyter-widgets/controls",
            "_view_module_version": "1.5.0",
            "_view_name": "ProgressView",
            "bar_style": "success",
            "description": "",
            "description_tooltip": null,
            "layout": "IPY_MODEL_360a3bcad7494e7e8fdd7494ecff0929",
            "max": 1389353,
            "min": 0,
            "orientation": "horizontal",
            "style": "IPY_MODEL_9bae334a6cea4a8cb00e18ec87a89f22",
            "value": 1389353
          }
        },
        "95bbf8ff56d043c5bf8a4424f22fd75c": {
          "model_module": "@jupyter-widgets/controls",
          "model_name": "HTMLModel",
          "model_module_version": "1.5.0",
          "state": {
            "_dom_classes": [],
            "_model_module": "@jupyter-widgets/controls",
            "_model_module_version": "1.5.0",
            "_model_name": "HTMLModel",
            "_view_count": null,
            "_view_module": "@jupyter-widgets/controls",
            "_view_module_version": "1.5.0",
            "_view_name": "HTMLView",
            "description": "",
            "description_tooltip": null,
            "layout": "IPY_MODEL_2b6ec8da43a340ba87fcedda2b7f3546",
            "placeholder": "​",
            "style": "IPY_MODEL_0b703c1ce1ad42ca9d52553721f6d717",
            "value": " 1.39M/1.39M [00:00&lt;00:00, 19.6MB/s]"
          }
        },
        "67b3750c60ec4419abfb3e7db035ac57": {
          "model_module": "@jupyter-widgets/base",
          "model_name": "LayoutModel",
          "model_module_version": "1.2.0",
          "state": {
            "_model_module": "@jupyter-widgets/base",
            "_model_module_version": "1.2.0",
            "_model_name": "LayoutModel",
            "_view_count": null,
            "_view_module": "@jupyter-widgets/base",
            "_view_module_version": "1.2.0",
            "_view_name": "LayoutView",
            "align_content": null,
            "align_items": null,
            "align_self": null,
            "border": null,
            "bottom": null,
            "display": null,
            "flex": null,
            "flex_flow": null,
            "grid_area": null,
            "grid_auto_columns": null,
            "grid_auto_flow": null,
            "grid_auto_rows": null,
            "grid_column": null,
            "grid_gap": null,
            "grid_row": null,
            "grid_template_areas": null,
            "grid_template_columns": null,
            "grid_template_rows": null,
            "height": null,
            "justify_content": null,
            "justify_items": null,
            "left": null,
            "margin": null,
            "max_height": null,
            "max_width": null,
            "min_height": null,
            "min_width": null,
            "object_fit": null,
            "object_position": null,
            "order": null,
            "overflow": null,
            "overflow_x": null,
            "overflow_y": null,
            "padding": null,
            "right": null,
            "top": null,
            "visibility": null,
            "width": null
          }
        },
        "4e114a6c056f48ae9ca881e1a6f502d0": {
          "model_module": "@jupyter-widgets/base",
          "model_name": "LayoutModel",
          "model_module_version": "1.2.0",
          "state": {
            "_model_module": "@jupyter-widgets/base",
            "_model_module_version": "1.2.0",
            "_model_name": "LayoutModel",
            "_view_count": null,
            "_view_module": "@jupyter-widgets/base",
            "_view_module_version": "1.2.0",
            "_view_name": "LayoutView",
            "align_content": null,
            "align_items": null,
            "align_self": null,
            "border": null,
            "bottom": null,
            "display": null,
            "flex": null,
            "flex_flow": null,
            "grid_area": null,
            "grid_auto_columns": null,
            "grid_auto_flow": null,
            "grid_auto_rows": null,
            "grid_column": null,
            "grid_gap": null,
            "grid_row": null,
            "grid_template_areas": null,
            "grid_template_columns": null,
            "grid_template_rows": null,
            "height": null,
            "justify_content": null,
            "justify_items": null,
            "left": null,
            "margin": null,
            "max_height": null,
            "max_width": null,
            "min_height": null,
            "min_width": null,
            "object_fit": null,
            "object_position": null,
            "order": null,
            "overflow": null,
            "overflow_x": null,
            "overflow_y": null,
            "padding": null,
            "right": null,
            "top": null,
            "visibility": null,
            "width": null
          }
        },
        "fee4162d5ad740819e6ec84e994a4e8c": {
          "model_module": "@jupyter-widgets/controls",
          "model_name": "DescriptionStyleModel",
          "model_module_version": "1.5.0",
          "state": {
            "_model_module": "@jupyter-widgets/controls",
            "_model_module_version": "1.5.0",
            "_model_name": "DescriptionStyleModel",
            "_view_count": null,
            "_view_module": "@jupyter-widgets/base",
            "_view_module_version": "1.2.0",
            "_view_name": "StyleView",
            "description_width": ""
          }
        },
        "360a3bcad7494e7e8fdd7494ecff0929": {
          "model_module": "@jupyter-widgets/base",
          "model_name": "LayoutModel",
          "model_module_version": "1.2.0",
          "state": {
            "_model_module": "@jupyter-widgets/base",
            "_model_module_version": "1.2.0",
            "_model_name": "LayoutModel",
            "_view_count": null,
            "_view_module": "@jupyter-widgets/base",
            "_view_module_version": "1.2.0",
            "_view_name": "LayoutView",
            "align_content": null,
            "align_items": null,
            "align_self": null,
            "border": null,
            "bottom": null,
            "display": null,
            "flex": null,
            "flex_flow": null,
            "grid_area": null,
            "grid_auto_columns": null,
            "grid_auto_flow": null,
            "grid_auto_rows": null,
            "grid_column": null,
            "grid_gap": null,
            "grid_row": null,
            "grid_template_areas": null,
            "grid_template_columns": null,
            "grid_template_rows": null,
            "height": null,
            "justify_content": null,
            "justify_items": null,
            "left": null,
            "margin": null,
            "max_height": null,
            "max_width": null,
            "min_height": null,
            "min_width": null,
            "object_fit": null,
            "object_position": null,
            "order": null,
            "overflow": null,
            "overflow_x": null,
            "overflow_y": null,
            "padding": null,
            "right": null,
            "top": null,
            "visibility": null,
            "width": null
          }
        },
        "9bae334a6cea4a8cb00e18ec87a89f22": {
          "model_module": "@jupyter-widgets/controls",
          "model_name": "ProgressStyleModel",
          "model_module_version": "1.5.0",
          "state": {
            "_model_module": "@jupyter-widgets/controls",
            "_model_module_version": "1.5.0",
            "_model_name": "ProgressStyleModel",
            "_view_count": null,
            "_view_module": "@jupyter-widgets/base",
            "_view_module_version": "1.2.0",
            "_view_name": "StyleView",
            "bar_color": null,
            "description_width": ""
          }
        },
        "2b6ec8da43a340ba87fcedda2b7f3546": {
          "model_module": "@jupyter-widgets/base",
          "model_name": "LayoutModel",
          "model_module_version": "1.2.0",
          "state": {
            "_model_module": "@jupyter-widgets/base",
            "_model_module_version": "1.2.0",
            "_model_name": "LayoutModel",
            "_view_count": null,
            "_view_module": "@jupyter-widgets/base",
            "_view_module_version": "1.2.0",
            "_view_name": "LayoutView",
            "align_content": null,
            "align_items": null,
            "align_self": null,
            "border": null,
            "bottom": null,
            "display": null,
            "flex": null,
            "flex_flow": null,
            "grid_area": null,
            "grid_auto_columns": null,
            "grid_auto_flow": null,
            "grid_auto_rows": null,
            "grid_column": null,
            "grid_gap": null,
            "grid_row": null,
            "grid_template_areas": null,
            "grid_template_columns": null,
            "grid_template_rows": null,
            "height": null,
            "justify_content": null,
            "justify_items": null,
            "left": null,
            "margin": null,
            "max_height": null,
            "max_width": null,
            "min_height": null,
            "min_width": null,
            "object_fit": null,
            "object_position": null,
            "order": null,
            "overflow": null,
            "overflow_x": null,
            "overflow_y": null,
            "padding": null,
            "right": null,
            "top": null,
            "visibility": null,
            "width": null
          }
        },
        "0b703c1ce1ad42ca9d52553721f6d717": {
          "model_module": "@jupyter-widgets/controls",
          "model_name": "DescriptionStyleModel",
          "model_module_version": "1.5.0",
          "state": {
            "_model_module": "@jupyter-widgets/controls",
            "_model_module_version": "1.5.0",
            "_model_name": "DescriptionStyleModel",
            "_view_count": null,
            "_view_module": "@jupyter-widgets/base",
            "_view_module_version": "1.2.0",
            "_view_name": "StyleView",
            "description_width": ""
          }
        },
        "720d1d4d67504b05a55013f8d978d982": {
          "model_module": "@jupyter-widgets/controls",
          "model_name": "HBoxModel",
          "model_module_version": "1.5.0",
          "state": {
            "_dom_classes": [],
            "_model_module": "@jupyter-widgets/controls",
            "_model_module_version": "1.5.0",
            "_model_name": "HBoxModel",
            "_view_count": null,
            "_view_module": "@jupyter-widgets/controls",
            "_view_module_version": "1.5.0",
            "_view_name": "HBoxView",
            "box_style": "",
            "children": [
              "IPY_MODEL_677f0ea88edc47fba6bbaa07c88d816f",
              "IPY_MODEL_619118df73bf48ce928926d475d5081c",
              "IPY_MODEL_9b4e426059a94140b7b66ef38ccbd1fb"
            ],
            "layout": "IPY_MODEL_d7fcf9a741e3405fa0e55a882bb3e5a4"
          }
        },
        "677f0ea88edc47fba6bbaa07c88d816f": {
          "model_module": "@jupyter-widgets/controls",
          "model_name": "HTMLModel",
          "model_module_version": "1.5.0",
          "state": {
            "_dom_classes": [],
            "_model_module": "@jupyter-widgets/controls",
            "_model_module_version": "1.5.0",
            "_model_name": "HTMLModel",
            "_view_count": null,
            "_view_module": "@jupyter-widgets/controls",
            "_view_module_version": "1.5.0",
            "_view_name": "HTMLView",
            "description": "",
            "description_tooltip": null,
            "layout": "IPY_MODEL_30e12c6bfded4305a630e53297f98068",
            "placeholder": "​",
            "style": "IPY_MODEL_c5bbe2a56c014fb08a60a4aa2e0bb4ef",
            "value": "tokenizer_config.json: 100%"
          }
        },
        "619118df73bf48ce928926d475d5081c": {
          "model_module": "@jupyter-widgets/controls",
          "model_name": "FloatProgressModel",
          "model_module_version": "1.5.0",
          "state": {
            "_dom_classes": [],
            "_model_module": "@jupyter-widgets/controls",
            "_model_module_version": "1.5.0",
            "_model_name": "FloatProgressModel",
            "_view_count": null,
            "_view_module": "@jupyter-widgets/controls",
            "_view_module_version": "1.5.0",
            "_view_name": "ProgressView",
            "bar_style": "success",
            "description": "",
            "description_tooltip": null,
            "layout": "IPY_MODEL_a6362bcb72fe40f8b7966be6a5fb361e",
            "max": 26,
            "min": 0,
            "orientation": "horizontal",
            "style": "IPY_MODEL_32dcfeef54e04beb9317d46656755e1f",
            "value": 26
          }
        },
        "9b4e426059a94140b7b66ef38ccbd1fb": {
          "model_module": "@jupyter-widgets/controls",
          "model_name": "HTMLModel",
          "model_module_version": "1.5.0",
          "state": {
            "_dom_classes": [],
            "_model_module": "@jupyter-widgets/controls",
            "_model_module_version": "1.5.0",
            "_model_name": "HTMLModel",
            "_view_count": null,
            "_view_module": "@jupyter-widgets/controls",
            "_view_module_version": "1.5.0",
            "_view_name": "HTMLView",
            "description": "",
            "description_tooltip": null,
            "layout": "IPY_MODEL_16858bb02e97451d95de17192c5e54b4",
            "placeholder": "​",
            "style": "IPY_MODEL_58636bf1126d4403bd3c93c844a948a2",
            "value": " 26.0/26.0 [00:00&lt;00:00, 1.43kB/s]"
          }
        },
        "d7fcf9a741e3405fa0e55a882bb3e5a4": {
          "model_module": "@jupyter-widgets/base",
          "model_name": "LayoutModel",
          "model_module_version": "1.2.0",
          "state": {
            "_model_module": "@jupyter-widgets/base",
            "_model_module_version": "1.2.0",
            "_model_name": "LayoutModel",
            "_view_count": null,
            "_view_module": "@jupyter-widgets/base",
            "_view_module_version": "1.2.0",
            "_view_name": "LayoutView",
            "align_content": null,
            "align_items": null,
            "align_self": null,
            "border": null,
            "bottom": null,
            "display": null,
            "flex": null,
            "flex_flow": null,
            "grid_area": null,
            "grid_auto_columns": null,
            "grid_auto_flow": null,
            "grid_auto_rows": null,
            "grid_column": null,
            "grid_gap": null,
            "grid_row": null,
            "grid_template_areas": null,
            "grid_template_columns": null,
            "grid_template_rows": null,
            "height": null,
            "justify_content": null,
            "justify_items": null,
            "left": null,
            "margin": null,
            "max_height": null,
            "max_width": null,
            "min_height": null,
            "min_width": null,
            "object_fit": null,
            "object_position": null,
            "order": null,
            "overflow": null,
            "overflow_x": null,
            "overflow_y": null,
            "padding": null,
            "right": null,
            "top": null,
            "visibility": null,
            "width": null
          }
        },
        "30e12c6bfded4305a630e53297f98068": {
          "model_module": "@jupyter-widgets/base",
          "model_name": "LayoutModel",
          "model_module_version": "1.2.0",
          "state": {
            "_model_module": "@jupyter-widgets/base",
            "_model_module_version": "1.2.0",
            "_model_name": "LayoutModel",
            "_view_count": null,
            "_view_module": "@jupyter-widgets/base",
            "_view_module_version": "1.2.0",
            "_view_name": "LayoutView",
            "align_content": null,
            "align_items": null,
            "align_self": null,
            "border": null,
            "bottom": null,
            "display": null,
            "flex": null,
            "flex_flow": null,
            "grid_area": null,
            "grid_auto_columns": null,
            "grid_auto_flow": null,
            "grid_auto_rows": null,
            "grid_column": null,
            "grid_gap": null,
            "grid_row": null,
            "grid_template_areas": null,
            "grid_template_columns": null,
            "grid_template_rows": null,
            "height": null,
            "justify_content": null,
            "justify_items": null,
            "left": null,
            "margin": null,
            "max_height": null,
            "max_width": null,
            "min_height": null,
            "min_width": null,
            "object_fit": null,
            "object_position": null,
            "order": null,
            "overflow": null,
            "overflow_x": null,
            "overflow_y": null,
            "padding": null,
            "right": null,
            "top": null,
            "visibility": null,
            "width": null
          }
        },
        "c5bbe2a56c014fb08a60a4aa2e0bb4ef": {
          "model_module": "@jupyter-widgets/controls",
          "model_name": "DescriptionStyleModel",
          "model_module_version": "1.5.0",
          "state": {
            "_model_module": "@jupyter-widgets/controls",
            "_model_module_version": "1.5.0",
            "_model_name": "DescriptionStyleModel",
            "_view_count": null,
            "_view_module": "@jupyter-widgets/base",
            "_view_module_version": "1.2.0",
            "_view_name": "StyleView",
            "description_width": ""
          }
        },
        "a6362bcb72fe40f8b7966be6a5fb361e": {
          "model_module": "@jupyter-widgets/base",
          "model_name": "LayoutModel",
          "model_module_version": "1.2.0",
          "state": {
            "_model_module": "@jupyter-widgets/base",
            "_model_module_version": "1.2.0",
            "_model_name": "LayoutModel",
            "_view_count": null,
            "_view_module": "@jupyter-widgets/base",
            "_view_module_version": "1.2.0",
            "_view_name": "LayoutView",
            "align_content": null,
            "align_items": null,
            "align_self": null,
            "border": null,
            "bottom": null,
            "display": null,
            "flex": null,
            "flex_flow": null,
            "grid_area": null,
            "grid_auto_columns": null,
            "grid_auto_flow": null,
            "grid_auto_rows": null,
            "grid_column": null,
            "grid_gap": null,
            "grid_row": null,
            "grid_template_areas": null,
            "grid_template_columns": null,
            "grid_template_rows": null,
            "height": null,
            "justify_content": null,
            "justify_items": null,
            "left": null,
            "margin": null,
            "max_height": null,
            "max_width": null,
            "min_height": null,
            "min_width": null,
            "object_fit": null,
            "object_position": null,
            "order": null,
            "overflow": null,
            "overflow_x": null,
            "overflow_y": null,
            "padding": null,
            "right": null,
            "top": null,
            "visibility": null,
            "width": null
          }
        },
        "32dcfeef54e04beb9317d46656755e1f": {
          "model_module": "@jupyter-widgets/controls",
          "model_name": "ProgressStyleModel",
          "model_module_version": "1.5.0",
          "state": {
            "_model_module": "@jupyter-widgets/controls",
            "_model_module_version": "1.5.0",
            "_model_name": "ProgressStyleModel",
            "_view_count": null,
            "_view_module": "@jupyter-widgets/base",
            "_view_module_version": "1.2.0",
            "_view_name": "StyleView",
            "bar_color": null,
            "description_width": ""
          }
        },
        "16858bb02e97451d95de17192c5e54b4": {
          "model_module": "@jupyter-widgets/base",
          "model_name": "LayoutModel",
          "model_module_version": "1.2.0",
          "state": {
            "_model_module": "@jupyter-widgets/base",
            "_model_module_version": "1.2.0",
            "_model_name": "LayoutModel",
            "_view_count": null,
            "_view_module": "@jupyter-widgets/base",
            "_view_module_version": "1.2.0",
            "_view_name": "LayoutView",
            "align_content": null,
            "align_items": null,
            "align_self": null,
            "border": null,
            "bottom": null,
            "display": null,
            "flex": null,
            "flex_flow": null,
            "grid_area": null,
            "grid_auto_columns": null,
            "grid_auto_flow": null,
            "grid_auto_rows": null,
            "grid_column": null,
            "grid_gap": null,
            "grid_row": null,
            "grid_template_areas": null,
            "grid_template_columns": null,
            "grid_template_rows": null,
            "height": null,
            "justify_content": null,
            "justify_items": null,
            "left": null,
            "margin": null,
            "max_height": null,
            "max_width": null,
            "min_height": null,
            "min_width": null,
            "object_fit": null,
            "object_position": null,
            "order": null,
            "overflow": null,
            "overflow_x": null,
            "overflow_y": null,
            "padding": null,
            "right": null,
            "top": null,
            "visibility": null,
            "width": null
          }
        },
        "58636bf1126d4403bd3c93c844a948a2": {
          "model_module": "@jupyter-widgets/controls",
          "model_name": "DescriptionStyleModel",
          "model_module_version": "1.5.0",
          "state": {
            "_model_module": "@jupyter-widgets/controls",
            "_model_module_version": "1.5.0",
            "_model_name": "DescriptionStyleModel",
            "_view_count": null,
            "_view_module": "@jupyter-widgets/base",
            "_view_module_version": "1.2.0",
            "_view_name": "StyleView",
            "description_width": ""
          }
        },
        "c47c68ee9a4b4def93c9beb08e09ae0c": {
          "model_module": "@jupyter-widgets/controls",
          "model_name": "HBoxModel",
          "model_module_version": "1.5.0",
          "state": {
            "_dom_classes": [],
            "_model_module": "@jupyter-widgets/controls",
            "_model_module_version": "1.5.0",
            "_model_name": "HBoxModel",
            "_view_count": null,
            "_view_module": "@jupyter-widgets/controls",
            "_view_module_version": "1.5.0",
            "_view_name": "HBoxView",
            "box_style": "",
            "children": [
              "IPY_MODEL_5a78d39826d3470c9fa48d82edb4e2d1",
              "IPY_MODEL_deddfe6a8711413b97d64cf60bfa468d",
              "IPY_MODEL_376dba1fc68846b89e627adc9c763ec7"
            ],
            "layout": "IPY_MODEL_ba4f34c2fe8b4271befc0c9051870873"
          }
        },
        "5a78d39826d3470c9fa48d82edb4e2d1": {
          "model_module": "@jupyter-widgets/controls",
          "model_name": "HTMLModel",
          "model_module_version": "1.5.0",
          "state": {
            "_dom_classes": [],
            "_model_module": "@jupyter-widgets/controls",
            "_model_module_version": "1.5.0",
            "_model_name": "HTMLModel",
            "_view_count": null,
            "_view_module": "@jupyter-widgets/controls",
            "_view_module_version": "1.5.0",
            "_view_name": "HTMLView",
            "description": "",
            "description_tooltip": null,
            "layout": "IPY_MODEL_822a45f6c1884cfcb49a14606477b77d",
            "placeholder": "​",
            "style": "IPY_MODEL_26c5be254f624869903cbd837d5cd8e5",
            "value": "vocab.json: 100%"
          }
        },
        "deddfe6a8711413b97d64cf60bfa468d": {
          "model_module": "@jupyter-widgets/controls",
          "model_name": "FloatProgressModel",
          "model_module_version": "1.5.0",
          "state": {
            "_dom_classes": [],
            "_model_module": "@jupyter-widgets/controls",
            "_model_module_version": "1.5.0",
            "_model_name": "FloatProgressModel",
            "_view_count": null,
            "_view_module": "@jupyter-widgets/controls",
            "_view_module_version": "1.5.0",
            "_view_name": "ProgressView",
            "bar_style": "success",
            "description": "",
            "description_tooltip": null,
            "layout": "IPY_MODEL_6a65cd753a8942b0a16e2276c2a52e54",
            "max": 1042301,
            "min": 0,
            "orientation": "horizontal",
            "style": "IPY_MODEL_71ebde5e5aef4e2b8e1bb47d28579d8b",
            "value": 1042301
          }
        },
        "376dba1fc68846b89e627adc9c763ec7": {
          "model_module": "@jupyter-widgets/controls",
          "model_name": "HTMLModel",
          "model_module_version": "1.5.0",
          "state": {
            "_dom_classes": [],
            "_model_module": "@jupyter-widgets/controls",
            "_model_module_version": "1.5.0",
            "_model_name": "HTMLModel",
            "_view_count": null,
            "_view_module": "@jupyter-widgets/controls",
            "_view_module_version": "1.5.0",
            "_view_name": "HTMLView",
            "description": "",
            "description_tooltip": null,
            "layout": "IPY_MODEL_47ec5cab083841e4a647156f8636cc7d",
            "placeholder": "​",
            "style": "IPY_MODEL_cd5c5c1bdbab4fc69cd97863b34e37db",
            "value": " 1.04M/1.04M [00:00&lt;00:00, 5.17MB/s]"
          }
        },
        "ba4f34c2fe8b4271befc0c9051870873": {
          "model_module": "@jupyter-widgets/base",
          "model_name": "LayoutModel",
          "model_module_version": "1.2.0",
          "state": {
            "_model_module": "@jupyter-widgets/base",
            "_model_module_version": "1.2.0",
            "_model_name": "LayoutModel",
            "_view_count": null,
            "_view_module": "@jupyter-widgets/base",
            "_view_module_version": "1.2.0",
            "_view_name": "LayoutView",
            "align_content": null,
            "align_items": null,
            "align_self": null,
            "border": null,
            "bottom": null,
            "display": null,
            "flex": null,
            "flex_flow": null,
            "grid_area": null,
            "grid_auto_columns": null,
            "grid_auto_flow": null,
            "grid_auto_rows": null,
            "grid_column": null,
            "grid_gap": null,
            "grid_row": null,
            "grid_template_areas": null,
            "grid_template_columns": null,
            "grid_template_rows": null,
            "height": null,
            "justify_content": null,
            "justify_items": null,
            "left": null,
            "margin": null,
            "max_height": null,
            "max_width": null,
            "min_height": null,
            "min_width": null,
            "object_fit": null,
            "object_position": null,
            "order": null,
            "overflow": null,
            "overflow_x": null,
            "overflow_y": null,
            "padding": null,
            "right": null,
            "top": null,
            "visibility": null,
            "width": null
          }
        },
        "822a45f6c1884cfcb49a14606477b77d": {
          "model_module": "@jupyter-widgets/base",
          "model_name": "LayoutModel",
          "model_module_version": "1.2.0",
          "state": {
            "_model_module": "@jupyter-widgets/base",
            "_model_module_version": "1.2.0",
            "_model_name": "LayoutModel",
            "_view_count": null,
            "_view_module": "@jupyter-widgets/base",
            "_view_module_version": "1.2.0",
            "_view_name": "LayoutView",
            "align_content": null,
            "align_items": null,
            "align_self": null,
            "border": null,
            "bottom": null,
            "display": null,
            "flex": null,
            "flex_flow": null,
            "grid_area": null,
            "grid_auto_columns": null,
            "grid_auto_flow": null,
            "grid_auto_rows": null,
            "grid_column": null,
            "grid_gap": null,
            "grid_row": null,
            "grid_template_areas": null,
            "grid_template_columns": null,
            "grid_template_rows": null,
            "height": null,
            "justify_content": null,
            "justify_items": null,
            "left": null,
            "margin": null,
            "max_height": null,
            "max_width": null,
            "min_height": null,
            "min_width": null,
            "object_fit": null,
            "object_position": null,
            "order": null,
            "overflow": null,
            "overflow_x": null,
            "overflow_y": null,
            "padding": null,
            "right": null,
            "top": null,
            "visibility": null,
            "width": null
          }
        },
        "26c5be254f624869903cbd837d5cd8e5": {
          "model_module": "@jupyter-widgets/controls",
          "model_name": "DescriptionStyleModel",
          "model_module_version": "1.5.0",
          "state": {
            "_model_module": "@jupyter-widgets/controls",
            "_model_module_version": "1.5.0",
            "_model_name": "DescriptionStyleModel",
            "_view_count": null,
            "_view_module": "@jupyter-widgets/base",
            "_view_module_version": "1.2.0",
            "_view_name": "StyleView",
            "description_width": ""
          }
        },
        "6a65cd753a8942b0a16e2276c2a52e54": {
          "model_module": "@jupyter-widgets/base",
          "model_name": "LayoutModel",
          "model_module_version": "1.2.0",
          "state": {
            "_model_module": "@jupyter-widgets/base",
            "_model_module_version": "1.2.0",
            "_model_name": "LayoutModel",
            "_view_count": null,
            "_view_module": "@jupyter-widgets/base",
            "_view_module_version": "1.2.0",
            "_view_name": "LayoutView",
            "align_content": null,
            "align_items": null,
            "align_self": null,
            "border": null,
            "bottom": null,
            "display": null,
            "flex": null,
            "flex_flow": null,
            "grid_area": null,
            "grid_auto_columns": null,
            "grid_auto_flow": null,
            "grid_auto_rows": null,
            "grid_column": null,
            "grid_gap": null,
            "grid_row": null,
            "grid_template_areas": null,
            "grid_template_columns": null,
            "grid_template_rows": null,
            "height": null,
            "justify_content": null,
            "justify_items": null,
            "left": null,
            "margin": null,
            "max_height": null,
            "max_width": null,
            "min_height": null,
            "min_width": null,
            "object_fit": null,
            "object_position": null,
            "order": null,
            "overflow": null,
            "overflow_x": null,
            "overflow_y": null,
            "padding": null,
            "right": null,
            "top": null,
            "visibility": null,
            "width": null
          }
        },
        "71ebde5e5aef4e2b8e1bb47d28579d8b": {
          "model_module": "@jupyter-widgets/controls",
          "model_name": "ProgressStyleModel",
          "model_module_version": "1.5.0",
          "state": {
            "_model_module": "@jupyter-widgets/controls",
            "_model_module_version": "1.5.0",
            "_model_name": "ProgressStyleModel",
            "_view_count": null,
            "_view_module": "@jupyter-widgets/base",
            "_view_module_version": "1.2.0",
            "_view_name": "StyleView",
            "bar_color": null,
            "description_width": ""
          }
        },
        "47ec5cab083841e4a647156f8636cc7d": {
          "model_module": "@jupyter-widgets/base",
          "model_name": "LayoutModel",
          "model_module_version": "1.2.0",
          "state": {
            "_model_module": "@jupyter-widgets/base",
            "_model_module_version": "1.2.0",
            "_model_name": "LayoutModel",
            "_view_count": null,
            "_view_module": "@jupyter-widgets/base",
            "_view_module_version": "1.2.0",
            "_view_name": "LayoutView",
            "align_content": null,
            "align_items": null,
            "align_self": null,
            "border": null,
            "bottom": null,
            "display": null,
            "flex": null,
            "flex_flow": null,
            "grid_area": null,
            "grid_auto_columns": null,
            "grid_auto_flow": null,
            "grid_auto_rows": null,
            "grid_column": null,
            "grid_gap": null,
            "grid_row": null,
            "grid_template_areas": null,
            "grid_template_columns": null,
            "grid_template_rows": null,
            "height": null,
            "justify_content": null,
            "justify_items": null,
            "left": null,
            "margin": null,
            "max_height": null,
            "max_width": null,
            "min_height": null,
            "min_width": null,
            "object_fit": null,
            "object_position": null,
            "order": null,
            "overflow": null,
            "overflow_x": null,
            "overflow_y": null,
            "padding": null,
            "right": null,
            "top": null,
            "visibility": null,
            "width": null
          }
        },
        "cd5c5c1bdbab4fc69cd97863b34e37db": {
          "model_module": "@jupyter-widgets/controls",
          "model_name": "DescriptionStyleModel",
          "model_module_version": "1.5.0",
          "state": {
            "_model_module": "@jupyter-widgets/controls",
            "_model_module_version": "1.5.0",
            "_model_name": "DescriptionStyleModel",
            "_view_count": null,
            "_view_module": "@jupyter-widgets/base",
            "_view_module_version": "1.2.0",
            "_view_name": "StyleView",
            "description_width": ""
          }
        },
        "136800529100410ead51d22f12aeca65": {
          "model_module": "@jupyter-widgets/controls",
          "model_name": "HBoxModel",
          "model_module_version": "1.5.0",
          "state": {
            "_dom_classes": [],
            "_model_module": "@jupyter-widgets/controls",
            "_model_module_version": "1.5.0",
            "_model_name": "HBoxModel",
            "_view_count": null,
            "_view_module": "@jupyter-widgets/controls",
            "_view_module_version": "1.5.0",
            "_view_name": "HBoxView",
            "box_style": "",
            "children": [
              "IPY_MODEL_00157332a8784902bacfd219f4d5684f",
              "IPY_MODEL_7c2647c76a8340f4881ea4af2c393c58",
              "IPY_MODEL_12d7931a6593445aa4fd6d5d4a9648a7"
            ],
            "layout": "IPY_MODEL_7e4733ecf1b04003b154438f1d679bba"
          }
        },
        "00157332a8784902bacfd219f4d5684f": {
          "model_module": "@jupyter-widgets/controls",
          "model_name": "HTMLModel",
          "model_module_version": "1.5.0",
          "state": {
            "_dom_classes": [],
            "_model_module": "@jupyter-widgets/controls",
            "_model_module_version": "1.5.0",
            "_model_name": "HTMLModel",
            "_view_count": null,
            "_view_module": "@jupyter-widgets/controls",
            "_view_module_version": "1.5.0",
            "_view_name": "HTMLView",
            "description": "",
            "description_tooltip": null,
            "layout": "IPY_MODEL_affeb6d286384b46ac749947fcfbb294",
            "placeholder": "​",
            "style": "IPY_MODEL_de27fb67d91649258471d0764b017916",
            "value": "merges.txt: 100%"
          }
        },
        "7c2647c76a8340f4881ea4af2c393c58": {
          "model_module": "@jupyter-widgets/controls",
          "model_name": "FloatProgressModel",
          "model_module_version": "1.5.0",
          "state": {
            "_dom_classes": [],
            "_model_module": "@jupyter-widgets/controls",
            "_model_module_version": "1.5.0",
            "_model_name": "FloatProgressModel",
            "_view_count": null,
            "_view_module": "@jupyter-widgets/controls",
            "_view_module_version": "1.5.0",
            "_view_name": "ProgressView",
            "bar_style": "success",
            "description": "",
            "description_tooltip": null,
            "layout": "IPY_MODEL_a71381a84f744ae9bc92c86fa8047ffa",
            "max": 456318,
            "min": 0,
            "orientation": "horizontal",
            "style": "IPY_MODEL_c911b57b1dba46dfb44d1db0e2a71dff",
            "value": 456318
          }
        },
        "12d7931a6593445aa4fd6d5d4a9648a7": {
          "model_module": "@jupyter-widgets/controls",
          "model_name": "HTMLModel",
          "model_module_version": "1.5.0",
          "state": {
            "_dom_classes": [],
            "_model_module": "@jupyter-widgets/controls",
            "_model_module_version": "1.5.0",
            "_model_name": "HTMLModel",
            "_view_count": null,
            "_view_module": "@jupyter-widgets/controls",
            "_view_module_version": "1.5.0",
            "_view_name": "HTMLView",
            "description": "",
            "description_tooltip": null,
            "layout": "IPY_MODEL_8d30253372424265910f0d9209077cec",
            "placeholder": "​",
            "style": "IPY_MODEL_af7ca5f2d6fe4a59a179d818a8a0b817",
            "value": " 456k/456k [00:00&lt;00:00, 18.7MB/s]"
          }
        },
        "7e4733ecf1b04003b154438f1d679bba": {
          "model_module": "@jupyter-widgets/base",
          "model_name": "LayoutModel",
          "model_module_version": "1.2.0",
          "state": {
            "_model_module": "@jupyter-widgets/base",
            "_model_module_version": "1.2.0",
            "_model_name": "LayoutModel",
            "_view_count": null,
            "_view_module": "@jupyter-widgets/base",
            "_view_module_version": "1.2.0",
            "_view_name": "LayoutView",
            "align_content": null,
            "align_items": null,
            "align_self": null,
            "border": null,
            "bottom": null,
            "display": null,
            "flex": null,
            "flex_flow": null,
            "grid_area": null,
            "grid_auto_columns": null,
            "grid_auto_flow": null,
            "grid_auto_rows": null,
            "grid_column": null,
            "grid_gap": null,
            "grid_row": null,
            "grid_template_areas": null,
            "grid_template_columns": null,
            "grid_template_rows": null,
            "height": null,
            "justify_content": null,
            "justify_items": null,
            "left": null,
            "margin": null,
            "max_height": null,
            "max_width": null,
            "min_height": null,
            "min_width": null,
            "object_fit": null,
            "object_position": null,
            "order": null,
            "overflow": null,
            "overflow_x": null,
            "overflow_y": null,
            "padding": null,
            "right": null,
            "top": null,
            "visibility": null,
            "width": null
          }
        },
        "affeb6d286384b46ac749947fcfbb294": {
          "model_module": "@jupyter-widgets/base",
          "model_name": "LayoutModel",
          "model_module_version": "1.2.0",
          "state": {
            "_model_module": "@jupyter-widgets/base",
            "_model_module_version": "1.2.0",
            "_model_name": "LayoutModel",
            "_view_count": null,
            "_view_module": "@jupyter-widgets/base",
            "_view_module_version": "1.2.0",
            "_view_name": "LayoutView",
            "align_content": null,
            "align_items": null,
            "align_self": null,
            "border": null,
            "bottom": null,
            "display": null,
            "flex": null,
            "flex_flow": null,
            "grid_area": null,
            "grid_auto_columns": null,
            "grid_auto_flow": null,
            "grid_auto_rows": null,
            "grid_column": null,
            "grid_gap": null,
            "grid_row": null,
            "grid_template_areas": null,
            "grid_template_columns": null,
            "grid_template_rows": null,
            "height": null,
            "justify_content": null,
            "justify_items": null,
            "left": null,
            "margin": null,
            "max_height": null,
            "max_width": null,
            "min_height": null,
            "min_width": null,
            "object_fit": null,
            "object_position": null,
            "order": null,
            "overflow": null,
            "overflow_x": null,
            "overflow_y": null,
            "padding": null,
            "right": null,
            "top": null,
            "visibility": null,
            "width": null
          }
        },
        "de27fb67d91649258471d0764b017916": {
          "model_module": "@jupyter-widgets/controls",
          "model_name": "DescriptionStyleModel",
          "model_module_version": "1.5.0",
          "state": {
            "_model_module": "@jupyter-widgets/controls",
            "_model_module_version": "1.5.0",
            "_model_name": "DescriptionStyleModel",
            "_view_count": null,
            "_view_module": "@jupyter-widgets/base",
            "_view_module_version": "1.2.0",
            "_view_name": "StyleView",
            "description_width": ""
          }
        },
        "a71381a84f744ae9bc92c86fa8047ffa": {
          "model_module": "@jupyter-widgets/base",
          "model_name": "LayoutModel",
          "model_module_version": "1.2.0",
          "state": {
            "_model_module": "@jupyter-widgets/base",
            "_model_module_version": "1.2.0",
            "_model_name": "LayoutModel",
            "_view_count": null,
            "_view_module": "@jupyter-widgets/base",
            "_view_module_version": "1.2.0",
            "_view_name": "LayoutView",
            "align_content": null,
            "align_items": null,
            "align_self": null,
            "border": null,
            "bottom": null,
            "display": null,
            "flex": null,
            "flex_flow": null,
            "grid_area": null,
            "grid_auto_columns": null,
            "grid_auto_flow": null,
            "grid_auto_rows": null,
            "grid_column": null,
            "grid_gap": null,
            "grid_row": null,
            "grid_template_areas": null,
            "grid_template_columns": null,
            "grid_template_rows": null,
            "height": null,
            "justify_content": null,
            "justify_items": null,
            "left": null,
            "margin": null,
            "max_height": null,
            "max_width": null,
            "min_height": null,
            "min_width": null,
            "object_fit": null,
            "object_position": null,
            "order": null,
            "overflow": null,
            "overflow_x": null,
            "overflow_y": null,
            "padding": null,
            "right": null,
            "top": null,
            "visibility": null,
            "width": null
          }
        },
        "c911b57b1dba46dfb44d1db0e2a71dff": {
          "model_module": "@jupyter-widgets/controls",
          "model_name": "ProgressStyleModel",
          "model_module_version": "1.5.0",
          "state": {
            "_model_module": "@jupyter-widgets/controls",
            "_model_module_version": "1.5.0",
            "_model_name": "ProgressStyleModel",
            "_view_count": null,
            "_view_module": "@jupyter-widgets/base",
            "_view_module_version": "1.2.0",
            "_view_name": "StyleView",
            "bar_color": null,
            "description_width": ""
          }
        },
        "8d30253372424265910f0d9209077cec": {
          "model_module": "@jupyter-widgets/base",
          "model_name": "LayoutModel",
          "model_module_version": "1.2.0",
          "state": {
            "_model_module": "@jupyter-widgets/base",
            "_model_module_version": "1.2.0",
            "_model_name": "LayoutModel",
            "_view_count": null,
            "_view_module": "@jupyter-widgets/base",
            "_view_module_version": "1.2.0",
            "_view_name": "LayoutView",
            "align_content": null,
            "align_items": null,
            "align_self": null,
            "border": null,
            "bottom": null,
            "display": null,
            "flex": null,
            "flex_flow": null,
            "grid_area": null,
            "grid_auto_columns": null,
            "grid_auto_flow": null,
            "grid_auto_rows": null,
            "grid_column": null,
            "grid_gap": null,
            "grid_row": null,
            "grid_template_areas": null,
            "grid_template_columns": null,
            "grid_template_rows": null,
            "height": null,
            "justify_content": null,
            "justify_items": null,
            "left": null,
            "margin": null,
            "max_height": null,
            "max_width": null,
            "min_height": null,
            "min_width": null,
            "object_fit": null,
            "object_position": null,
            "order": null,
            "overflow": null,
            "overflow_x": null,
            "overflow_y": null,
            "padding": null,
            "right": null,
            "top": null,
            "visibility": null,
            "width": null
          }
        },
        "af7ca5f2d6fe4a59a179d818a8a0b817": {
          "model_module": "@jupyter-widgets/controls",
          "model_name": "DescriptionStyleModel",
          "model_module_version": "1.5.0",
          "state": {
            "_model_module": "@jupyter-widgets/controls",
            "_model_module_version": "1.5.0",
            "_model_name": "DescriptionStyleModel",
            "_view_count": null,
            "_view_module": "@jupyter-widgets/base",
            "_view_module_version": "1.2.0",
            "_view_name": "StyleView",
            "description_width": ""
          }
        },
        "2241b7ac0d4e426d92f37b9e39937cbc": {
          "model_module": "@jupyter-widgets/controls",
          "model_name": "HBoxModel",
          "model_module_version": "1.5.0",
          "state": {
            "_dom_classes": [],
            "_model_module": "@jupyter-widgets/controls",
            "_model_module_version": "1.5.0",
            "_model_name": "HBoxModel",
            "_view_count": null,
            "_view_module": "@jupyter-widgets/controls",
            "_view_module_version": "1.5.0",
            "_view_name": "HBoxView",
            "box_style": "",
            "children": [
              "IPY_MODEL_083f496616794d05a780528f86dbf1c2",
              "IPY_MODEL_3fcd191d58534465a54a544f6ab38629",
              "IPY_MODEL_fe7898111c2c492a84b02605dc87dcc5"
            ],
            "layout": "IPY_MODEL_2b79a21e0e16404dbf0c01b04abdba60"
          }
        },
        "083f496616794d05a780528f86dbf1c2": {
          "model_module": "@jupyter-widgets/controls",
          "model_name": "HTMLModel",
          "model_module_version": "1.5.0",
          "state": {
            "_dom_classes": [],
            "_model_module": "@jupyter-widgets/controls",
            "_model_module_version": "1.5.0",
            "_model_name": "HTMLModel",
            "_view_count": null,
            "_view_module": "@jupyter-widgets/controls",
            "_view_module_version": "1.5.0",
            "_view_name": "HTMLView",
            "description": "",
            "description_tooltip": null,
            "layout": "IPY_MODEL_6ed925b26f614735aee06b66660a9fd7",
            "placeholder": "​",
            "style": "IPY_MODEL_ba4f48d4839d4ab1815c03a2f7212d6f",
            "value": "tokenizer.json: 100%"
          }
        },
        "3fcd191d58534465a54a544f6ab38629": {
          "model_module": "@jupyter-widgets/controls",
          "model_name": "FloatProgressModel",
          "model_module_version": "1.5.0",
          "state": {
            "_dom_classes": [],
            "_model_module": "@jupyter-widgets/controls",
            "_model_module_version": "1.5.0",
            "_model_name": "FloatProgressModel",
            "_view_count": null,
            "_view_module": "@jupyter-widgets/controls",
            "_view_module_version": "1.5.0",
            "_view_name": "ProgressView",
            "bar_style": "success",
            "description": "",
            "description_tooltip": null,
            "layout": "IPY_MODEL_de2ccd8fe1694d92989b213905197702",
            "max": 1355256,
            "min": 0,
            "orientation": "horizontal",
            "style": "IPY_MODEL_13a84c4b93254a119c47bfea8855de38",
            "value": 1355256
          }
        },
        "fe7898111c2c492a84b02605dc87dcc5": {
          "model_module": "@jupyter-widgets/controls",
          "model_name": "HTMLModel",
          "model_module_version": "1.5.0",
          "state": {
            "_dom_classes": [],
            "_model_module": "@jupyter-widgets/controls",
            "_model_module_version": "1.5.0",
            "_model_name": "HTMLModel",
            "_view_count": null,
            "_view_module": "@jupyter-widgets/controls",
            "_view_module_version": "1.5.0",
            "_view_name": "HTMLView",
            "description": "",
            "description_tooltip": null,
            "layout": "IPY_MODEL_1f47381de33d4dd299b5d06c5da2be3e",
            "placeholder": "​",
            "style": "IPY_MODEL_7e98220062a0421c9cd0c42d17cdb2fa",
            "value": " 1.36M/1.36M [00:00&lt;00:00, 6.80MB/s]"
          }
        },
        "2b79a21e0e16404dbf0c01b04abdba60": {
          "model_module": "@jupyter-widgets/base",
          "model_name": "LayoutModel",
          "model_module_version": "1.2.0",
          "state": {
            "_model_module": "@jupyter-widgets/base",
            "_model_module_version": "1.2.0",
            "_model_name": "LayoutModel",
            "_view_count": null,
            "_view_module": "@jupyter-widgets/base",
            "_view_module_version": "1.2.0",
            "_view_name": "LayoutView",
            "align_content": null,
            "align_items": null,
            "align_self": null,
            "border": null,
            "bottom": null,
            "display": null,
            "flex": null,
            "flex_flow": null,
            "grid_area": null,
            "grid_auto_columns": null,
            "grid_auto_flow": null,
            "grid_auto_rows": null,
            "grid_column": null,
            "grid_gap": null,
            "grid_row": null,
            "grid_template_areas": null,
            "grid_template_columns": null,
            "grid_template_rows": null,
            "height": null,
            "justify_content": null,
            "justify_items": null,
            "left": null,
            "margin": null,
            "max_height": null,
            "max_width": null,
            "min_height": null,
            "min_width": null,
            "object_fit": null,
            "object_position": null,
            "order": null,
            "overflow": null,
            "overflow_x": null,
            "overflow_y": null,
            "padding": null,
            "right": null,
            "top": null,
            "visibility": null,
            "width": null
          }
        },
        "6ed925b26f614735aee06b66660a9fd7": {
          "model_module": "@jupyter-widgets/base",
          "model_name": "LayoutModel",
          "model_module_version": "1.2.0",
          "state": {
            "_model_module": "@jupyter-widgets/base",
            "_model_module_version": "1.2.0",
            "_model_name": "LayoutModel",
            "_view_count": null,
            "_view_module": "@jupyter-widgets/base",
            "_view_module_version": "1.2.0",
            "_view_name": "LayoutView",
            "align_content": null,
            "align_items": null,
            "align_self": null,
            "border": null,
            "bottom": null,
            "display": null,
            "flex": null,
            "flex_flow": null,
            "grid_area": null,
            "grid_auto_columns": null,
            "grid_auto_flow": null,
            "grid_auto_rows": null,
            "grid_column": null,
            "grid_gap": null,
            "grid_row": null,
            "grid_template_areas": null,
            "grid_template_columns": null,
            "grid_template_rows": null,
            "height": null,
            "justify_content": null,
            "justify_items": null,
            "left": null,
            "margin": null,
            "max_height": null,
            "max_width": null,
            "min_height": null,
            "min_width": null,
            "object_fit": null,
            "object_position": null,
            "order": null,
            "overflow": null,
            "overflow_x": null,
            "overflow_y": null,
            "padding": null,
            "right": null,
            "top": null,
            "visibility": null,
            "width": null
          }
        },
        "ba4f48d4839d4ab1815c03a2f7212d6f": {
          "model_module": "@jupyter-widgets/controls",
          "model_name": "DescriptionStyleModel",
          "model_module_version": "1.5.0",
          "state": {
            "_model_module": "@jupyter-widgets/controls",
            "_model_module_version": "1.5.0",
            "_model_name": "DescriptionStyleModel",
            "_view_count": null,
            "_view_module": "@jupyter-widgets/base",
            "_view_module_version": "1.2.0",
            "_view_name": "StyleView",
            "description_width": ""
          }
        },
        "de2ccd8fe1694d92989b213905197702": {
          "model_module": "@jupyter-widgets/base",
          "model_name": "LayoutModel",
          "model_module_version": "1.2.0",
          "state": {
            "_model_module": "@jupyter-widgets/base",
            "_model_module_version": "1.2.0",
            "_model_name": "LayoutModel",
            "_view_count": null,
            "_view_module": "@jupyter-widgets/base",
            "_view_module_version": "1.2.0",
            "_view_name": "LayoutView",
            "align_content": null,
            "align_items": null,
            "align_self": null,
            "border": null,
            "bottom": null,
            "display": null,
            "flex": null,
            "flex_flow": null,
            "grid_area": null,
            "grid_auto_columns": null,
            "grid_auto_flow": null,
            "grid_auto_rows": null,
            "grid_column": null,
            "grid_gap": null,
            "grid_row": null,
            "grid_template_areas": null,
            "grid_template_columns": null,
            "grid_template_rows": null,
            "height": null,
            "justify_content": null,
            "justify_items": null,
            "left": null,
            "margin": null,
            "max_height": null,
            "max_width": null,
            "min_height": null,
            "min_width": null,
            "object_fit": null,
            "object_position": null,
            "order": null,
            "overflow": null,
            "overflow_x": null,
            "overflow_y": null,
            "padding": null,
            "right": null,
            "top": null,
            "visibility": null,
            "width": null
          }
        },
        "13a84c4b93254a119c47bfea8855de38": {
          "model_module": "@jupyter-widgets/controls",
          "model_name": "ProgressStyleModel",
          "model_module_version": "1.5.0",
          "state": {
            "_model_module": "@jupyter-widgets/controls",
            "_model_module_version": "1.5.0",
            "_model_name": "ProgressStyleModel",
            "_view_count": null,
            "_view_module": "@jupyter-widgets/base",
            "_view_module_version": "1.2.0",
            "_view_name": "StyleView",
            "bar_color": null,
            "description_width": ""
          }
        },
        "1f47381de33d4dd299b5d06c5da2be3e": {
          "model_module": "@jupyter-widgets/base",
          "model_name": "LayoutModel",
          "model_module_version": "1.2.0",
          "state": {
            "_model_module": "@jupyter-widgets/base",
            "_model_module_version": "1.2.0",
            "_model_name": "LayoutModel",
            "_view_count": null,
            "_view_module": "@jupyter-widgets/base",
            "_view_module_version": "1.2.0",
            "_view_name": "LayoutView",
            "align_content": null,
            "align_items": null,
            "align_self": null,
            "border": null,
            "bottom": null,
            "display": null,
            "flex": null,
            "flex_flow": null,
            "grid_area": null,
            "grid_auto_columns": null,
            "grid_auto_flow": null,
            "grid_auto_rows": null,
            "grid_column": null,
            "grid_gap": null,
            "grid_row": null,
            "grid_template_areas": null,
            "grid_template_columns": null,
            "grid_template_rows": null,
            "height": null,
            "justify_content": null,
            "justify_items": null,
            "left": null,
            "margin": null,
            "max_height": null,
            "max_width": null,
            "min_height": null,
            "min_width": null,
            "object_fit": null,
            "object_position": null,
            "order": null,
            "overflow": null,
            "overflow_x": null,
            "overflow_y": null,
            "padding": null,
            "right": null,
            "top": null,
            "visibility": null,
            "width": null
          }
        },
        "7e98220062a0421c9cd0c42d17cdb2fa": {
          "model_module": "@jupyter-widgets/controls",
          "model_name": "DescriptionStyleModel",
          "model_module_version": "1.5.0",
          "state": {
            "_model_module": "@jupyter-widgets/controls",
            "_model_module_version": "1.5.0",
            "_model_name": "DescriptionStyleModel",
            "_view_count": null,
            "_view_module": "@jupyter-widgets/base",
            "_view_module_version": "1.2.0",
            "_view_name": "StyleView",
            "description_width": ""
          }
        },
        "00937857ef304ff7802a8e79a4fbe817": {
          "model_module": "@jupyter-widgets/controls",
          "model_name": "HBoxModel",
          "model_module_version": "1.5.0",
          "state": {
            "_dom_classes": [],
            "_model_module": "@jupyter-widgets/controls",
            "_model_module_version": "1.5.0",
            "_model_name": "HBoxModel",
            "_view_count": null,
            "_view_module": "@jupyter-widgets/controls",
            "_view_module_version": "1.5.0",
            "_view_name": "HBoxView",
            "box_style": "",
            "children": [
              "IPY_MODEL_822729f1a5da432ba1f32c7596324e8e",
              "IPY_MODEL_6b833501dfef4f6dabc6316818aa2924",
              "IPY_MODEL_d8ff29d6d9c146dbac65bdebd5b166cf"
            ],
            "layout": "IPY_MODEL_ad92032d971a484186b7efae27d8976a"
          }
        },
        "822729f1a5da432ba1f32c7596324e8e": {
          "model_module": "@jupyter-widgets/controls",
          "model_name": "HTMLModel",
          "model_module_version": "1.5.0",
          "state": {
            "_dom_classes": [],
            "_model_module": "@jupyter-widgets/controls",
            "_model_module_version": "1.5.0",
            "_model_name": "HTMLModel",
            "_view_count": null,
            "_view_module": "@jupyter-widgets/controls",
            "_view_module_version": "1.5.0",
            "_view_name": "HTMLView",
            "description": "",
            "description_tooltip": null,
            "layout": "IPY_MODEL_8b1236a77954489792ea18b9d5908cd9",
            "placeholder": "​",
            "style": "IPY_MODEL_7acfdbf91be5463499e7789d45261c13",
            "value": "config.json: 100%"
          }
        },
        "6b833501dfef4f6dabc6316818aa2924": {
          "model_module": "@jupyter-widgets/controls",
          "model_name": "FloatProgressModel",
          "model_module_version": "1.5.0",
          "state": {
            "_dom_classes": [],
            "_model_module": "@jupyter-widgets/controls",
            "_model_module_version": "1.5.0",
            "_model_name": "FloatProgressModel",
            "_view_count": null,
            "_view_module": "@jupyter-widgets/controls",
            "_view_module_version": "1.5.0",
            "_view_name": "ProgressView",
            "bar_style": "success",
            "description": "",
            "description_tooltip": null,
            "layout": "IPY_MODEL_a8d0be54ffbb474496859f6ac163f365",
            "max": 665,
            "min": 0,
            "orientation": "horizontal",
            "style": "IPY_MODEL_c5db04205830473380cb1896ec1d353f",
            "value": 665
          }
        },
        "d8ff29d6d9c146dbac65bdebd5b166cf": {
          "model_module": "@jupyter-widgets/controls",
          "model_name": "HTMLModel",
          "model_module_version": "1.5.0",
          "state": {
            "_dom_classes": [],
            "_model_module": "@jupyter-widgets/controls",
            "_model_module_version": "1.5.0",
            "_model_name": "HTMLModel",
            "_view_count": null,
            "_view_module": "@jupyter-widgets/controls",
            "_view_module_version": "1.5.0",
            "_view_name": "HTMLView",
            "description": "",
            "description_tooltip": null,
            "layout": "IPY_MODEL_fb80e160b0284a16957e2d822f18c7ac",
            "placeholder": "​",
            "style": "IPY_MODEL_fc52e08222ea4b63b9d1d7a17203ade7",
            "value": " 665/665 [00:00&lt;00:00, 46.1kB/s]"
          }
        },
        "ad92032d971a484186b7efae27d8976a": {
          "model_module": "@jupyter-widgets/base",
          "model_name": "LayoutModel",
          "model_module_version": "1.2.0",
          "state": {
            "_model_module": "@jupyter-widgets/base",
            "_model_module_version": "1.2.0",
            "_model_name": "LayoutModel",
            "_view_count": null,
            "_view_module": "@jupyter-widgets/base",
            "_view_module_version": "1.2.0",
            "_view_name": "LayoutView",
            "align_content": null,
            "align_items": null,
            "align_self": null,
            "border": null,
            "bottom": null,
            "display": null,
            "flex": null,
            "flex_flow": null,
            "grid_area": null,
            "grid_auto_columns": null,
            "grid_auto_flow": null,
            "grid_auto_rows": null,
            "grid_column": null,
            "grid_gap": null,
            "grid_row": null,
            "grid_template_areas": null,
            "grid_template_columns": null,
            "grid_template_rows": null,
            "height": null,
            "justify_content": null,
            "justify_items": null,
            "left": null,
            "margin": null,
            "max_height": null,
            "max_width": null,
            "min_height": null,
            "min_width": null,
            "object_fit": null,
            "object_position": null,
            "order": null,
            "overflow": null,
            "overflow_x": null,
            "overflow_y": null,
            "padding": null,
            "right": null,
            "top": null,
            "visibility": null,
            "width": null
          }
        },
        "8b1236a77954489792ea18b9d5908cd9": {
          "model_module": "@jupyter-widgets/base",
          "model_name": "LayoutModel",
          "model_module_version": "1.2.0",
          "state": {
            "_model_module": "@jupyter-widgets/base",
            "_model_module_version": "1.2.0",
            "_model_name": "LayoutModel",
            "_view_count": null,
            "_view_module": "@jupyter-widgets/base",
            "_view_module_version": "1.2.0",
            "_view_name": "LayoutView",
            "align_content": null,
            "align_items": null,
            "align_self": null,
            "border": null,
            "bottom": null,
            "display": null,
            "flex": null,
            "flex_flow": null,
            "grid_area": null,
            "grid_auto_columns": null,
            "grid_auto_flow": null,
            "grid_auto_rows": null,
            "grid_column": null,
            "grid_gap": null,
            "grid_row": null,
            "grid_template_areas": null,
            "grid_template_columns": null,
            "grid_template_rows": null,
            "height": null,
            "justify_content": null,
            "justify_items": null,
            "left": null,
            "margin": null,
            "max_height": null,
            "max_width": null,
            "min_height": null,
            "min_width": null,
            "object_fit": null,
            "object_position": null,
            "order": null,
            "overflow": null,
            "overflow_x": null,
            "overflow_y": null,
            "padding": null,
            "right": null,
            "top": null,
            "visibility": null,
            "width": null
          }
        },
        "7acfdbf91be5463499e7789d45261c13": {
          "model_module": "@jupyter-widgets/controls",
          "model_name": "DescriptionStyleModel",
          "model_module_version": "1.5.0",
          "state": {
            "_model_module": "@jupyter-widgets/controls",
            "_model_module_version": "1.5.0",
            "_model_name": "DescriptionStyleModel",
            "_view_count": null,
            "_view_module": "@jupyter-widgets/base",
            "_view_module_version": "1.2.0",
            "_view_name": "StyleView",
            "description_width": ""
          }
        },
        "a8d0be54ffbb474496859f6ac163f365": {
          "model_module": "@jupyter-widgets/base",
          "model_name": "LayoutModel",
          "model_module_version": "1.2.0",
          "state": {
            "_model_module": "@jupyter-widgets/base",
            "_model_module_version": "1.2.0",
            "_model_name": "LayoutModel",
            "_view_count": null,
            "_view_module": "@jupyter-widgets/base",
            "_view_module_version": "1.2.0",
            "_view_name": "LayoutView",
            "align_content": null,
            "align_items": null,
            "align_self": null,
            "border": null,
            "bottom": null,
            "display": null,
            "flex": null,
            "flex_flow": null,
            "grid_area": null,
            "grid_auto_columns": null,
            "grid_auto_flow": null,
            "grid_auto_rows": null,
            "grid_column": null,
            "grid_gap": null,
            "grid_row": null,
            "grid_template_areas": null,
            "grid_template_columns": null,
            "grid_template_rows": null,
            "height": null,
            "justify_content": null,
            "justify_items": null,
            "left": null,
            "margin": null,
            "max_height": null,
            "max_width": null,
            "min_height": null,
            "min_width": null,
            "object_fit": null,
            "object_position": null,
            "order": null,
            "overflow": null,
            "overflow_x": null,
            "overflow_y": null,
            "padding": null,
            "right": null,
            "top": null,
            "visibility": null,
            "width": null
          }
        },
        "c5db04205830473380cb1896ec1d353f": {
          "model_module": "@jupyter-widgets/controls",
          "model_name": "ProgressStyleModel",
          "model_module_version": "1.5.0",
          "state": {
            "_model_module": "@jupyter-widgets/controls",
            "_model_module_version": "1.5.0",
            "_model_name": "ProgressStyleModel",
            "_view_count": null,
            "_view_module": "@jupyter-widgets/base",
            "_view_module_version": "1.2.0",
            "_view_name": "StyleView",
            "bar_color": null,
            "description_width": ""
          }
        },
        "fb80e160b0284a16957e2d822f18c7ac": {
          "model_module": "@jupyter-widgets/base",
          "model_name": "LayoutModel",
          "model_module_version": "1.2.0",
          "state": {
            "_model_module": "@jupyter-widgets/base",
            "_model_module_version": "1.2.0",
            "_model_name": "LayoutModel",
            "_view_count": null,
            "_view_module": "@jupyter-widgets/base",
            "_view_module_version": "1.2.0",
            "_view_name": "LayoutView",
            "align_content": null,
            "align_items": null,
            "align_self": null,
            "border": null,
            "bottom": null,
            "display": null,
            "flex": null,
            "flex_flow": null,
            "grid_area": null,
            "grid_auto_columns": null,
            "grid_auto_flow": null,
            "grid_auto_rows": null,
            "grid_column": null,
            "grid_gap": null,
            "grid_row": null,
            "grid_template_areas": null,
            "grid_template_columns": null,
            "grid_template_rows": null,
            "height": null,
            "justify_content": null,
            "justify_items": null,
            "left": null,
            "margin": null,
            "max_height": null,
            "max_width": null,
            "min_height": null,
            "min_width": null,
            "object_fit": null,
            "object_position": null,
            "order": null,
            "overflow": null,
            "overflow_x": null,
            "overflow_y": null,
            "padding": null,
            "right": null,
            "top": null,
            "visibility": null,
            "width": null
          }
        },
        "fc52e08222ea4b63b9d1d7a17203ade7": {
          "model_module": "@jupyter-widgets/controls",
          "model_name": "DescriptionStyleModel",
          "model_module_version": "1.5.0",
          "state": {
            "_model_module": "@jupyter-widgets/controls",
            "_model_module_version": "1.5.0",
            "_model_name": "DescriptionStyleModel",
            "_view_count": null,
            "_view_module": "@jupyter-widgets/base",
            "_view_module_version": "1.2.0",
            "_view_name": "StyleView",
            "description_width": ""
          }
        },
        "1a2a03bf04ee4abf941bb9058d4b2eb7": {
          "model_module": "@jupyter-widgets/controls",
          "model_name": "HBoxModel",
          "model_module_version": "1.5.0",
          "state": {
            "_dom_classes": [],
            "_model_module": "@jupyter-widgets/controls",
            "_model_module_version": "1.5.0",
            "_model_name": "HBoxModel",
            "_view_count": null,
            "_view_module": "@jupyter-widgets/controls",
            "_view_module_version": "1.5.0",
            "_view_name": "HBoxView",
            "box_style": "",
            "children": [
              "IPY_MODEL_92ed16ba1be949659b0027d10fefc261",
              "IPY_MODEL_d4e1929317c34e4a89cb776e239c23cf",
              "IPY_MODEL_50c5b30e721c4dd182f099ef703e16c9"
            ],
            "layout": "IPY_MODEL_8469ed43b4104a04b50c0f09ae151617"
          }
        },
        "92ed16ba1be949659b0027d10fefc261": {
          "model_module": "@jupyter-widgets/controls",
          "model_name": "HTMLModel",
          "model_module_version": "1.5.0",
          "state": {
            "_dom_classes": [],
            "_model_module": "@jupyter-widgets/controls",
            "_model_module_version": "1.5.0",
            "_model_name": "HTMLModel",
            "_view_count": null,
            "_view_module": "@jupyter-widgets/controls",
            "_view_module_version": "1.5.0",
            "_view_name": "HTMLView",
            "description": "",
            "description_tooltip": null,
            "layout": "IPY_MODEL_ffc42d480b7c450388b006b544c7e98d",
            "placeholder": "​",
            "style": "IPY_MODEL_7072dc9873dd42c6bf442aec18bfd5e8",
            "value": "model.safetensors: 100%"
          }
        },
        "d4e1929317c34e4a89cb776e239c23cf": {
          "model_module": "@jupyter-widgets/controls",
          "model_name": "FloatProgressModel",
          "model_module_version": "1.5.0",
          "state": {
            "_dom_classes": [],
            "_model_module": "@jupyter-widgets/controls",
            "_model_module_version": "1.5.0",
            "_model_name": "FloatProgressModel",
            "_view_count": null,
            "_view_module": "@jupyter-widgets/controls",
            "_view_module_version": "1.5.0",
            "_view_name": "ProgressView",
            "bar_style": "success",
            "description": "",
            "description_tooltip": null,
            "layout": "IPY_MODEL_41e680ccd1af428a9cc939f02dba2f73",
            "max": 891646390,
            "min": 0,
            "orientation": "horizontal",
            "style": "IPY_MODEL_6aa8accc60bb44879fa9f8c4db3f49fe",
            "value": 891646390
          }
        },
        "50c5b30e721c4dd182f099ef703e16c9": {
          "model_module": "@jupyter-widgets/controls",
          "model_name": "HTMLModel",
          "model_module_version": "1.5.0",
          "state": {
            "_dom_classes": [],
            "_model_module": "@jupyter-widgets/controls",
            "_model_module_version": "1.5.0",
            "_model_name": "HTMLModel",
            "_view_count": null,
            "_view_module": "@jupyter-widgets/controls",
            "_view_module_version": "1.5.0",
            "_view_name": "HTMLView",
            "description": "",
            "description_tooltip": null,
            "layout": "IPY_MODEL_698dc213b3db4520bd1dd0ff5efa7ab7",
            "placeholder": "​",
            "style": "IPY_MODEL_0a62ad880e5c446dadf3e3c26923201c",
            "value": " 892M/892M [00:10&lt;00:00, 161MB/s]"
          }
        },
        "8469ed43b4104a04b50c0f09ae151617": {
          "model_module": "@jupyter-widgets/base",
          "model_name": "LayoutModel",
          "model_module_version": "1.2.0",
          "state": {
            "_model_module": "@jupyter-widgets/base",
            "_model_module_version": "1.2.0",
            "_model_name": "LayoutModel",
            "_view_count": null,
            "_view_module": "@jupyter-widgets/base",
            "_view_module_version": "1.2.0",
            "_view_name": "LayoutView",
            "align_content": null,
            "align_items": null,
            "align_self": null,
            "border": null,
            "bottom": null,
            "display": null,
            "flex": null,
            "flex_flow": null,
            "grid_area": null,
            "grid_auto_columns": null,
            "grid_auto_flow": null,
            "grid_auto_rows": null,
            "grid_column": null,
            "grid_gap": null,
            "grid_row": null,
            "grid_template_areas": null,
            "grid_template_columns": null,
            "grid_template_rows": null,
            "height": null,
            "justify_content": null,
            "justify_items": null,
            "left": null,
            "margin": null,
            "max_height": null,
            "max_width": null,
            "min_height": null,
            "min_width": null,
            "object_fit": null,
            "object_position": null,
            "order": null,
            "overflow": null,
            "overflow_x": null,
            "overflow_y": null,
            "padding": null,
            "right": null,
            "top": null,
            "visibility": null,
            "width": null
          }
        },
        "ffc42d480b7c450388b006b544c7e98d": {
          "model_module": "@jupyter-widgets/base",
          "model_name": "LayoutModel",
          "model_module_version": "1.2.0",
          "state": {
            "_model_module": "@jupyter-widgets/base",
            "_model_module_version": "1.2.0",
            "_model_name": "LayoutModel",
            "_view_count": null,
            "_view_module": "@jupyter-widgets/base",
            "_view_module_version": "1.2.0",
            "_view_name": "LayoutView",
            "align_content": null,
            "align_items": null,
            "align_self": null,
            "border": null,
            "bottom": null,
            "display": null,
            "flex": null,
            "flex_flow": null,
            "grid_area": null,
            "grid_auto_columns": null,
            "grid_auto_flow": null,
            "grid_auto_rows": null,
            "grid_column": null,
            "grid_gap": null,
            "grid_row": null,
            "grid_template_areas": null,
            "grid_template_columns": null,
            "grid_template_rows": null,
            "height": null,
            "justify_content": null,
            "justify_items": null,
            "left": null,
            "margin": null,
            "max_height": null,
            "max_width": null,
            "min_height": null,
            "min_width": null,
            "object_fit": null,
            "object_position": null,
            "order": null,
            "overflow": null,
            "overflow_x": null,
            "overflow_y": null,
            "padding": null,
            "right": null,
            "top": null,
            "visibility": null,
            "width": null
          }
        },
        "7072dc9873dd42c6bf442aec18bfd5e8": {
          "model_module": "@jupyter-widgets/controls",
          "model_name": "DescriptionStyleModel",
          "model_module_version": "1.5.0",
          "state": {
            "_model_module": "@jupyter-widgets/controls",
            "_model_module_version": "1.5.0",
            "_model_name": "DescriptionStyleModel",
            "_view_count": null,
            "_view_module": "@jupyter-widgets/base",
            "_view_module_version": "1.2.0",
            "_view_name": "StyleView",
            "description_width": ""
          }
        },
        "41e680ccd1af428a9cc939f02dba2f73": {
          "model_module": "@jupyter-widgets/base",
          "model_name": "LayoutModel",
          "model_module_version": "1.2.0",
          "state": {
            "_model_module": "@jupyter-widgets/base",
            "_model_module_version": "1.2.0",
            "_model_name": "LayoutModel",
            "_view_count": null,
            "_view_module": "@jupyter-widgets/base",
            "_view_module_version": "1.2.0",
            "_view_name": "LayoutView",
            "align_content": null,
            "align_items": null,
            "align_self": null,
            "border": null,
            "bottom": null,
            "display": null,
            "flex": null,
            "flex_flow": null,
            "grid_area": null,
            "grid_auto_columns": null,
            "grid_auto_flow": null,
            "grid_auto_rows": null,
            "grid_column": null,
            "grid_gap": null,
            "grid_row": null,
            "grid_template_areas": null,
            "grid_template_columns": null,
            "grid_template_rows": null,
            "height": null,
            "justify_content": null,
            "justify_items": null,
            "left": null,
            "margin": null,
            "max_height": null,
            "max_width": null,
            "min_height": null,
            "min_width": null,
            "object_fit": null,
            "object_position": null,
            "order": null,
            "overflow": null,
            "overflow_x": null,
            "overflow_y": null,
            "padding": null,
            "right": null,
            "top": null,
            "visibility": null,
            "width": null
          }
        },
        "6aa8accc60bb44879fa9f8c4db3f49fe": {
          "model_module": "@jupyter-widgets/controls",
          "model_name": "ProgressStyleModel",
          "model_module_version": "1.5.0",
          "state": {
            "_model_module": "@jupyter-widgets/controls",
            "_model_module_version": "1.5.0",
            "_model_name": "ProgressStyleModel",
            "_view_count": null,
            "_view_module": "@jupyter-widgets/base",
            "_view_module_version": "1.2.0",
            "_view_name": "StyleView",
            "bar_color": null,
            "description_width": ""
          }
        },
        "698dc213b3db4520bd1dd0ff5efa7ab7": {
          "model_module": "@jupyter-widgets/base",
          "model_name": "LayoutModel",
          "model_module_version": "1.2.0",
          "state": {
            "_model_module": "@jupyter-widgets/base",
            "_model_module_version": "1.2.0",
            "_model_name": "LayoutModel",
            "_view_count": null,
            "_view_module": "@jupyter-widgets/base",
            "_view_module_version": "1.2.0",
            "_view_name": "LayoutView",
            "align_content": null,
            "align_items": null,
            "align_self": null,
            "border": null,
            "bottom": null,
            "display": null,
            "flex": null,
            "flex_flow": null,
            "grid_area": null,
            "grid_auto_columns": null,
            "grid_auto_flow": null,
            "grid_auto_rows": null,
            "grid_column": null,
            "grid_gap": null,
            "grid_row": null,
            "grid_template_areas": null,
            "grid_template_columns": null,
            "grid_template_rows": null,
            "height": null,
            "justify_content": null,
            "justify_items": null,
            "left": null,
            "margin": null,
            "max_height": null,
            "max_width": null,
            "min_height": null,
            "min_width": null,
            "object_fit": null,
            "object_position": null,
            "order": null,
            "overflow": null,
            "overflow_x": null,
            "overflow_y": null,
            "padding": null,
            "right": null,
            "top": null,
            "visibility": null,
            "width": null
          }
        },
        "0a62ad880e5c446dadf3e3c26923201c": {
          "model_module": "@jupyter-widgets/controls",
          "model_name": "DescriptionStyleModel",
          "model_module_version": "1.5.0",
          "state": {
            "_model_module": "@jupyter-widgets/controls",
            "_model_module_version": "1.5.0",
            "_model_name": "DescriptionStyleModel",
            "_view_count": null,
            "_view_module": "@jupyter-widgets/base",
            "_view_module_version": "1.2.0",
            "_view_name": "StyleView",
            "description_width": ""
          }
        }
      }
    }
  },
  "nbformat_minor": 0,
  "nbformat": 4,
  "cells": [
    {
      "cell_type": "markdown",
      "metadata": {
        "id": "view-in-github",
        "colab_type": "text"
      },
      "source": [
        "<a href=\"https://colab.research.google.com/github/24-FYP-Automated-Feedback-Generation/Adaptive-attention/blob/main/cross_attention_with_prompts_and_weights.ipynb\" target=\"_parent\"><img src=\"https://colab.research.google.com/assets/colab-badge.svg\" alt=\"Open In Colab\"/></a>"
      ]
    },
    {
      "source": [
        "# IMPORTANT: RUN THIS CELL IN ORDER TO IMPORT YOUR KAGGLE DATA SOURCES,\n",
        "# THEN FEEL FREE TO DELETE THIS CELL.\n",
        "# NOTE: THIS NOTEBOOK ENVIRONMENT DIFFERS FROM KAGGLE'S PYTHON\n",
        "# ENVIRONMENT SO THERE MAY BE MISSING LIBRARIES USED BY YOUR\n",
        "# NOTEBOOK.\n",
        "import kagglehub\n",
        "uom200407h_modified_dataset_path = kagglehub.dataset_download('uom200407h/modified-dataset')\n",
        "uom200644f_metacognitive_dataset_path = kagglehub.dataset_download('uom200644f/metacognitive-dataset')\n",
        "bashadithennakoon_metacognitive_feedback_for_algorithm_solving_path = kagglehub.dataset_download('bashadithennakoon/metacognitive-feedback-for-algorithm-solving')\n",
        "\n",
        "print('Data source import complete.')\n"
      ],
      "metadata": {
        "id": "BG7ViSSvPbie"
      },
      "cell_type": "code",
      "outputs": [],
      "execution_count": null
    },
    {
      "cell_type": "code",
      "source": [
        "# IMPORTANT: RUN THIS CELL IN ORDER TO IMPORT YOUR KAGGLE DATA SOURCES,\n",
        "# THEN FEEL FREE TO DELETE THIS CELL.\n",
        "# NOTE: THIS NOTEBOOK ENVIRONMENT DIFFERS FROM KAGGLE'S PYTHON\n",
        "# ENVIRONMENT SO THERE MAY BE MISSING LIBRARIES USED BY YOUR\n",
        "# NOTEBOOK.\n",
        "import kagglehub\n",
        "uom200407h_modified_dataset_path = kagglehub.dataset_download('uom200407h/modified-dataset')\n",
        "uom200644f_metacognitive_dataset_path = kagglehub.dataset_download('uom200644f/metacognitive-dataset')\n",
        "bashadithennakoon_metacognitive_feedback_for_algorithm_solving_path = kagglehub.dataset_download('bashadithennakoon/metacognitive-feedback-for-algorithm-solving')\n",
        "\n",
        "print('Data source import complete.')\n"
      ],
      "metadata": {
        "id": "WZPr7xkva7Id"
      },
      "outputs": [],
      "execution_count": null
    },
    {
      "cell_type": "code",
      "source": [
        "# This Python 3 environment comes with many helpful analytics libraries installed\n",
        "# It is defined by the kaggle/python Docker image: https://github.com/kaggle/docker-python\n",
        "# For example, here's several helpful packages to load\n",
        "\n",
        "import numpy as np # linear algebra\n",
        "import pandas as pd # data processing, CSV file I/O (e.g. pd.read_csv)\n",
        "\n",
        "# Input data files are available in the read-only \"../input/\" directory\n",
        "# For example, running this (by clicking run or pressing Shift+Enter) will list all files under the input directory\n",
        "\n",
        "import os\n",
        "for dirname, _, filenames in os.walk('/kaggle/input'):\n",
        "    for filename in filenames:\n",
        "        print(os.path.join(dirname, filename))\n",
        "\n",
        "# You can write up to 20GB to the current directory (/kaggle/working/) that gets preserved as output when you create a version using \"Save & Run All\"\n",
        "# You can also write temporary files to /kaggle/temp/, but they won't be saved outside of the current session"
      ],
      "metadata": {
        "_uuid": "8f2839f25d086af736a60e9eeb907d3b93b6e0e5",
        "_cell_guid": "b1076dfc-b9ad-4769-8c92-a6c4dae69d19",
        "trusted": true,
        "id": "XOEjCcHQa7Ii",
        "execution": {
          "iopub.status.busy": "2025-01-10T08:00:28.17245Z",
          "iopub.execute_input": "2025-01-10T08:00:28.172853Z",
          "iopub.status.idle": "2025-01-10T08:00:28.47351Z",
          "shell.execute_reply.started": "2025-01-10T08:00:28.172822Z",
          "shell.execute_reply": "2025-01-10T08:00:28.472863Z"
        }
      },
      "outputs": [],
      "execution_count": 1
    },
    {
      "cell_type": "code",
      "source": [
        "pip install transformers torch"
      ],
      "metadata": {
        "trusted": true,
        "execution": {
          "iopub.status.busy": "2025-01-10T08:00:30.832873Z",
          "iopub.execute_input": "2025-01-10T08:00:30.833269Z",
          "iopub.status.idle": "2025-01-10T08:00:35.170121Z",
          "shell.execute_reply.started": "2025-01-10T08:00:30.833236Z",
          "shell.execute_reply": "2025-01-10T08:00:35.169226Z"
        },
        "id": "TYCjdbZUa7Ij",
        "outputId": "06abf52c-7a99-4fcc-87a3-8e22dc8deb7a",
        "colab": {
          "base_uri": "https://localhost:8080/"
        }
      },
      "outputs": [
        {
          "output_type": "stream",
          "name": "stdout",
          "text": [
            "Requirement already satisfied: transformers in /usr/local/lib/python3.10/dist-packages (4.47.1)\n",
            "Requirement already satisfied: torch in /usr/local/lib/python3.10/dist-packages (2.5.1+cu121)\n",
            "Requirement already satisfied: filelock in /usr/local/lib/python3.10/dist-packages (from transformers) (3.16.1)\n",
            "Requirement already satisfied: huggingface-hub<1.0,>=0.24.0 in /usr/local/lib/python3.10/dist-packages (from transformers) (0.27.1)\n",
            "Requirement already satisfied: numpy>=1.17 in /usr/local/lib/python3.10/dist-packages (from transformers) (1.26.4)\n",
            "Requirement already satisfied: packaging>=20.0 in /usr/local/lib/python3.10/dist-packages (from transformers) (24.2)\n",
            "Requirement already satisfied: pyyaml>=5.1 in /usr/local/lib/python3.10/dist-packages (from transformers) (6.0.2)\n",
            "Requirement already satisfied: regex!=2019.12.17 in /usr/local/lib/python3.10/dist-packages (from transformers) (2024.11.6)\n",
            "Requirement already satisfied: requests in /usr/local/lib/python3.10/dist-packages (from transformers) (2.32.3)\n",
            "Requirement already satisfied: tokenizers<0.22,>=0.21 in /usr/local/lib/python3.10/dist-packages (from transformers) (0.21.0)\n",
            "Requirement already satisfied: safetensors>=0.4.1 in /usr/local/lib/python3.10/dist-packages (from transformers) (0.5.0)\n",
            "Requirement already satisfied: tqdm>=4.27 in /usr/local/lib/python3.10/dist-packages (from transformers) (4.67.1)\n",
            "Requirement already satisfied: typing-extensions>=4.8.0 in /usr/local/lib/python3.10/dist-packages (from torch) (4.12.2)\n",
            "Requirement already satisfied: networkx in /usr/local/lib/python3.10/dist-packages (from torch) (3.4.2)\n",
            "Requirement already satisfied: jinja2 in /usr/local/lib/python3.10/dist-packages (from torch) (3.1.5)\n",
            "Requirement already satisfied: fsspec in /usr/local/lib/python3.10/dist-packages (from torch) (2024.10.0)\n",
            "Requirement already satisfied: sympy==1.13.1 in /usr/local/lib/python3.10/dist-packages (from torch) (1.13.1)\n",
            "Requirement already satisfied: mpmath<1.4,>=1.1.0 in /usr/local/lib/python3.10/dist-packages (from sympy==1.13.1->torch) (1.3.0)\n",
            "Requirement already satisfied: MarkupSafe>=2.0 in /usr/local/lib/python3.10/dist-packages (from jinja2->torch) (3.0.2)\n",
            "Requirement already satisfied: charset-normalizer<4,>=2 in /usr/local/lib/python3.10/dist-packages (from requests->transformers) (3.4.1)\n",
            "Requirement already satisfied: idna<4,>=2.5 in /usr/local/lib/python3.10/dist-packages (from requests->transformers) (3.10)\n",
            "Requirement already satisfied: urllib3<3,>=1.21.1 in /usr/local/lib/python3.10/dist-packages (from requests->transformers) (2.3.0)\n",
            "Requirement already satisfied: certifi>=2017.4.17 in /usr/local/lib/python3.10/dist-packages (from requests->transformers) (2024.12.14)\n"
          ]
        }
      ],
      "execution_count": 2
    },
    {
      "cell_type": "code",
      "source": [
        "import torch\n",
        "from torch import nn\n",
        "from torch.optim import Adam\n",
        "from torch.utils.data import DataLoader, TensorDataset\n",
        "from transformers import AutoModel, AutoTokenizer, GPT2Model,GPT2Tokenizer,GPT2LMHeadModel\n",
        "from transformers import AutoTokenizer, T5ForConditionalGeneration , T5Tokenizer , T5Model\n",
        "import pandas as pd"
      ],
      "metadata": {
        "trusted": true,
        "execution": {
          "iopub.status.busy": "2025-01-10T08:00:35.171433Z",
          "iopub.execute_input": "2025-01-10T08:00:35.17189Z",
          "iopub.status.idle": "2025-01-10T08:00:39.91285Z",
          "shell.execute_reply.started": "2025-01-10T08:00:35.171861Z",
          "shell.execute_reply": "2025-01-10T08:00:39.912145Z"
        },
        "id": "IgJFcjXoa7Il"
      },
      "outputs": [],
      "execution_count": 3
    },
    {
      "cell_type": "code",
      "source": [
        "device = torch.device(\"cuda\" if torch.cuda.is_available() else \"cpu\")"
      ],
      "metadata": {
        "trusted": true,
        "execution": {
          "iopub.status.busy": "2025-01-10T08:00:39.914306Z",
          "iopub.execute_input": "2025-01-10T08:00:39.914795Z",
          "iopub.status.idle": "2025-01-10T08:00:39.965211Z",
          "shell.execute_reply.started": "2025-01-10T08:00:39.914761Z",
          "shell.execute_reply": "2025-01-10T08:00:39.964415Z"
        },
        "id": "DpWbDwTja7Im"
      },
      "outputs": [],
      "execution_count": 4
    },
    {
      "cell_type": "code",
      "source": [
        "device"
      ],
      "metadata": {
        "trusted": true,
        "execution": {
          "iopub.status.busy": "2025-01-10T08:00:39.966194Z",
          "iopub.execute_input": "2025-01-10T08:00:39.966407Z",
          "iopub.status.idle": "2025-01-10T08:00:39.984549Z",
          "shell.execute_reply.started": "2025-01-10T08:00:39.966387Z",
          "shell.execute_reply": "2025-01-10T08:00:39.983796Z"
        },
        "id": "kdvnV1Efa7Im",
        "outputId": "df59da01-f993-472b-b4f4-fdf3a45f510b",
        "colab": {
          "base_uri": "https://localhost:8080/"
        }
      },
      "outputs": [
        {
          "output_type": "execute_result",
          "data": {
            "text/plain": [
              "device(type='cuda')"
            ]
          },
          "metadata": {},
          "execution_count": 5
        }
      ],
      "execution_count": 5
    },
    {
      "cell_type": "code",
      "source": [
        "checkpoint = \"t5-base\""
      ],
      "metadata": {
        "trusted": true,
        "execution": {
          "iopub.status.busy": "2025-01-10T08:00:43.127668Z",
          "iopub.execute_input": "2025-01-10T08:00:43.127965Z",
          "iopub.status.idle": "2025-01-10T08:00:43.131236Z",
          "shell.execute_reply.started": "2025-01-10T08:00:43.127942Z",
          "shell.execute_reply": "2025-01-10T08:00:43.130663Z"
        },
        "id": "OvfQPyhKa7In"
      },
      "outputs": [],
      "execution_count": 6
    },
    {
      "cell_type": "code",
      "source": [
        "t5_tokenizer = AutoTokenizer.from_pretrained(checkpoint)"
      ],
      "metadata": {
        "trusted": true,
        "execution": {
          "iopub.status.busy": "2025-01-10T08:00:44.217154Z",
          "iopub.execute_input": "2025-01-10T08:00:44.217461Z",
          "iopub.status.idle": "2025-01-10T08:00:45.6439Z",
          "shell.execute_reply.started": "2025-01-10T08:00:44.217436Z",
          "shell.execute_reply": "2025-01-10T08:00:45.642972Z"
        },
        "id": "EPXot-9Sa7In",
        "outputId": "4ba2fa13-ecd4-41cd-ac62-74e043117636",
        "colab": {
          "base_uri": "https://localhost:8080/",
          "height": 237,
          "referenced_widgets": [
            "4325fa3c610a41bf920eaef43c6eeb83",
            "efcb345069e845c3acdfe1b2e967553b",
            "08b2b76b7da144899a1048a96fdd0b9b",
            "999d7e96b41f478caaa130caf7f024eb",
            "5b11ea9bb9b5436192057143c5902cad",
            "44a306790372481996b948864fa259e1",
            "1bb68e58f50c45f9b1b7f7de94f183bc",
            "1d523ab378a44fe98f7506de4a747798",
            "f94f5133c0664663ae3cb4454115441b",
            "9f2bce6c4bc44be89d625252d1726204",
            "560fd838bf4146bab22dd2258927f06d",
            "ac8e66aa059a4f6091d9ce26da3c0fe1",
            "cf1cdeac115f47c2a6e96d9b67acc4c7",
            "2648ae2d422a4626b813313e7c60b0b3",
            "10c04f6d255047f38b2a5af513b2faf1",
            "07a2cf6da3d9433c96b8c99f1aa472e9",
            "d31fb11c55d941be89e0747b3940b0b7",
            "df5eacb65a4447a582d02af85c66ffd9",
            "4e985515dde34d58b1d4ea8f03e16806",
            "1e59fab06ab84b83919ac76bf5bf43db",
            "c02f610988c5434a9db9d798e79248d9",
            "2d1c3c71d37b4144ab5d53d0ff2314b6",
            "592a806bc8934d7c89a65eafb39bc88e",
            "26c4eb91ec9e4514878e2c1538be6a93",
            "b453f3afb0e44d719aa2828e589da7a5",
            "95bbf8ff56d043c5bf8a4424f22fd75c",
            "67b3750c60ec4419abfb3e7db035ac57",
            "4e114a6c056f48ae9ca881e1a6f502d0",
            "fee4162d5ad740819e6ec84e994a4e8c",
            "360a3bcad7494e7e8fdd7494ecff0929",
            "9bae334a6cea4a8cb00e18ec87a89f22",
            "2b6ec8da43a340ba87fcedda2b7f3546",
            "0b703c1ce1ad42ca9d52553721f6d717"
          ]
        }
      },
      "outputs": [
        {
          "output_type": "stream",
          "name": "stderr",
          "text": [
            "/usr/local/lib/python3.10/dist-packages/huggingface_hub/utils/_auth.py:94: UserWarning: \n",
            "The secret `HF_TOKEN` does not exist in your Colab secrets.\n",
            "To authenticate with the Hugging Face Hub, create a token in your settings tab (https://huggingface.co/settings/tokens), set it as secret in your Google Colab and restart your session.\n",
            "You will be able to reuse this secret in all of your notebooks.\n",
            "Please note that authentication is recommended but still optional to access public models or datasets.\n",
            "  warnings.warn(\n"
          ]
        },
        {
          "output_type": "display_data",
          "data": {
            "text/plain": [
              "config.json:   0%|          | 0.00/1.21k [00:00<?, ?B/s]"
            ],
            "application/vnd.jupyter.widget-view+json": {
              "version_major": 2,
              "version_minor": 0,
              "model_id": "4325fa3c610a41bf920eaef43c6eeb83"
            }
          },
          "metadata": {}
        },
        {
          "output_type": "display_data",
          "data": {
            "text/plain": [
              "spiece.model:   0%|          | 0.00/792k [00:00<?, ?B/s]"
            ],
            "application/vnd.jupyter.widget-view+json": {
              "version_major": 2,
              "version_minor": 0,
              "model_id": "ac8e66aa059a4f6091d9ce26da3c0fe1"
            }
          },
          "metadata": {}
        },
        {
          "output_type": "display_data",
          "data": {
            "text/plain": [
              "tokenizer.json:   0%|          | 0.00/1.39M [00:00<?, ?B/s]"
            ],
            "application/vnd.jupyter.widget-view+json": {
              "version_major": 2,
              "version_minor": 0,
              "model_id": "592a806bc8934d7c89a65eafb39bc88e"
            }
          },
          "metadata": {}
        }
      ],
      "execution_count": 7
    },
    {
      "cell_type": "code",
      "source": [
        "t5_tokenizer.vocab_size"
      ],
      "metadata": {
        "trusted": true,
        "execution": {
          "iopub.status.busy": "2025-01-10T08:00:45.644874Z",
          "iopub.execute_input": "2025-01-10T08:00:45.645155Z",
          "iopub.status.idle": "2025-01-10T08:00:45.649771Z",
          "shell.execute_reply.started": "2025-01-10T08:00:45.645124Z",
          "shell.execute_reply": "2025-01-10T08:00:45.649002Z"
        },
        "id": "qX1l99_3a7Io",
        "outputId": "a7b0b819-f9bb-4716-9731-717125518683",
        "colab": {
          "base_uri": "https://localhost:8080/"
        }
      },
      "outputs": [
        {
          "output_type": "execute_result",
          "data": {
            "text/plain": [
              "32100"
            ]
          },
          "metadata": {},
          "execution_count": 8
        }
      ],
      "execution_count": 8
    },
    {
      "cell_type": "code",
      "source": [
        "#set the max length to model's default present max length\n",
        "t5_tokenizer.model_max_length = t5_tokenizer.model_max_length"
      ],
      "metadata": {
        "trusted": true,
        "execution": {
          "iopub.status.busy": "2025-01-10T08:00:48.357748Z",
          "iopub.execute_input": "2025-01-10T08:00:48.358083Z",
          "iopub.status.idle": "2025-01-10T08:00:48.361405Z",
          "shell.execute_reply.started": "2025-01-10T08:00:48.358055Z",
          "shell.execute_reply": "2025-01-10T08:00:48.360739Z"
        },
        "id": "9XRWaOWWa7Ip"
      },
      "outputs": [],
      "execution_count": 9
    },
    {
      "cell_type": "code",
      "source": [
        "gpt2_tokenizer = GPT2Tokenizer.from_pretrained('gpt2')"
      ],
      "metadata": {
        "trusted": true,
        "execution": {
          "iopub.status.busy": "2025-01-10T08:00:48.822178Z",
          "iopub.execute_input": "2025-01-10T08:00:48.82243Z",
          "iopub.status.idle": "2025-01-10T08:00:50.441647Z",
          "shell.execute_reply.started": "2025-01-10T08:00:48.82241Z",
          "shell.execute_reply": "2025-01-10T08:00:50.440951Z"
        },
        "id": "tLqjpzCxa7Ip",
        "outputId": "3abb0621-dca6-4a2f-9297-9d1ea3074d16",
        "colab": {
          "base_uri": "https://localhost:8080/",
          "height": 177,
          "referenced_widgets": [
            "720d1d4d67504b05a55013f8d978d982",
            "677f0ea88edc47fba6bbaa07c88d816f",
            "619118df73bf48ce928926d475d5081c",
            "9b4e426059a94140b7b66ef38ccbd1fb",
            "d7fcf9a741e3405fa0e55a882bb3e5a4",
            "30e12c6bfded4305a630e53297f98068",
            "c5bbe2a56c014fb08a60a4aa2e0bb4ef",
            "a6362bcb72fe40f8b7966be6a5fb361e",
            "32dcfeef54e04beb9317d46656755e1f",
            "16858bb02e97451d95de17192c5e54b4",
            "58636bf1126d4403bd3c93c844a948a2",
            "c47c68ee9a4b4def93c9beb08e09ae0c",
            "5a78d39826d3470c9fa48d82edb4e2d1",
            "deddfe6a8711413b97d64cf60bfa468d",
            "376dba1fc68846b89e627adc9c763ec7",
            "ba4f34c2fe8b4271befc0c9051870873",
            "822a45f6c1884cfcb49a14606477b77d",
            "26c5be254f624869903cbd837d5cd8e5",
            "6a65cd753a8942b0a16e2276c2a52e54",
            "71ebde5e5aef4e2b8e1bb47d28579d8b",
            "47ec5cab083841e4a647156f8636cc7d",
            "cd5c5c1bdbab4fc69cd97863b34e37db",
            "136800529100410ead51d22f12aeca65",
            "00157332a8784902bacfd219f4d5684f",
            "7c2647c76a8340f4881ea4af2c393c58",
            "12d7931a6593445aa4fd6d5d4a9648a7",
            "7e4733ecf1b04003b154438f1d679bba",
            "affeb6d286384b46ac749947fcfbb294",
            "de27fb67d91649258471d0764b017916",
            "a71381a84f744ae9bc92c86fa8047ffa",
            "c911b57b1dba46dfb44d1db0e2a71dff",
            "8d30253372424265910f0d9209077cec",
            "af7ca5f2d6fe4a59a179d818a8a0b817",
            "2241b7ac0d4e426d92f37b9e39937cbc",
            "083f496616794d05a780528f86dbf1c2",
            "3fcd191d58534465a54a544f6ab38629",
            "fe7898111c2c492a84b02605dc87dcc5",
            "2b79a21e0e16404dbf0c01b04abdba60",
            "6ed925b26f614735aee06b66660a9fd7",
            "ba4f48d4839d4ab1815c03a2f7212d6f",
            "de2ccd8fe1694d92989b213905197702",
            "13a84c4b93254a119c47bfea8855de38",
            "1f47381de33d4dd299b5d06c5da2be3e",
            "7e98220062a0421c9cd0c42d17cdb2fa",
            "00937857ef304ff7802a8e79a4fbe817",
            "822729f1a5da432ba1f32c7596324e8e",
            "6b833501dfef4f6dabc6316818aa2924",
            "d8ff29d6d9c146dbac65bdebd5b166cf",
            "ad92032d971a484186b7efae27d8976a",
            "8b1236a77954489792ea18b9d5908cd9",
            "7acfdbf91be5463499e7789d45261c13",
            "a8d0be54ffbb474496859f6ac163f365",
            "c5db04205830473380cb1896ec1d353f",
            "fb80e160b0284a16957e2d822f18c7ac",
            "fc52e08222ea4b63b9d1d7a17203ade7"
          ]
        }
      },
      "outputs": [
        {
          "output_type": "display_data",
          "data": {
            "text/plain": [
              "tokenizer_config.json:   0%|          | 0.00/26.0 [00:00<?, ?B/s]"
            ],
            "application/vnd.jupyter.widget-view+json": {
              "version_major": 2,
              "version_minor": 0,
              "model_id": "720d1d4d67504b05a55013f8d978d982"
            }
          },
          "metadata": {}
        },
        {
          "output_type": "display_data",
          "data": {
            "text/plain": [
              "vocab.json:   0%|          | 0.00/1.04M [00:00<?, ?B/s]"
            ],
            "application/vnd.jupyter.widget-view+json": {
              "version_major": 2,
              "version_minor": 0,
              "model_id": "c47c68ee9a4b4def93c9beb08e09ae0c"
            }
          },
          "metadata": {}
        },
        {
          "output_type": "display_data",
          "data": {
            "text/plain": [
              "merges.txt:   0%|          | 0.00/456k [00:00<?, ?B/s]"
            ],
            "application/vnd.jupyter.widget-view+json": {
              "version_major": 2,
              "version_minor": 0,
              "model_id": "136800529100410ead51d22f12aeca65"
            }
          },
          "metadata": {}
        },
        {
          "output_type": "display_data",
          "data": {
            "text/plain": [
              "tokenizer.json:   0%|          | 0.00/1.36M [00:00<?, ?B/s]"
            ],
            "application/vnd.jupyter.widget-view+json": {
              "version_major": 2,
              "version_minor": 0,
              "model_id": "2241b7ac0d4e426d92f37b9e39937cbc"
            }
          },
          "metadata": {}
        },
        {
          "output_type": "display_data",
          "data": {
            "text/plain": [
              "config.json:   0%|          | 0.00/665 [00:00<?, ?B/s]"
            ],
            "application/vnd.jupyter.widget-view+json": {
              "version_major": 2,
              "version_minor": 0,
              "model_id": "00937857ef304ff7802a8e79a4fbe817"
            }
          },
          "metadata": {}
        }
      ],
      "execution_count": 10
    },
    {
      "cell_type": "code",
      "source": [
        "gpt2_tokenizer.pad_token = gpt2_tokenizer.eos_token"
      ],
      "metadata": {
        "trusted": true,
        "execution": {
          "iopub.status.busy": "2025-01-10T08:00:50.571765Z",
          "iopub.execute_input": "2025-01-10T08:00:50.572031Z",
          "iopub.status.idle": "2025-01-10T08:00:50.575769Z",
          "shell.execute_reply.started": "2025-01-10T08:00:50.572009Z",
          "shell.execute_reply": "2025-01-10T08:00:50.574926Z"
        },
        "id": "LVVTv7zfa7Iq"
      },
      "outputs": [],
      "execution_count": 11
    },
    {
      "cell_type": "code",
      "source": [
        "from google.colab import drive\n",
        "drive.mount('/content/drive')"
      ],
      "metadata": {
        "id": "HN7CdoxjQNUT",
        "outputId": "89a71531-a6b5-4f07-c1b1-558defd4c71c",
        "colab": {
          "base_uri": "https://localhost:8080/"
        }
      },
      "execution_count": 13,
      "outputs": [
        {
          "output_type": "stream",
          "name": "stdout",
          "text": [
            "Mounted at /content/drive\n"
          ]
        }
      ]
    },
    {
      "cell_type": "code",
      "source": [
        "file_path = \"/content/drive/MyDrive/final_dataset_with_annotated_metacognitive_feedback_gpt-4o-mini.csv\"\n",
        "df = pd.read_csv(file_path)"
      ],
      "metadata": {
        "trusted": true,
        "execution": {
          "iopub.status.busy": "2025-01-10T08:00:51.168517Z",
          "iopub.execute_input": "2025-01-10T08:00:51.168978Z",
          "iopub.status.idle": "2025-01-10T08:00:52.887551Z",
          "shell.execute_reply.started": "2025-01-10T08:00:51.168947Z",
          "shell.execute_reply": "2025-01-10T08:00:52.886686Z"
        },
        "id": "XrY_OzWca7Iq"
      },
      "outputs": [],
      "execution_count": 14
    },
    {
      "cell_type": "code",
      "source": [
        "df.columns"
      ],
      "metadata": {
        "trusted": true,
        "execution": {
          "iopub.status.busy": "2025-01-10T08:00:53.19879Z",
          "iopub.execute_input": "2025-01-10T08:00:53.199081Z",
          "iopub.status.idle": "2025-01-10T08:00:53.205723Z",
          "shell.execute_reply.started": "2025-01-10T08:00:53.199057Z",
          "shell.execute_reply": "2025-01-10T08:00:53.204858Z"
        },
        "id": "nqzlVJm_a7Ir",
        "outputId": "dc2d3ed4-a37a-4783-be43-ccd9625b2f2c",
        "colab": {
          "base_uri": "https://localhost:8080/"
        }
      },
      "outputs": [
        {
          "output_type": "execute_result",
          "data": {
            "text/plain": [
              "Index(['Question 1', 'Response 1', 'Right answer 1', 'Q01', 'Q02', 'Q03',\n",
              "       'Q04', 'Q05', 'Q06', 'Q07', 'Q08', 'Q09', 'Q10', 'Q11', 'Q12', 'Q13',\n",
              "       'Q14', 'Q15', 'Q16', 'metacognitive_vector', 'metacognitive_feedback'],\n",
              "      dtype='object')"
            ]
          },
          "metadata": {},
          "execution_count": 15
        }
      ],
      "execution_count": 15
    },
    {
      "cell_type": "code",
      "source": [
        "df.rename(\n",
        "    columns={\n",
        "        'Question 1': 'Problem',\n",
        "        'Response 1': 'Student_code',\n",
        "        'Right answer 1': 'Expected_code'\n",
        "    },\n",
        "    inplace=True\n",
        ")"
      ],
      "metadata": {
        "trusted": true,
        "execution": {
          "iopub.status.busy": "2025-01-10T08:00:53.623055Z",
          "iopub.execute_input": "2025-01-10T08:00:53.623376Z",
          "iopub.status.idle": "2025-01-10T08:00:53.63516Z",
          "shell.execute_reply.started": "2025-01-10T08:00:53.623348Z",
          "shell.execute_reply": "2025-01-10T08:00:53.634196Z"
        },
        "id": "ugJYy8pVa7Ir"
      },
      "outputs": [],
      "execution_count": 16
    },
    {
      "cell_type": "code",
      "source": [
        "df.head(3)"
      ],
      "metadata": {
        "trusted": true,
        "execution": {
          "iopub.status.busy": "2025-01-10T08:00:55.286185Z",
          "iopub.execute_input": "2025-01-10T08:00:55.286532Z",
          "iopub.status.idle": "2025-01-10T08:00:55.307201Z",
          "shell.execute_reply.started": "2025-01-10T08:00:55.286502Z",
          "shell.execute_reply": "2025-01-10T08:00:55.306392Z"
        },
        "id": "mcjarOz3a7Is",
        "outputId": "89283fdb-0a96-4e35-f7cd-f23babf349fd",
        "colab": {
          "base_uri": "https://localhost:8080/",
          "height": 609
        }
      },
      "outputs": [
        {
          "output_type": "execute_result",
          "data": {
            "text/plain": [
              "                                             Problem  \\\n",
              "0  Develop a Python program that takes the name o...   \n",
              "1  Develop a Python program that takes the name o...   \n",
              "2  Develop a Python program that takes the name o...   \n",
              "\n",
              "                                        Student_code  \\\n",
              "0  file_input = input()      file_open = open(fil...   \n",
              "1  file_input = input()      file_open = open(fil...   \n",
              "2  file_input = input()      file_open = open(fil...   \n",
              "\n",
              "                                       Expected_code        Q01  \\\n",
              "0  def substitute_vowels(chunk, vowel_substitutes...  3 : Often   \n",
              "1  def substitute_vowels(chunk, vowel_substitutes...  3 : Often   \n",
              "2  def substitute_vowels(chunk, vowel_substitutes...  3 : Often   \n",
              "\n",
              "             Q02               Q03        Q04            Q05            Q06  \\\n",
              "0  2 : Sometimes  1 : Almost Never  3 : Often  2 : Sometimes  2 : Sometimes   \n",
              "1  2 : Sometimes  1 : Almost Never  3 : Often  2 : Sometimes  2 : Sometimes   \n",
              "2  2 : Sometimes  1 : Almost Never  3 : Often  2 : Sometimes  2 : Sometimes   \n",
              "\n",
              "                Q07  ...        Q09        Q10            Q11            Q12  \\\n",
              "0  1 : Almost Never  ...  3 : Often  3 : Often  2 : Sometimes  2 : Sometimes   \n",
              "1  1 : Almost Never  ...  3 : Often  3 : Often  2 : Sometimes  2 : Sometimes   \n",
              "2  1 : Almost Never  ...  3 : Often  3 : Often  2 : Sometimes  2 : Sometimes   \n",
              "\n",
              "             Q13        Q14        Q15               Q16  \\\n",
              "0  2 : Sometimes  3 : Often  3 : Often  1 : Almost Never   \n",
              "1  2 : Sometimes  3 : Often  3 : Often  1 : Almost Never   \n",
              "2  2 : Sometimes  3 : Often  3 : Often  1 : Almost Never   \n",
              "\n",
              "                                metacognitive_vector  \\\n",
              "0  ['3 ', '2 ', '1 ', '3 ', '2 ', '2 ', '1 ', '3 ...   \n",
              "1  ['3 ', '2 ', '1 ', '3 ', '2 ', '2 ', '1 ', '3 ...   \n",
              "2  ['3 ', '2 ', '1 ', '3 ', '2 ', '2 ', '1 ', '3 ...   \n",
              "\n",
              "                              metacognitive_feedback  \n",
              "0  Your initial code serves as a starting point, ...  \n",
              "1  Your code exhibits a solid attempt at reading ...  \n",
              "2  It looks like you're in a good place with some...  \n",
              "\n",
              "[3 rows x 21 columns]"
            ],
            "text/html": [
              "\n",
              "  <div id=\"df-cfb53333-dd90-4f4f-ac3d-f24704d1ac53\" class=\"colab-df-container\">\n",
              "    <div>\n",
              "<style scoped>\n",
              "    .dataframe tbody tr th:only-of-type {\n",
              "        vertical-align: middle;\n",
              "    }\n",
              "\n",
              "    .dataframe tbody tr th {\n",
              "        vertical-align: top;\n",
              "    }\n",
              "\n",
              "    .dataframe thead th {\n",
              "        text-align: right;\n",
              "    }\n",
              "</style>\n",
              "<table border=\"1\" class=\"dataframe\">\n",
              "  <thead>\n",
              "    <tr style=\"text-align: right;\">\n",
              "      <th></th>\n",
              "      <th>Problem</th>\n",
              "      <th>Student_code</th>\n",
              "      <th>Expected_code</th>\n",
              "      <th>Q01</th>\n",
              "      <th>Q02</th>\n",
              "      <th>Q03</th>\n",
              "      <th>Q04</th>\n",
              "      <th>Q05</th>\n",
              "      <th>Q06</th>\n",
              "      <th>Q07</th>\n",
              "      <th>...</th>\n",
              "      <th>Q09</th>\n",
              "      <th>Q10</th>\n",
              "      <th>Q11</th>\n",
              "      <th>Q12</th>\n",
              "      <th>Q13</th>\n",
              "      <th>Q14</th>\n",
              "      <th>Q15</th>\n",
              "      <th>Q16</th>\n",
              "      <th>metacognitive_vector</th>\n",
              "      <th>metacognitive_feedback</th>\n",
              "    </tr>\n",
              "  </thead>\n",
              "  <tbody>\n",
              "    <tr>\n",
              "      <th>0</th>\n",
              "      <td>Develop a Python program that takes the name o...</td>\n",
              "      <td>file_input = input()      file_open = open(fil...</td>\n",
              "      <td>def substitute_vowels(chunk, vowel_substitutes...</td>\n",
              "      <td>3 : Often</td>\n",
              "      <td>2 : Sometimes</td>\n",
              "      <td>1 : Almost Never</td>\n",
              "      <td>3 : Often</td>\n",
              "      <td>2 : Sometimes</td>\n",
              "      <td>2 : Sometimes</td>\n",
              "      <td>1 : Almost Never</td>\n",
              "      <td>...</td>\n",
              "      <td>3 : Often</td>\n",
              "      <td>3 : Often</td>\n",
              "      <td>2 : Sometimes</td>\n",
              "      <td>2 : Sometimes</td>\n",
              "      <td>2 : Sometimes</td>\n",
              "      <td>3 : Often</td>\n",
              "      <td>3 : Often</td>\n",
              "      <td>1 : Almost Never</td>\n",
              "      <td>['3 ', '2 ', '1 ', '3 ', '2 ', '2 ', '1 ', '3 ...</td>\n",
              "      <td>Your initial code serves as a starting point, ...</td>\n",
              "    </tr>\n",
              "    <tr>\n",
              "      <th>1</th>\n",
              "      <td>Develop a Python program that takes the name o...</td>\n",
              "      <td>file_input = input()      file_open = open(fil...</td>\n",
              "      <td>def substitute_vowels(chunk, vowel_substitutes...</td>\n",
              "      <td>3 : Often</td>\n",
              "      <td>2 : Sometimes</td>\n",
              "      <td>1 : Almost Never</td>\n",
              "      <td>3 : Often</td>\n",
              "      <td>2 : Sometimes</td>\n",
              "      <td>2 : Sometimes</td>\n",
              "      <td>1 : Almost Never</td>\n",
              "      <td>...</td>\n",
              "      <td>3 : Often</td>\n",
              "      <td>3 : Often</td>\n",
              "      <td>2 : Sometimes</td>\n",
              "      <td>2 : Sometimes</td>\n",
              "      <td>2 : Sometimes</td>\n",
              "      <td>3 : Often</td>\n",
              "      <td>3 : Often</td>\n",
              "      <td>1 : Almost Never</td>\n",
              "      <td>['3 ', '2 ', '1 ', '3 ', '2 ', '2 ', '1 ', '3 ...</td>\n",
              "      <td>Your code exhibits a solid attempt at reading ...</td>\n",
              "    </tr>\n",
              "    <tr>\n",
              "      <th>2</th>\n",
              "      <td>Develop a Python program that takes the name o...</td>\n",
              "      <td>file_input = input()      file_open = open(fil...</td>\n",
              "      <td>def substitute_vowels(chunk, vowel_substitutes...</td>\n",
              "      <td>3 : Often</td>\n",
              "      <td>2 : Sometimes</td>\n",
              "      <td>1 : Almost Never</td>\n",
              "      <td>3 : Often</td>\n",
              "      <td>2 : Sometimes</td>\n",
              "      <td>2 : Sometimes</td>\n",
              "      <td>1 : Almost Never</td>\n",
              "      <td>...</td>\n",
              "      <td>3 : Often</td>\n",
              "      <td>3 : Often</td>\n",
              "      <td>2 : Sometimes</td>\n",
              "      <td>2 : Sometimes</td>\n",
              "      <td>2 : Sometimes</td>\n",
              "      <td>3 : Often</td>\n",
              "      <td>3 : Often</td>\n",
              "      <td>1 : Almost Never</td>\n",
              "      <td>['3 ', '2 ', '1 ', '3 ', '2 ', '2 ', '1 ', '3 ...</td>\n",
              "      <td>It looks like you're in a good place with some...</td>\n",
              "    </tr>\n",
              "  </tbody>\n",
              "</table>\n",
              "<p>3 rows × 21 columns</p>\n",
              "</div>\n",
              "    <div class=\"colab-df-buttons\">\n",
              "\n",
              "  <div class=\"colab-df-container\">\n",
              "    <button class=\"colab-df-convert\" onclick=\"convertToInteractive('df-cfb53333-dd90-4f4f-ac3d-f24704d1ac53')\"\n",
              "            title=\"Convert this dataframe to an interactive table.\"\n",
              "            style=\"display:none;\">\n",
              "\n",
              "  <svg xmlns=\"http://www.w3.org/2000/svg\" height=\"24px\" viewBox=\"0 -960 960 960\">\n",
              "    <path d=\"M120-120v-720h720v720H120Zm60-500h600v-160H180v160Zm220 220h160v-160H400v160Zm0 220h160v-160H400v160ZM180-400h160v-160H180v160Zm440 0h160v-160H620v160ZM180-180h160v-160H180v160Zm440 0h160v-160H620v160Z\"/>\n",
              "  </svg>\n",
              "    </button>\n",
              "\n",
              "  <style>\n",
              "    .colab-df-container {\n",
              "      display:flex;\n",
              "      gap: 12px;\n",
              "    }\n",
              "\n",
              "    .colab-df-convert {\n",
              "      background-color: #E8F0FE;\n",
              "      border: none;\n",
              "      border-radius: 50%;\n",
              "      cursor: pointer;\n",
              "      display: none;\n",
              "      fill: #1967D2;\n",
              "      height: 32px;\n",
              "      padding: 0 0 0 0;\n",
              "      width: 32px;\n",
              "    }\n",
              "\n",
              "    .colab-df-convert:hover {\n",
              "      background-color: #E2EBFA;\n",
              "      box-shadow: 0px 1px 2px rgba(60, 64, 67, 0.3), 0px 1px 3px 1px rgba(60, 64, 67, 0.15);\n",
              "      fill: #174EA6;\n",
              "    }\n",
              "\n",
              "    .colab-df-buttons div {\n",
              "      margin-bottom: 4px;\n",
              "    }\n",
              "\n",
              "    [theme=dark] .colab-df-convert {\n",
              "      background-color: #3B4455;\n",
              "      fill: #D2E3FC;\n",
              "    }\n",
              "\n",
              "    [theme=dark] .colab-df-convert:hover {\n",
              "      background-color: #434B5C;\n",
              "      box-shadow: 0px 1px 3px 1px rgba(0, 0, 0, 0.15);\n",
              "      filter: drop-shadow(0px 1px 2px rgba(0, 0, 0, 0.3));\n",
              "      fill: #FFFFFF;\n",
              "    }\n",
              "  </style>\n",
              "\n",
              "    <script>\n",
              "      const buttonEl =\n",
              "        document.querySelector('#df-cfb53333-dd90-4f4f-ac3d-f24704d1ac53 button.colab-df-convert');\n",
              "      buttonEl.style.display =\n",
              "        google.colab.kernel.accessAllowed ? 'block' : 'none';\n",
              "\n",
              "      async function convertToInteractive(key) {\n",
              "        const element = document.querySelector('#df-cfb53333-dd90-4f4f-ac3d-f24704d1ac53');\n",
              "        const dataTable =\n",
              "          await google.colab.kernel.invokeFunction('convertToInteractive',\n",
              "                                                    [key], {});\n",
              "        if (!dataTable) return;\n",
              "\n",
              "        const docLinkHtml = 'Like what you see? Visit the ' +\n",
              "          '<a target=\"_blank\" href=https://colab.research.google.com/notebooks/data_table.ipynb>data table notebook</a>'\n",
              "          + ' to learn more about interactive tables.';\n",
              "        element.innerHTML = '';\n",
              "        dataTable['output_type'] = 'display_data';\n",
              "        await google.colab.output.renderOutput(dataTable, element);\n",
              "        const docLink = document.createElement('div');\n",
              "        docLink.innerHTML = docLinkHtml;\n",
              "        element.appendChild(docLink);\n",
              "      }\n",
              "    </script>\n",
              "  </div>\n",
              "\n",
              "\n",
              "<div id=\"df-85f844eb-1f8f-4b44-9fcb-b80f4d276dea\">\n",
              "  <button class=\"colab-df-quickchart\" onclick=\"quickchart('df-85f844eb-1f8f-4b44-9fcb-b80f4d276dea')\"\n",
              "            title=\"Suggest charts\"\n",
              "            style=\"display:none;\">\n",
              "\n",
              "<svg xmlns=\"http://www.w3.org/2000/svg\" height=\"24px\"viewBox=\"0 0 24 24\"\n",
              "     width=\"24px\">\n",
              "    <g>\n",
              "        <path d=\"M19 3H5c-1.1 0-2 .9-2 2v14c0 1.1.9 2 2 2h14c1.1 0 2-.9 2-2V5c0-1.1-.9-2-2-2zM9 17H7v-7h2v7zm4 0h-2V7h2v10zm4 0h-2v-4h2v4z\"/>\n",
              "    </g>\n",
              "</svg>\n",
              "  </button>\n",
              "\n",
              "<style>\n",
              "  .colab-df-quickchart {\n",
              "      --bg-color: #E8F0FE;\n",
              "      --fill-color: #1967D2;\n",
              "      --hover-bg-color: #E2EBFA;\n",
              "      --hover-fill-color: #174EA6;\n",
              "      --disabled-fill-color: #AAA;\n",
              "      --disabled-bg-color: #DDD;\n",
              "  }\n",
              "\n",
              "  [theme=dark] .colab-df-quickchart {\n",
              "      --bg-color: #3B4455;\n",
              "      --fill-color: #D2E3FC;\n",
              "      --hover-bg-color: #434B5C;\n",
              "      --hover-fill-color: #FFFFFF;\n",
              "      --disabled-bg-color: #3B4455;\n",
              "      --disabled-fill-color: #666;\n",
              "  }\n",
              "\n",
              "  .colab-df-quickchart {\n",
              "    background-color: var(--bg-color);\n",
              "    border: none;\n",
              "    border-radius: 50%;\n",
              "    cursor: pointer;\n",
              "    display: none;\n",
              "    fill: var(--fill-color);\n",
              "    height: 32px;\n",
              "    padding: 0;\n",
              "    width: 32px;\n",
              "  }\n",
              "\n",
              "  .colab-df-quickchart:hover {\n",
              "    background-color: var(--hover-bg-color);\n",
              "    box-shadow: 0 1px 2px rgba(60, 64, 67, 0.3), 0 1px 3px 1px rgba(60, 64, 67, 0.15);\n",
              "    fill: var(--button-hover-fill-color);\n",
              "  }\n",
              "\n",
              "  .colab-df-quickchart-complete:disabled,\n",
              "  .colab-df-quickchart-complete:disabled:hover {\n",
              "    background-color: var(--disabled-bg-color);\n",
              "    fill: var(--disabled-fill-color);\n",
              "    box-shadow: none;\n",
              "  }\n",
              "\n",
              "  .colab-df-spinner {\n",
              "    border: 2px solid var(--fill-color);\n",
              "    border-color: transparent;\n",
              "    border-bottom-color: var(--fill-color);\n",
              "    animation:\n",
              "      spin 1s steps(1) infinite;\n",
              "  }\n",
              "\n",
              "  @keyframes spin {\n",
              "    0% {\n",
              "      border-color: transparent;\n",
              "      border-bottom-color: var(--fill-color);\n",
              "      border-left-color: var(--fill-color);\n",
              "    }\n",
              "    20% {\n",
              "      border-color: transparent;\n",
              "      border-left-color: var(--fill-color);\n",
              "      border-top-color: var(--fill-color);\n",
              "    }\n",
              "    30% {\n",
              "      border-color: transparent;\n",
              "      border-left-color: var(--fill-color);\n",
              "      border-top-color: var(--fill-color);\n",
              "      border-right-color: var(--fill-color);\n",
              "    }\n",
              "    40% {\n",
              "      border-color: transparent;\n",
              "      border-right-color: var(--fill-color);\n",
              "      border-top-color: var(--fill-color);\n",
              "    }\n",
              "    60% {\n",
              "      border-color: transparent;\n",
              "      border-right-color: var(--fill-color);\n",
              "    }\n",
              "    80% {\n",
              "      border-color: transparent;\n",
              "      border-right-color: var(--fill-color);\n",
              "      border-bottom-color: var(--fill-color);\n",
              "    }\n",
              "    90% {\n",
              "      border-color: transparent;\n",
              "      border-bottom-color: var(--fill-color);\n",
              "    }\n",
              "  }\n",
              "</style>\n",
              "\n",
              "  <script>\n",
              "    async function quickchart(key) {\n",
              "      const quickchartButtonEl =\n",
              "        document.querySelector('#' + key + ' button');\n",
              "      quickchartButtonEl.disabled = true;  // To prevent multiple clicks.\n",
              "      quickchartButtonEl.classList.add('colab-df-spinner');\n",
              "      try {\n",
              "        const charts = await google.colab.kernel.invokeFunction(\n",
              "            'suggestCharts', [key], {});\n",
              "      } catch (error) {\n",
              "        console.error('Error during call to suggestCharts:', error);\n",
              "      }\n",
              "      quickchartButtonEl.classList.remove('colab-df-spinner');\n",
              "      quickchartButtonEl.classList.add('colab-df-quickchart-complete');\n",
              "    }\n",
              "    (() => {\n",
              "      let quickchartButtonEl =\n",
              "        document.querySelector('#df-85f844eb-1f8f-4b44-9fcb-b80f4d276dea button');\n",
              "      quickchartButtonEl.style.display =\n",
              "        google.colab.kernel.accessAllowed ? 'block' : 'none';\n",
              "    })();\n",
              "  </script>\n",
              "</div>\n",
              "\n",
              "    </div>\n",
              "  </div>\n"
            ],
            "application/vnd.google.colaboratory.intrinsic+json": {
              "type": "dataframe",
              "variable_name": "df"
            }
          },
          "metadata": {},
          "execution_count": 17
        }
      ],
      "execution_count": 17
    },
    {
      "cell_type": "code",
      "source": [
        "student_prompt = \"This is the combination of the problem desccription and the student provided code.\"\n",
        "context_prompt = \"This is the combination of the problem description and the expected correct answer for that algorithm design question.\"\n",
        "metacognitive_components = [\n",
        "                \"Read\", \"Identify\", \"Rephrase\", \"Examples\", \"Breakdown\", \"Estimate\", \"Plan\",\n",
        "                \"Revise\", \"Verify\", \"AvoidMistakes\", \"MonitorSteps\", \"MonitorProcess\",\n",
        "                \"ValidateConstraints\", \"Confirm\", \"CheckRequirements\", \"Reflect\"\n",
        "            ]\n",
        "\n",
        "metacognition_prompt = (\n",
        "            f\"Metacognitive feedback helps students reflect on their algorithm-solving strategies. \"\n",
        "            f\"The passed metacognitive vector is a 16-dimensional vector describing the student's metacognition profile:  \"\n",
        "            f\"where each dimension represents one of 16 metacognitive components, rated as 1 (Almost never), \"\n",
        "            f\"2 (Sometimes), or 3 (Often). These components include: {', '.join(metacognitive_components)}.\"\n",
        "        )\n",
        "decoder_prompt = \"This is the combination student's metacognition profile and the student's code for the algorithm problem with the problem description itself.\"\n"
      ],
      "metadata": {
        "trusted": true,
        "execution": {
          "iopub.status.busy": "2025-01-10T08:00:57.287385Z",
          "iopub.execute_input": "2025-01-10T08:00:57.287704Z",
          "iopub.status.idle": "2025-01-10T08:00:57.292127Z",
          "shell.execute_reply.started": "2025-01-10T08:00:57.287679Z",
          "shell.execute_reply": "2025-01-10T08:00:57.29131Z"
        },
        "id": "vrRAGLubPbjD"
      },
      "outputs": [],
      "execution_count": 18
    },
    {
      "cell_type": "code",
      "source": [
        "df['combined_problem_student'] = student_prompt + \"  Problem:  \" + df['Problem'] + \".  Student provided code:  \" + df['Student_code']"
      ],
      "metadata": {
        "trusted": true,
        "execution": {
          "iopub.status.busy": "2025-01-10T08:00:57.71299Z",
          "iopub.execute_input": "2025-01-10T08:00:57.71326Z",
          "iopub.status.idle": "2025-01-10T08:00:57.841157Z",
          "shell.execute_reply.started": "2025-01-10T08:00:57.713238Z",
          "shell.execute_reply": "2025-01-10T08:00:57.840497Z"
        },
        "id": "Z7eLV0EQa7Is"
      },
      "outputs": [],
      "execution_count": 19
    },
    {
      "cell_type": "code",
      "source": [
        "df['combined_problem_expected'] = context_prompt + \" Problem:  \" + df['Problem'] + \".  Expected correct ansswer for the problem:  \" + df['Expected_code']"
      ],
      "metadata": {
        "trusted": true,
        "execution": {
          "iopub.status.busy": "2025-01-10T08:00:58.092524Z",
          "iopub.execute_input": "2025-01-10T08:00:58.092799Z",
          "iopub.status.idle": "2025-01-10T08:00:58.185284Z",
          "shell.execute_reply.started": "2025-01-10T08:00:58.092777Z",
          "shell.execute_reply": "2025-01-10T08:00:58.184197Z"
        },
        "id": "7GpCPwv8a7Is"
      },
      "outputs": [],
      "execution_count": 20
    },
    {
      "cell_type": "code",
      "source": [
        "df['combined_metacogntion_prompt'] =  metacognition_prompt + \"Here is the student's metacognition vector: \" + df['metacognitive_vector']"
      ],
      "metadata": {
        "trusted": true,
        "execution": {
          "iopub.status.busy": "2025-01-10T08:00:59.786745Z",
          "iopub.execute_input": "2025-01-10T08:00:59.787031Z",
          "iopub.status.idle": "2025-01-10T08:00:59.794949Z",
          "shell.execute_reply.started": "2025-01-10T08:00:59.787008Z",
          "shell.execute_reply": "2025-01-10T08:00:59.794073Z"
        },
        "id": "IbJ-4jwjPbjE"
      },
      "outputs": [],
      "execution_count": 21
    },
    {
      "cell_type": "code",
      "source": [
        "# df['combined_persona_student'] ="
      ],
      "metadata": {
        "trusted": true,
        "execution": {
          "iopub.status.busy": "2025-01-10T08:01:00.217736Z",
          "iopub.execute_input": "2025-01-10T08:01:00.218054Z",
          "iopub.status.idle": "2025-01-10T08:01:00.221649Z",
          "shell.execute_reply.started": "2025-01-10T08:01:00.218026Z",
          "shell.execute_reply": "2025-01-10T08:01:00.220701Z"
        },
        "id": "KSTFsKw1PbjF"
      },
      "outputs": [],
      "execution_count": 22
    },
    {
      "cell_type": "code",
      "source": [
        "df['combined_metacogntion_prompt'][20]"
      ],
      "metadata": {
        "trusted": true,
        "execution": {
          "iopub.status.busy": "2025-01-10T08:01:00.591708Z",
          "iopub.execute_input": "2025-01-10T08:01:00.592045Z",
          "iopub.status.idle": "2025-01-10T08:01:00.597254Z",
          "shell.execute_reply.started": "2025-01-10T08:01:00.592014Z",
          "shell.execute_reply": "2025-01-10T08:01:00.596423Z"
        },
        "id": "3Ya-fxYaPbjF",
        "outputId": "cde86f83-280a-40c4-f4ab-01f25964bcf5",
        "colab": {
          "base_uri": "https://localhost:8080/",
          "height": 105
        }
      },
      "outputs": [
        {
          "output_type": "execute_result",
          "data": {
            "text/plain": [
              "\"Metacognitive feedback helps students reflect on their algorithm-solving strategies. The passed metacognitive vector is a 16-dimensional vector describing the student's metacognition profile:  where each dimension represents one of 16 metacognitive components, rated as 1 (Almost never), 2 (Sometimes), or 3 (Often). These components include: Read, Identify, Rephrase, Examples, Breakdown, Estimate, Plan, Revise, Verify, AvoidMistakes, MonitorSteps, MonitorProcess, ValidateConstraints, Confirm, CheckRequirements, Reflect.Here is the student's metacognition vector: ['2 ', '3 ', '2 ', '3 ', '2 ', '2 ', '1 ', '2 ', '3 ', '3 ', '3 ', '3 ', '3 ', '3 ', '2 ', '2 ']\""
            ],
            "application/vnd.google.colaboratory.intrinsic+json": {
              "type": "string"
            }
          },
          "metadata": {},
          "execution_count": 23
        }
      ],
      "execution_count": 23
    },
    {
      "cell_type": "code",
      "source": [
        "df.columns"
      ],
      "metadata": {
        "trusted": true,
        "execution": {
          "iopub.status.busy": "2025-01-10T08:01:02.396775Z",
          "iopub.execute_input": "2025-01-10T08:01:02.397072Z",
          "iopub.status.idle": "2025-01-10T08:01:02.402162Z",
          "shell.execute_reply.started": "2025-01-10T08:01:02.397048Z",
          "shell.execute_reply": "2025-01-10T08:01:02.4014Z"
        },
        "id": "-EMODMJCa7It",
        "outputId": "8df72288-ccfe-4770-8539-08e67998fd9c",
        "colab": {
          "base_uri": "https://localhost:8080/"
        }
      },
      "outputs": [
        {
          "output_type": "execute_result",
          "data": {
            "text/plain": [
              "Index(['Problem', 'Student_code', 'Expected_code', 'Q01', 'Q02', 'Q03', 'Q04',\n",
              "       'Q05', 'Q06', 'Q07', 'Q08', 'Q09', 'Q10', 'Q11', 'Q12', 'Q13', 'Q14',\n",
              "       'Q15', 'Q16', 'metacognitive_vector', 'metacognitive_feedback',\n",
              "       'combined_problem_student', 'combined_problem_expected',\n",
              "       'combined_metacogntion_prompt'],\n",
              "      dtype='object')"
            ]
          },
          "metadata": {},
          "execution_count": 24
        }
      ],
      "execution_count": 24
    },
    {
      "cell_type": "code",
      "source": [
        "df.dropna(subset=['Problem', 'metacognitive_feedback', 'combined_problem_student','Student_code'], inplace=True)"
      ],
      "metadata": {
        "trusted": true,
        "execution": {
          "iopub.status.busy": "2025-01-10T08:01:02.851882Z",
          "iopub.execute_input": "2025-01-10T08:01:02.852155Z",
          "iopub.status.idle": "2025-01-10T08:01:02.875699Z",
          "shell.execute_reply.started": "2025-01-10T08:01:02.852131Z",
          "shell.execute_reply": "2025-01-10T08:01:02.874922Z"
        },
        "id": "94NeCGFua7It"
      },
      "outputs": [],
      "execution_count": 25
    },
    {
      "cell_type": "code",
      "source": [
        "df.reset_index(drop=True, inplace=True)"
      ],
      "metadata": {
        "trusted": true,
        "execution": {
          "iopub.status.busy": "2025-01-10T08:01:03.281784Z",
          "iopub.execute_input": "2025-01-10T08:01:03.282057Z",
          "iopub.status.idle": "2025-01-10T08:01:03.285636Z",
          "shell.execute_reply.started": "2025-01-10T08:01:03.282035Z",
          "shell.execute_reply": "2025-01-10T08:01:03.284737Z"
        },
        "id": "9wKnq90Ua7Iu"
      },
      "outputs": [],
      "execution_count": 26
    },
    {
      "cell_type": "code",
      "source": [
        "df.isnull().sum()"
      ],
      "metadata": {
        "trusted": true,
        "execution": {
          "iopub.status.busy": "2025-01-10T08:01:05.347782Z",
          "iopub.execute_input": "2025-01-10T08:01:05.348074Z",
          "iopub.status.idle": "2025-01-10T08:01:05.377048Z",
          "shell.execute_reply.started": "2025-01-10T08:01:05.348052Z",
          "shell.execute_reply": "2025-01-10T08:01:05.376106Z"
        },
        "id": "ZzXH3PICa7Iu",
        "outputId": "d60e1372-08a3-4332-f7ef-2d78b67cc89f",
        "colab": {
          "base_uri": "https://localhost:8080/",
          "height": 836
        }
      },
      "outputs": [
        {
          "output_type": "execute_result",
          "data": {
            "text/plain": [
              "Problem                         0\n",
              "Student_code                    0\n",
              "Expected_code                   0\n",
              "Q01                             0\n",
              "Q02                             0\n",
              "Q03                             0\n",
              "Q04                             0\n",
              "Q05                             0\n",
              "Q06                             0\n",
              "Q07                             0\n",
              "Q08                             0\n",
              "Q09                             0\n",
              "Q10                             0\n",
              "Q11                             0\n",
              "Q12                             0\n",
              "Q13                             0\n",
              "Q14                             0\n",
              "Q15                             0\n",
              "Q16                             0\n",
              "metacognitive_vector            0\n",
              "metacognitive_feedback          0\n",
              "combined_problem_student        0\n",
              "combined_problem_expected       0\n",
              "combined_metacogntion_prompt    0\n",
              "dtype: int64"
            ],
            "text/html": [
              "<div>\n",
              "<style scoped>\n",
              "    .dataframe tbody tr th:only-of-type {\n",
              "        vertical-align: middle;\n",
              "    }\n",
              "\n",
              "    .dataframe tbody tr th {\n",
              "        vertical-align: top;\n",
              "    }\n",
              "\n",
              "    .dataframe thead th {\n",
              "        text-align: right;\n",
              "    }\n",
              "</style>\n",
              "<table border=\"1\" class=\"dataframe\">\n",
              "  <thead>\n",
              "    <tr style=\"text-align: right;\">\n",
              "      <th></th>\n",
              "      <th>0</th>\n",
              "    </tr>\n",
              "  </thead>\n",
              "  <tbody>\n",
              "    <tr>\n",
              "      <th>Problem</th>\n",
              "      <td>0</td>\n",
              "    </tr>\n",
              "    <tr>\n",
              "      <th>Student_code</th>\n",
              "      <td>0</td>\n",
              "    </tr>\n",
              "    <tr>\n",
              "      <th>Expected_code</th>\n",
              "      <td>0</td>\n",
              "    </tr>\n",
              "    <tr>\n",
              "      <th>Q01</th>\n",
              "      <td>0</td>\n",
              "    </tr>\n",
              "    <tr>\n",
              "      <th>Q02</th>\n",
              "      <td>0</td>\n",
              "    </tr>\n",
              "    <tr>\n",
              "      <th>Q03</th>\n",
              "      <td>0</td>\n",
              "    </tr>\n",
              "    <tr>\n",
              "      <th>Q04</th>\n",
              "      <td>0</td>\n",
              "    </tr>\n",
              "    <tr>\n",
              "      <th>Q05</th>\n",
              "      <td>0</td>\n",
              "    </tr>\n",
              "    <tr>\n",
              "      <th>Q06</th>\n",
              "      <td>0</td>\n",
              "    </tr>\n",
              "    <tr>\n",
              "      <th>Q07</th>\n",
              "      <td>0</td>\n",
              "    </tr>\n",
              "    <tr>\n",
              "      <th>Q08</th>\n",
              "      <td>0</td>\n",
              "    </tr>\n",
              "    <tr>\n",
              "      <th>Q09</th>\n",
              "      <td>0</td>\n",
              "    </tr>\n",
              "    <tr>\n",
              "      <th>Q10</th>\n",
              "      <td>0</td>\n",
              "    </tr>\n",
              "    <tr>\n",
              "      <th>Q11</th>\n",
              "      <td>0</td>\n",
              "    </tr>\n",
              "    <tr>\n",
              "      <th>Q12</th>\n",
              "      <td>0</td>\n",
              "    </tr>\n",
              "    <tr>\n",
              "      <th>Q13</th>\n",
              "      <td>0</td>\n",
              "    </tr>\n",
              "    <tr>\n",
              "      <th>Q14</th>\n",
              "      <td>0</td>\n",
              "    </tr>\n",
              "    <tr>\n",
              "      <th>Q15</th>\n",
              "      <td>0</td>\n",
              "    </tr>\n",
              "    <tr>\n",
              "      <th>Q16</th>\n",
              "      <td>0</td>\n",
              "    </tr>\n",
              "    <tr>\n",
              "      <th>metacognitive_vector</th>\n",
              "      <td>0</td>\n",
              "    </tr>\n",
              "    <tr>\n",
              "      <th>metacognitive_feedback</th>\n",
              "      <td>0</td>\n",
              "    </tr>\n",
              "    <tr>\n",
              "      <th>combined_problem_student</th>\n",
              "      <td>0</td>\n",
              "    </tr>\n",
              "    <tr>\n",
              "      <th>combined_problem_expected</th>\n",
              "      <td>0</td>\n",
              "    </tr>\n",
              "    <tr>\n",
              "      <th>combined_metacogntion_prompt</th>\n",
              "      <td>0</td>\n",
              "    </tr>\n",
              "  </tbody>\n",
              "</table>\n",
              "</div><br><label><b>dtype:</b> int64</label>"
            ]
          },
          "metadata": {},
          "execution_count": 27
        }
      ],
      "execution_count": 27
    },
    {
      "cell_type": "code",
      "source": [
        "df['metacognitive_feedback'][100]"
      ],
      "metadata": {
        "trusted": true,
        "execution": {
          "iopub.status.busy": "2025-01-10T08:01:07.362802Z",
          "iopub.execute_input": "2025-01-10T08:01:07.363113Z",
          "iopub.status.idle": "2025-01-10T08:01:07.368215Z",
          "shell.execute_reply.started": "2025-01-10T08:01:07.363087Z",
          "shell.execute_reply": "2025-01-10T08:01:07.367375Z"
        },
        "id": "WtKweTkea7Iu",
        "outputId": "8265bda5-a1fb-46d1-9ee2-b49920743a30",
        "colab": {
          "base_uri": "https://localhost:8080/",
          "height": 157
        }
      },
      "outputs": [
        {
          "output_type": "execute_result",
          "data": {
            "text/plain": [
              "\"Your current implementation shows a good effort in structuring your code with functions, but there are some areas where further refinement is necessary to meet the problem requirements. First, consider how you're capturing the relationships between birth years and heights. While you are correctly gathering names, birthdates, and heights into a dictionary, think about how you can aggregate heights by decade instead of year. This will streamline the calculation of average heights. It’s crucial to loop through your input list once to comprehend and process the data before beginning any calculations for averaging—possibly consolidating this logic in your `calculate_average_height` function. Also, ensure that you are converting heights to the correct data type before performing any arithmetic operations. Additionally, take a closer look at how you’re determining the range of decades; right now it seems like you may be focusing on unique years instead of decades. Consider creating a systematic structure that easily categorizes each height into its corresponding decade bucket. Furthermore, as you develop your code, remember to monitor your program's flow and adjust accordingly—this is especially important when it comes to function calls and data structure manipulations. Establishing a plan before implementation can significantly enhance your problem-solving process and avoid errors stemming from assumptions. Overall, maintain momentum and continue refining your approach by checking each component against the problem's requirements, thus ensuring coherence and completeness in your solution.\""
            ],
            "application/vnd.google.colaboratory.intrinsic+json": {
              "type": "string"
            }
          },
          "metadata": {},
          "execution_count": 28
        }
      ],
      "execution_count": 28
    },
    {
      "cell_type": "code",
      "source": [
        "df.head(5)"
      ],
      "metadata": {
        "trusted": true,
        "execution": {
          "iopub.status.busy": "2025-01-10T08:01:07.81694Z",
          "iopub.execute_input": "2025-01-10T08:01:07.817209Z",
          "iopub.status.idle": "2025-01-10T08:01:07.838769Z",
          "shell.execute_reply.started": "2025-01-10T08:01:07.817185Z",
          "shell.execute_reply": "2025-01-10T08:01:07.83794Z"
        },
        "id": "t_EBOaYQa7Iv",
        "outputId": "6c2d3ad5-f383-4805-e99f-dd0ef5f8475f",
        "colab": {
          "base_uri": "https://localhost:8080/",
          "height": 949
        }
      },
      "outputs": [
        {
          "output_type": "execute_result",
          "data": {
            "text/plain": [
              "                                             Problem  \\\n",
              "0  Develop a Python program that takes the name o...   \n",
              "1  Develop a Python program that takes the name o...   \n",
              "2  Develop a Python program that takes the name o...   \n",
              "3  Develop a Python program that takes the name o...   \n",
              "4  Develop a Python program that takes the name o...   \n",
              "\n",
              "                                        Student_code  \\\n",
              "0  file_input = input()      file_open = open(fil...   \n",
              "1  file_input = input()      file_open = open(fil...   \n",
              "2  file_input = input()      file_open = open(fil...   \n",
              "3  file_input = input()      file_open = open(fil...   \n",
              "4  file_input = input()      file_open = open(fil...   \n",
              "\n",
              "                                       Expected_code        Q01  \\\n",
              "0  def substitute_vowels(chunk, vowel_substitutes...  3 : Often   \n",
              "1  def substitute_vowels(chunk, vowel_substitutes...  3 : Often   \n",
              "2  def substitute_vowels(chunk, vowel_substitutes...  3 : Often   \n",
              "3  def substitute_vowels(chunk, vowel_substitutes...  3 : Often   \n",
              "4  def substitute_vowels(chunk, vowel_substitutes...  3 : Often   \n",
              "\n",
              "             Q02               Q03        Q04            Q05            Q06  \\\n",
              "0  2 : Sometimes  1 : Almost Never  3 : Often  2 : Sometimes  2 : Sometimes   \n",
              "1  2 : Sometimes  1 : Almost Never  3 : Often  2 : Sometimes  2 : Sometimes   \n",
              "2  2 : Sometimes  1 : Almost Never  3 : Often  2 : Sometimes  2 : Sometimes   \n",
              "3  2 : Sometimes  1 : Almost Never  3 : Often  2 : Sometimes  2 : Sometimes   \n",
              "4  2 : Sometimes  1 : Almost Never  3 : Often  2 : Sometimes  2 : Sometimes   \n",
              "\n",
              "                Q07  ...            Q12            Q13        Q14        Q15  \\\n",
              "0  1 : Almost Never  ...  2 : Sometimes  2 : Sometimes  3 : Often  3 : Often   \n",
              "1  1 : Almost Never  ...  2 : Sometimes  2 : Sometimes  3 : Often  3 : Often   \n",
              "2  1 : Almost Never  ...  2 : Sometimes  2 : Sometimes  3 : Often  3 : Often   \n",
              "3  1 : Almost Never  ...  2 : Sometimes  2 : Sometimes  3 : Often  3 : Often   \n",
              "4  1 : Almost Never  ...  2 : Sometimes  2 : Sometimes  3 : Often  3 : Often   \n",
              "\n",
              "                Q16                               metacognitive_vector  \\\n",
              "0  1 : Almost Never  ['3 ', '2 ', '1 ', '3 ', '2 ', '2 ', '1 ', '3 ...   \n",
              "1  1 : Almost Never  ['3 ', '2 ', '1 ', '3 ', '2 ', '2 ', '1 ', '3 ...   \n",
              "2  1 : Almost Never  ['3 ', '2 ', '1 ', '3 ', '2 ', '2 ', '1 ', '3 ...   \n",
              "3  1 : Almost Never  ['3 ', '2 ', '1 ', '3 ', '2 ', '2 ', '1 ', '3 ...   \n",
              "4  1 : Almost Never  ['3 ', '2 ', '1 ', '3 ', '2 ', '2 ', '1 ', '3 ...   \n",
              "\n",
              "                              metacognitive_feedback  \\\n",
              "0  Your initial code serves as a starting point, ...   \n",
              "1  Your code exhibits a solid attempt at reading ...   \n",
              "2  It looks like you're in a good place with some...   \n",
              "3  Your approach to reading the file and splittin...   \n",
              "4  Your initial approach to the problem is a good...   \n",
              "\n",
              "                            combined_problem_student  \\\n",
              "0  This is the combination of the problem desccri...   \n",
              "1  This is the combination of the problem desccri...   \n",
              "2  This is the combination of the problem desccri...   \n",
              "3  This is the combination of the problem desccri...   \n",
              "4  This is the combination of the problem desccri...   \n",
              "\n",
              "                           combined_problem_expected  \\\n",
              "0  This is the combination of the problem descrip...   \n",
              "1  This is the combination of the problem descrip...   \n",
              "2  This is the combination of the problem descrip...   \n",
              "3  This is the combination of the problem descrip...   \n",
              "4  This is the combination of the problem descrip...   \n",
              "\n",
              "                        combined_metacogntion_prompt  \n",
              "0  Metacognitive feedback helps students reflect ...  \n",
              "1  Metacognitive feedback helps students reflect ...  \n",
              "2  Metacognitive feedback helps students reflect ...  \n",
              "3  Metacognitive feedback helps students reflect ...  \n",
              "4  Metacognitive feedback helps students reflect ...  \n",
              "\n",
              "[5 rows x 24 columns]"
            ],
            "text/html": [
              "\n",
              "  <div id=\"df-320a7d90-631a-439d-8c0c-1cf50cd26c55\" class=\"colab-df-container\">\n",
              "    <div>\n",
              "<style scoped>\n",
              "    .dataframe tbody tr th:only-of-type {\n",
              "        vertical-align: middle;\n",
              "    }\n",
              "\n",
              "    .dataframe tbody tr th {\n",
              "        vertical-align: top;\n",
              "    }\n",
              "\n",
              "    .dataframe thead th {\n",
              "        text-align: right;\n",
              "    }\n",
              "</style>\n",
              "<table border=\"1\" class=\"dataframe\">\n",
              "  <thead>\n",
              "    <tr style=\"text-align: right;\">\n",
              "      <th></th>\n",
              "      <th>Problem</th>\n",
              "      <th>Student_code</th>\n",
              "      <th>Expected_code</th>\n",
              "      <th>Q01</th>\n",
              "      <th>Q02</th>\n",
              "      <th>Q03</th>\n",
              "      <th>Q04</th>\n",
              "      <th>Q05</th>\n",
              "      <th>Q06</th>\n",
              "      <th>Q07</th>\n",
              "      <th>...</th>\n",
              "      <th>Q12</th>\n",
              "      <th>Q13</th>\n",
              "      <th>Q14</th>\n",
              "      <th>Q15</th>\n",
              "      <th>Q16</th>\n",
              "      <th>metacognitive_vector</th>\n",
              "      <th>metacognitive_feedback</th>\n",
              "      <th>combined_problem_student</th>\n",
              "      <th>combined_problem_expected</th>\n",
              "      <th>combined_metacogntion_prompt</th>\n",
              "    </tr>\n",
              "  </thead>\n",
              "  <tbody>\n",
              "    <tr>\n",
              "      <th>0</th>\n",
              "      <td>Develop a Python program that takes the name o...</td>\n",
              "      <td>file_input = input()      file_open = open(fil...</td>\n",
              "      <td>def substitute_vowels(chunk, vowel_substitutes...</td>\n",
              "      <td>3 : Often</td>\n",
              "      <td>2 : Sometimes</td>\n",
              "      <td>1 : Almost Never</td>\n",
              "      <td>3 : Often</td>\n",
              "      <td>2 : Sometimes</td>\n",
              "      <td>2 : Sometimes</td>\n",
              "      <td>1 : Almost Never</td>\n",
              "      <td>...</td>\n",
              "      <td>2 : Sometimes</td>\n",
              "      <td>2 : Sometimes</td>\n",
              "      <td>3 : Often</td>\n",
              "      <td>3 : Often</td>\n",
              "      <td>1 : Almost Never</td>\n",
              "      <td>['3 ', '2 ', '1 ', '3 ', '2 ', '2 ', '1 ', '3 ...</td>\n",
              "      <td>Your initial code serves as a starting point, ...</td>\n",
              "      <td>This is the combination of the problem desccri...</td>\n",
              "      <td>This is the combination of the problem descrip...</td>\n",
              "      <td>Metacognitive feedback helps students reflect ...</td>\n",
              "    </tr>\n",
              "    <tr>\n",
              "      <th>1</th>\n",
              "      <td>Develop a Python program that takes the name o...</td>\n",
              "      <td>file_input = input()      file_open = open(fil...</td>\n",
              "      <td>def substitute_vowels(chunk, vowel_substitutes...</td>\n",
              "      <td>3 : Often</td>\n",
              "      <td>2 : Sometimes</td>\n",
              "      <td>1 : Almost Never</td>\n",
              "      <td>3 : Often</td>\n",
              "      <td>2 : Sometimes</td>\n",
              "      <td>2 : Sometimes</td>\n",
              "      <td>1 : Almost Never</td>\n",
              "      <td>...</td>\n",
              "      <td>2 : Sometimes</td>\n",
              "      <td>2 : Sometimes</td>\n",
              "      <td>3 : Often</td>\n",
              "      <td>3 : Often</td>\n",
              "      <td>1 : Almost Never</td>\n",
              "      <td>['3 ', '2 ', '1 ', '3 ', '2 ', '2 ', '1 ', '3 ...</td>\n",
              "      <td>Your code exhibits a solid attempt at reading ...</td>\n",
              "      <td>This is the combination of the problem desccri...</td>\n",
              "      <td>This is the combination of the problem descrip...</td>\n",
              "      <td>Metacognitive feedback helps students reflect ...</td>\n",
              "    </tr>\n",
              "    <tr>\n",
              "      <th>2</th>\n",
              "      <td>Develop a Python program that takes the name o...</td>\n",
              "      <td>file_input = input()      file_open = open(fil...</td>\n",
              "      <td>def substitute_vowels(chunk, vowel_substitutes...</td>\n",
              "      <td>3 : Often</td>\n",
              "      <td>2 : Sometimes</td>\n",
              "      <td>1 : Almost Never</td>\n",
              "      <td>3 : Often</td>\n",
              "      <td>2 : Sometimes</td>\n",
              "      <td>2 : Sometimes</td>\n",
              "      <td>1 : Almost Never</td>\n",
              "      <td>...</td>\n",
              "      <td>2 : Sometimes</td>\n",
              "      <td>2 : Sometimes</td>\n",
              "      <td>3 : Often</td>\n",
              "      <td>3 : Often</td>\n",
              "      <td>1 : Almost Never</td>\n",
              "      <td>['3 ', '2 ', '1 ', '3 ', '2 ', '2 ', '1 ', '3 ...</td>\n",
              "      <td>It looks like you're in a good place with some...</td>\n",
              "      <td>This is the combination of the problem desccri...</td>\n",
              "      <td>This is the combination of the problem descrip...</td>\n",
              "      <td>Metacognitive feedback helps students reflect ...</td>\n",
              "    </tr>\n",
              "    <tr>\n",
              "      <th>3</th>\n",
              "      <td>Develop a Python program that takes the name o...</td>\n",
              "      <td>file_input = input()      file_open = open(fil...</td>\n",
              "      <td>def substitute_vowels(chunk, vowel_substitutes...</td>\n",
              "      <td>3 : Often</td>\n",
              "      <td>2 : Sometimes</td>\n",
              "      <td>1 : Almost Never</td>\n",
              "      <td>3 : Often</td>\n",
              "      <td>2 : Sometimes</td>\n",
              "      <td>2 : Sometimes</td>\n",
              "      <td>1 : Almost Never</td>\n",
              "      <td>...</td>\n",
              "      <td>2 : Sometimes</td>\n",
              "      <td>2 : Sometimes</td>\n",
              "      <td>3 : Often</td>\n",
              "      <td>3 : Often</td>\n",
              "      <td>1 : Almost Never</td>\n",
              "      <td>['3 ', '2 ', '1 ', '3 ', '2 ', '2 ', '1 ', '3 ...</td>\n",
              "      <td>Your approach to reading the file and splittin...</td>\n",
              "      <td>This is the combination of the problem desccri...</td>\n",
              "      <td>This is the combination of the problem descrip...</td>\n",
              "      <td>Metacognitive feedback helps students reflect ...</td>\n",
              "    </tr>\n",
              "    <tr>\n",
              "      <th>4</th>\n",
              "      <td>Develop a Python program that takes the name o...</td>\n",
              "      <td>file_input = input()      file_open = open(fil...</td>\n",
              "      <td>def substitute_vowels(chunk, vowel_substitutes...</td>\n",
              "      <td>3 : Often</td>\n",
              "      <td>2 : Sometimes</td>\n",
              "      <td>1 : Almost Never</td>\n",
              "      <td>3 : Often</td>\n",
              "      <td>2 : Sometimes</td>\n",
              "      <td>2 : Sometimes</td>\n",
              "      <td>1 : Almost Never</td>\n",
              "      <td>...</td>\n",
              "      <td>2 : Sometimes</td>\n",
              "      <td>2 : Sometimes</td>\n",
              "      <td>3 : Often</td>\n",
              "      <td>3 : Often</td>\n",
              "      <td>1 : Almost Never</td>\n",
              "      <td>['3 ', '2 ', '1 ', '3 ', '2 ', '2 ', '1 ', '3 ...</td>\n",
              "      <td>Your initial approach to the problem is a good...</td>\n",
              "      <td>This is the combination of the problem desccri...</td>\n",
              "      <td>This is the combination of the problem descrip...</td>\n",
              "      <td>Metacognitive feedback helps students reflect ...</td>\n",
              "    </tr>\n",
              "  </tbody>\n",
              "</table>\n",
              "<p>5 rows × 24 columns</p>\n",
              "</div>\n",
              "    <div class=\"colab-df-buttons\">\n",
              "\n",
              "  <div class=\"colab-df-container\">\n",
              "    <button class=\"colab-df-convert\" onclick=\"convertToInteractive('df-320a7d90-631a-439d-8c0c-1cf50cd26c55')\"\n",
              "            title=\"Convert this dataframe to an interactive table.\"\n",
              "            style=\"display:none;\">\n",
              "\n",
              "  <svg xmlns=\"http://www.w3.org/2000/svg\" height=\"24px\" viewBox=\"0 -960 960 960\">\n",
              "    <path d=\"M120-120v-720h720v720H120Zm60-500h600v-160H180v160Zm220 220h160v-160H400v160Zm0 220h160v-160H400v160ZM180-400h160v-160H180v160Zm440 0h160v-160H620v160ZM180-180h160v-160H180v160Zm440 0h160v-160H620v160Z\"/>\n",
              "  </svg>\n",
              "    </button>\n",
              "\n",
              "  <style>\n",
              "    .colab-df-container {\n",
              "      display:flex;\n",
              "      gap: 12px;\n",
              "    }\n",
              "\n",
              "    .colab-df-convert {\n",
              "      background-color: #E8F0FE;\n",
              "      border: none;\n",
              "      border-radius: 50%;\n",
              "      cursor: pointer;\n",
              "      display: none;\n",
              "      fill: #1967D2;\n",
              "      height: 32px;\n",
              "      padding: 0 0 0 0;\n",
              "      width: 32px;\n",
              "    }\n",
              "\n",
              "    .colab-df-convert:hover {\n",
              "      background-color: #E2EBFA;\n",
              "      box-shadow: 0px 1px 2px rgba(60, 64, 67, 0.3), 0px 1px 3px 1px rgba(60, 64, 67, 0.15);\n",
              "      fill: #174EA6;\n",
              "    }\n",
              "\n",
              "    .colab-df-buttons div {\n",
              "      margin-bottom: 4px;\n",
              "    }\n",
              "\n",
              "    [theme=dark] .colab-df-convert {\n",
              "      background-color: #3B4455;\n",
              "      fill: #D2E3FC;\n",
              "    }\n",
              "\n",
              "    [theme=dark] .colab-df-convert:hover {\n",
              "      background-color: #434B5C;\n",
              "      box-shadow: 0px 1px 3px 1px rgba(0, 0, 0, 0.15);\n",
              "      filter: drop-shadow(0px 1px 2px rgba(0, 0, 0, 0.3));\n",
              "      fill: #FFFFFF;\n",
              "    }\n",
              "  </style>\n",
              "\n",
              "    <script>\n",
              "      const buttonEl =\n",
              "        document.querySelector('#df-320a7d90-631a-439d-8c0c-1cf50cd26c55 button.colab-df-convert');\n",
              "      buttonEl.style.display =\n",
              "        google.colab.kernel.accessAllowed ? 'block' : 'none';\n",
              "\n",
              "      async function convertToInteractive(key) {\n",
              "        const element = document.querySelector('#df-320a7d90-631a-439d-8c0c-1cf50cd26c55');\n",
              "        const dataTable =\n",
              "          await google.colab.kernel.invokeFunction('convertToInteractive',\n",
              "                                                    [key], {});\n",
              "        if (!dataTable) return;\n",
              "\n",
              "        const docLinkHtml = 'Like what you see? Visit the ' +\n",
              "          '<a target=\"_blank\" href=https://colab.research.google.com/notebooks/data_table.ipynb>data table notebook</a>'\n",
              "          + ' to learn more about interactive tables.';\n",
              "        element.innerHTML = '';\n",
              "        dataTable['output_type'] = 'display_data';\n",
              "        await google.colab.output.renderOutput(dataTable, element);\n",
              "        const docLink = document.createElement('div');\n",
              "        docLink.innerHTML = docLinkHtml;\n",
              "        element.appendChild(docLink);\n",
              "      }\n",
              "    </script>\n",
              "  </div>\n",
              "\n",
              "\n",
              "<div id=\"df-92d12b4c-dd84-4685-8ab2-b412bd9672f8\">\n",
              "  <button class=\"colab-df-quickchart\" onclick=\"quickchart('df-92d12b4c-dd84-4685-8ab2-b412bd9672f8')\"\n",
              "            title=\"Suggest charts\"\n",
              "            style=\"display:none;\">\n",
              "\n",
              "<svg xmlns=\"http://www.w3.org/2000/svg\" height=\"24px\"viewBox=\"0 0 24 24\"\n",
              "     width=\"24px\">\n",
              "    <g>\n",
              "        <path d=\"M19 3H5c-1.1 0-2 .9-2 2v14c0 1.1.9 2 2 2h14c1.1 0 2-.9 2-2V5c0-1.1-.9-2-2-2zM9 17H7v-7h2v7zm4 0h-2V7h2v10zm4 0h-2v-4h2v4z\"/>\n",
              "    </g>\n",
              "</svg>\n",
              "  </button>\n",
              "\n",
              "<style>\n",
              "  .colab-df-quickchart {\n",
              "      --bg-color: #E8F0FE;\n",
              "      --fill-color: #1967D2;\n",
              "      --hover-bg-color: #E2EBFA;\n",
              "      --hover-fill-color: #174EA6;\n",
              "      --disabled-fill-color: #AAA;\n",
              "      --disabled-bg-color: #DDD;\n",
              "  }\n",
              "\n",
              "  [theme=dark] .colab-df-quickchart {\n",
              "      --bg-color: #3B4455;\n",
              "      --fill-color: #D2E3FC;\n",
              "      --hover-bg-color: #434B5C;\n",
              "      --hover-fill-color: #FFFFFF;\n",
              "      --disabled-bg-color: #3B4455;\n",
              "      --disabled-fill-color: #666;\n",
              "  }\n",
              "\n",
              "  .colab-df-quickchart {\n",
              "    background-color: var(--bg-color);\n",
              "    border: none;\n",
              "    border-radius: 50%;\n",
              "    cursor: pointer;\n",
              "    display: none;\n",
              "    fill: var(--fill-color);\n",
              "    height: 32px;\n",
              "    padding: 0;\n",
              "    width: 32px;\n",
              "  }\n",
              "\n",
              "  .colab-df-quickchart:hover {\n",
              "    background-color: var(--hover-bg-color);\n",
              "    box-shadow: 0 1px 2px rgba(60, 64, 67, 0.3), 0 1px 3px 1px rgba(60, 64, 67, 0.15);\n",
              "    fill: var(--button-hover-fill-color);\n",
              "  }\n",
              "\n",
              "  .colab-df-quickchart-complete:disabled,\n",
              "  .colab-df-quickchart-complete:disabled:hover {\n",
              "    background-color: var(--disabled-bg-color);\n",
              "    fill: var(--disabled-fill-color);\n",
              "    box-shadow: none;\n",
              "  }\n",
              "\n",
              "  .colab-df-spinner {\n",
              "    border: 2px solid var(--fill-color);\n",
              "    border-color: transparent;\n",
              "    border-bottom-color: var(--fill-color);\n",
              "    animation:\n",
              "      spin 1s steps(1) infinite;\n",
              "  }\n",
              "\n",
              "  @keyframes spin {\n",
              "    0% {\n",
              "      border-color: transparent;\n",
              "      border-bottom-color: var(--fill-color);\n",
              "      border-left-color: var(--fill-color);\n",
              "    }\n",
              "    20% {\n",
              "      border-color: transparent;\n",
              "      border-left-color: var(--fill-color);\n",
              "      border-top-color: var(--fill-color);\n",
              "    }\n",
              "    30% {\n",
              "      border-color: transparent;\n",
              "      border-left-color: var(--fill-color);\n",
              "      border-top-color: var(--fill-color);\n",
              "      border-right-color: var(--fill-color);\n",
              "    }\n",
              "    40% {\n",
              "      border-color: transparent;\n",
              "      border-right-color: var(--fill-color);\n",
              "      border-top-color: var(--fill-color);\n",
              "    }\n",
              "    60% {\n",
              "      border-color: transparent;\n",
              "      border-right-color: var(--fill-color);\n",
              "    }\n",
              "    80% {\n",
              "      border-color: transparent;\n",
              "      border-right-color: var(--fill-color);\n",
              "      border-bottom-color: var(--fill-color);\n",
              "    }\n",
              "    90% {\n",
              "      border-color: transparent;\n",
              "      border-bottom-color: var(--fill-color);\n",
              "    }\n",
              "  }\n",
              "</style>\n",
              "\n",
              "  <script>\n",
              "    async function quickchart(key) {\n",
              "      const quickchartButtonEl =\n",
              "        document.querySelector('#' + key + ' button');\n",
              "      quickchartButtonEl.disabled = true;  // To prevent multiple clicks.\n",
              "      quickchartButtonEl.classList.add('colab-df-spinner');\n",
              "      try {\n",
              "        const charts = await google.colab.kernel.invokeFunction(\n",
              "            'suggestCharts', [key], {});\n",
              "      } catch (error) {\n",
              "        console.error('Error during call to suggestCharts:', error);\n",
              "      }\n",
              "      quickchartButtonEl.classList.remove('colab-df-spinner');\n",
              "      quickchartButtonEl.classList.add('colab-df-quickchart-complete');\n",
              "    }\n",
              "    (() => {\n",
              "      let quickchartButtonEl =\n",
              "        document.querySelector('#df-92d12b4c-dd84-4685-8ab2-b412bd9672f8 button');\n",
              "      quickchartButtonEl.style.display =\n",
              "        google.colab.kernel.accessAllowed ? 'block' : 'none';\n",
              "    })();\n",
              "  </script>\n",
              "</div>\n",
              "\n",
              "    </div>\n",
              "  </div>\n"
            ],
            "application/vnd.google.colaboratory.intrinsic+json": {
              "type": "dataframe",
              "variable_name": "df"
            }
          },
          "metadata": {},
          "execution_count": 29
        }
      ],
      "execution_count": 29
    },
    {
      "cell_type": "code",
      "source": [
        "from torch.utils.data import Dataset\n",
        "import ast\n",
        "class CustomDataset(Dataset):\n",
        "    def __init__(self, dataset, t5_tokenizer,gpt2_tokenizer, max_length=512):\n",
        "        self.t5_tokenizer = t5_tokenizer\n",
        "        self.gpt2_tokenizer = gpt2_tokenizer\n",
        "        self.data = dataset\n",
        "        self.max_length = max_length\n",
        "\n",
        "    def __len__(self):\n",
        "        return len(self.data)\n",
        "\n",
        "    def __getitem__(self, idx):\n",
        "        metacognitive_prompt = self.data['combined_metacogntion_prompt'][idx]\n",
        "        problem_student_code = self.data['combined_problem_student'][idx]\n",
        "        problem_expected_code = self.data['combined_problem_expected'][idx]\n",
        "        student_code = self.data['Student_code'][idx]\n",
        "        target = self.data['metacognitive_feedback'][idx]\n",
        "\n",
        "        # metacognitive_vector_float = [\n",
        "        # float(item.strip()) for item in ast.literal_eval(metacognitive_vector)]\n",
        "        # metacognition_vector_ids = torch.tensor(metacognitive_vector_float, dtype=torch.float)\n",
        "        metacognition_prompt_ids = torch.tensor(\n",
        "            self.t5_tokenizer.encode(metacognitive_prompt, max_length=self.max_length, truncation=True, padding=\"max_length\")\n",
        "        )\n",
        "\n",
        "        problem_student_code_ids = torch.tensor(\n",
        "            self.t5_tokenizer.encode(problem_student_code, max_length=self.max_length, truncation=True, padding=\"max_length\")\n",
        "        )\n",
        "        problem_expected_code_ids = torch.tensor(\n",
        "            self.t5_tokenizer.encode(problem_expected_code, max_length=self.max_length, truncation=True, padding=\"max_length\")\n",
        "        )\n",
        "\n",
        "        student_code_ids = torch.tensor(\n",
        "            self.t5_tokenizer.encode(student_code, max_length=self.max_length, truncation=True, padding=\"max_length\")\n",
        "        )\n",
        "        target_ids = torch.tensor(\n",
        "            self.t5_tokenizer.encode(target, max_length=self.max_length, truncation=True, padding=\"max_length\")\n",
        "        )\n",
        "\n",
        "        return metacognition_prompt_ids, problem_student_code_ids, problem_expected_code_ids, student_code_ids, target_ids"
      ],
      "metadata": {
        "trusted": true,
        "execution": {
          "iopub.status.busy": "2025-01-10T08:01:09.827186Z",
          "iopub.execute_input": "2025-01-10T08:01:09.827511Z",
          "iopub.status.idle": "2025-01-10T08:01:09.834381Z",
          "shell.execute_reply.started": "2025-01-10T08:01:09.827482Z",
          "shell.execute_reply": "2025-01-10T08:01:09.83355Z"
        },
        "id": "nNEuM_O3a7Iv"
      },
      "outputs": [],
      "execution_count": 30
    },
    {
      "cell_type": "code",
      "source": [
        "dataset = CustomDataset(df, t5_tokenizer, gpt2_tokenizer)"
      ],
      "metadata": {
        "trusted": true,
        "execution": {
          "iopub.status.busy": "2025-01-10T08:01:11.787462Z",
          "iopub.execute_input": "2025-01-10T08:01:11.787789Z",
          "iopub.status.idle": "2025-01-10T08:01:11.791449Z",
          "shell.execute_reply.started": "2025-01-10T08:01:11.787764Z",
          "shell.execute_reply": "2025-01-10T08:01:11.79052Z"
        },
        "id": "Xjf6vXzJa7Iv"
      },
      "outputs": [],
      "execution_count": 31
    },
    {
      "cell_type": "code",
      "source": [
        "len(dataset)"
      ],
      "metadata": {
        "trusted": true,
        "execution": {
          "iopub.status.busy": "2025-01-10T08:01:12.182505Z",
          "iopub.execute_input": "2025-01-10T08:01:12.183041Z",
          "iopub.status.idle": "2025-01-10T08:01:12.188023Z",
          "shell.execute_reply.started": "2025-01-10T08:01:12.18301Z",
          "shell.execute_reply": "2025-01-10T08:01:12.187153Z"
        },
        "id": "qmSPRdvNa7Iw",
        "outputId": "6951910c-7ddd-4c9e-92e5-2fc3e8dc1206",
        "colab": {
          "base_uri": "https://localhost:8080/"
        }
      },
      "outputs": [
        {
          "output_type": "execute_result",
          "data": {
            "text/plain": [
              "16803"
            ]
          },
          "metadata": {},
          "execution_count": 32
        }
      ],
      "execution_count": 32
    },
    {
      "cell_type": "code",
      "source": [
        "metacognition_prompt_ids, problem_student_code_ids, problem_expected_code_ids, student_code_ids, target_ids = dataset[4000]\n",
        "print(f\"Metacognition vector IDs: {metacognition_prompt_ids}\")\n",
        "print(f\"Expected feedback IDs: {problem_student_code_ids}\")\n",
        "print(f\"Expected encoded feedback IDs: {problem_expected_code_ids}\")\n",
        "print(f\"Student Answer IDs: {student_code_ids.shape}\")\n",
        "print(f\"Target IDs: {target_ids.shape}\")\n",
        "print(\"\\n\")"
      ],
      "metadata": {
        "trusted": true,
        "execution": {
          "iopub.status.busy": "2025-01-10T08:01:12.587442Z",
          "iopub.execute_input": "2025-01-10T08:01:12.587705Z",
          "iopub.status.idle": "2025-01-10T08:01:12.644008Z",
          "shell.execute_reply.started": "2025-01-10T08:01:12.587684Z",
          "shell.execute_reply": "2025-01-10T08:01:12.643328Z"
        },
        "id": "n5JGeIpza7Ix",
        "collapsed": true,
        "jupyter": {
          "outputs_hidden": true
        },
        "outputId": "b89c074a-0718-4e87-b420-623e6085c3ee",
        "colab": {
          "base_uri": "https://localhost:8080/"
        }
      },
      "outputs": [
        {
          "output_type": "stream",
          "name": "stdout",
          "text": [
            "Metacognition vector IDs: tensor([14204,    75, 12905,  3268,  3160,  1691,   481,  3548,    30,    70,\n",
            "        12628,    18,  6065,    53,  3266,     5,    37,  2804, 10531,    75,\n",
            "        12905,  3268, 12938,    19,     3,     9,   898,    18, 11619, 12938,\n",
            "            3, 16012,     8,  1236,    31,     7, 10531,    75, 12905,  1575,\n",
            "         3278,    10,   213,   284,  9340,  5475,    80,    13,   898, 10531,\n",
            "           75, 12905,  3268,  3379,     6,     3,  4094,    38,   209,    41,\n",
            "        13283,   470,   201,   204,    41, 19055,   715,     7,   201,    42,\n",
            "          220,    41, 10084,   137,   506,  3379,   560,    10,  3403,     6,\n",
            "            3, 23393,     6,   419, 27111,     6, 19119,     6, 11429,  3035,\n",
            "            6, 23621,    15,     6,  2926,     6,  6342,   159,    15,     6,\n",
            "          781,  4921,     6, 15856,   329,   159,  4914,     7,     6, 15192,\n",
            "        14337,   102,     7,     6, 15192,  3174,  2319,     7,     6, 23545,\n",
            "          342,  4302,     7,  9719,    17,     7,     6,  1193,  7001,     6,\n",
            "         1972,  1649,  1169,    60,  4128,     6, 23966,     5, 12636,    15,\n",
            "           19,     8,  1236,    31,     7, 10531,    75, 12905,  1575, 12938,\n",
            "           10,   784,    31,   519,     3,    31,     6,     3,    31,   519,\n",
            "            3,    31,     6,     3,    31,   357,     3,    31,     6,     3,\n",
            "           31,   519,     3,    31,     6,     3,    31,   519,     3,    31,\n",
            "            6,     3,    31,   519,     3,    31,     6,     3,    31,   536,\n",
            "            3,    31,     6,     3,    31,   536,     3,    31,     6,     3,\n",
            "           31,   519,     3,    31,     6,     3,    31,   357,     3,    31,\n",
            "            6,     3,    31,   519,     3,    31,     6,     3,    31,   519,\n",
            "            3,    31,     6,     3,    31,   519,     3,    31,     6,     3,\n",
            "           31,   519,     3,    31,     6,     3,    31,   519,     3,    31,\n",
            "            6,     3,    31,   519,     3,    31,   908,     1,     0,     0,\n",
            "            0,     0,     0,     0,     0,     0,     0,     0,     0,     0,\n",
            "            0,     0,     0,     0,     0,     0,     0,     0,     0,     0,\n",
            "            0,     0,     0,     0,     0,     0,     0,     0,     0,     0,\n",
            "            0,     0,     0,     0,     0,     0,     0,     0,     0,     0,\n",
            "            0,     0,     0,     0,     0,     0,     0,     0,     0,     0,\n",
            "            0,     0,     0,     0,     0,     0,     0,     0,     0,     0,\n",
            "            0,     0,     0,     0,     0,     0,     0,     0,     0,     0,\n",
            "            0,     0,     0,     0,     0,     0,     0,     0,     0,     0,\n",
            "            0,     0,     0,     0,     0,     0,     0,     0,     0,     0,\n",
            "            0,     0,     0,     0,     0,     0,     0,     0,     0,     0,\n",
            "            0,     0,     0,     0,     0,     0,     0,     0,     0,     0,\n",
            "            0,     0,     0,     0,     0,     0,     0,     0,     0,     0,\n",
            "            0,     0,     0,     0,     0,     0,     0,     0,     0,     0,\n",
            "            0,     0,     0,     0,     0,     0,     0,     0,     0,     0,\n",
            "            0,     0,     0,     0,     0,     0,     0,     0,     0,     0,\n",
            "            0,     0,     0,     0,     0,     0,     0,     0,     0,     0,\n",
            "            0,     0,     0,     0,     0,     0,     0,     0,     0,     0,\n",
            "            0,     0,     0,     0,     0,     0,     0,     0,     0,     0,\n",
            "            0,     0,     0,     0,     0,     0,     0,     0,     0,     0,\n",
            "            0,     0,     0,     0,     0,     0,     0,     0,     0,     0,\n",
            "            0,     0,     0,     0,     0,     0,     0,     0,     0,     0,\n",
            "            0,     0,     0,     0,     0,     0,     0,     0,     0,     0,\n",
            "            0,     0,     0,     0,     0,     0,     0,     0,     0,     0,\n",
            "            0,     0,     0,     0,     0,     0,     0,     0,     0,     0,\n",
            "            0,     0,     0,     0,     0,     0,     0,     0,     0,     0,\n",
            "            0,     0,     0,     0,     0,     0,     0,     0,     0,     0,\n",
            "            0,     0])\n",
            "Expected feedback IDs: tensor([  100,    19,     8,  2711,    13,     8,   682,    93,    75, 29771,\n",
            "           23,   106,    11,     8,  1236,   937,  1081,     5,  5289,    10,\n",
            "        24305,     3,     9, 20737,   478,    24,  1217,  1236,  3056,    11,\n",
            "           70,  7586,    16,  1317,  7404,    38,  3785,    45,     3,     9,\n",
            "         1042,    11,  3911,     7,   284,  1236,    31,     7,  1348,  2604,\n",
            "           12,     8,  8990,    41, 10475,  5595,   137,  5433,     6,     8,\n",
            "          478,   398,  3911,     8,   564,   599,     7,    61,    13,     8,\n",
            "         1236,   599,     7,    61,    28,     8,  2030,    11,  7402,  1348,\n",
            "         7586,     5,   696,   478,   398,  6634,    11,   169,    44,   709,\n",
            "           80,  1681,     5,    27,  9082,  6675,  5652, 18169,    10,  1429,\n",
            "           71,  1499,  1042,   213,   284,   689,  2579,     3,     9,  1236,\n",
            "           31,     7,   564,  2348,    57,    70,  7586,    16,  1317,  7404,\n",
            "            6,    66, 12494,    57,  4856,     5,    37,   381,    13,  7404,\n",
            "           54,  5215,   344,   481,     6,    68,   284,  1236,    56,    43,\n",
            "           44,   709,   220,  7404,     5,    37,   689,  1910,    19,    10,\n",
            "         6341, 23954, 17763,   536, 17763,   357,     3,   233, 17763,   567,\n",
            "            5,  1698,  2604,    19,    46, 30278,    16,     8,   620,     3,\n",
            "         9498,  2915,     5,   290,    56,    36,    44,   709,    80,  1236,\n",
            "           11,   112,    87,   760,  7586,    16,     8,  1042,     5,     3,\n",
            "         9744,   345,  6675,  5652, 18169,    10,  1429,    37,   478,   225,\n",
            "          166,  3911,     8,   564,    11,  1348,  2604,     3, 12279,    12,\n",
            "          192,  7908,  1982,  1747,    13,   334,  1236,    30,    80,   689,\n",
            "            6,    16,     8,   455,    79,  4283,    16,     8,  3785,     5,\n",
            "         1429,    37,   478,   225,   416,  3911,     8,   564,   599,     7,\n",
            "           61,    13,     8,  1236,   599,     7,    61,    28,     8,  2030,\n",
            "           11,  7402,  1348,  7586,     6,   590,    28,    70,  1348,  7586,\n",
            "            5,   156,   132,    19,   163,    80,  1236,     6,    24,  1236,\n",
            "          225,    36,  2008,    21,   321,     8,  2030,    11,  7402,  1348,\n",
            "            5,   156,   132,    33,  1317,   481,    28,     8,   337,  2030,\n",
            "           42,  7402,  1348,     6,   258,   570,    66,   224,   481,    16,\n",
            "            8,   455,    79,  4283,    16,     8,  3785,     5,   262,     4,\n",
            "        15837,  3765,   209,    10,    27,  9082,  6675,    41, 17752, 17779,\n",
            "         4578,  3347,   377, 20129,    61,    10, 13390, 11989,  2777,     3,\n",
            "         3940,  5762,  2861,  6374,  2775, 11989, 12707,     3,  4060, 11989,\n",
            "         2777,     3,  4271,     3,  4508,     3,  9744,   345,  6675,    10,\n",
            "        13390,    10,     3,  4608,     5,  4201,  5762,    10,     3,  4013,\n",
            "            5,  1752, 12707,    10,     3,  3914,     5,  3328,  1592,   222,\n",
            "        23836,    10, 12707,     6,     3,  3914,     5,  3328,  5586,   222,\n",
            "        23836,    10,  5762,     6,     3,  4013,     5,  1752,   262,     4,\n",
            "        15837,  3765,   204,    10,    27,  9082,  6675,    41, 17752, 17779,\n",
            "         4578,  3347,   377, 20129,    61,    10, 13390, 11989,  2777, 11923,\n",
            "         5762,  6374,  2775, 11989, 12707, 11923,  2777, 11989, 18821, 11923,\n",
            "         2777, 11989, 11566,  1640,  7123,  2861,     3,  9744,   345,  6675,\n",
            "           10, 13390,    10,   668, 10667,  5762,    10,   505, 10667, 12707,\n",
            "           10,   668, 10667, 18821,    10,   668, 10667, 11566,    10,   431,\n",
            "        23577,  1592,   222, 23836,    10, 13390,     6, 12707,     6, 18821,\n",
            "            6,   668, 10667,  5586,   222, 23836,    10, 11566,     6,   431,\n",
            "        23577,     5,  6341,   937,  1081,    10,  3785,   834, 11966,  2423,\n",
            "           77,  2562,  9960,     3,   226,    32,  2423,  8751,   599,    77,\n",
            "         2562,   834, 11966,     6,    31,    52,    31,    61,  1713,  8751,\n",
            "            8,  1042,   608,   834, 11966,  2423,   226,    32,     5,  5236,\n",
            "         9960,     1])\n",
            "Expected encoded feedback IDs: tensor([  100,    19,     8,  2711,    13,     8,   682,  4210,    11,     8,\n",
            "         1644,  2024,  1525,    21,    24, 12628,   408,   822,     5,  5289,\n",
            "           10, 24305,     3,     9, 20737,   478,    24,  1217,  1236,  3056,\n",
            "           11,    70,  7586,    16,  1317,  7404,    38,  3785,    45,     3,\n",
            "            9,  1042,    11,  3911,     7,   284,  1236,    31,     7,  1348,\n",
            "         2604,    12,     8,  8990,    41, 10475,  5595,   137,  5433,     6,\n",
            "            8,   478,   398,  3911,     8,   564,   599,     7,    61,    13,\n",
            "            8,  1236,   599,     7,    61,    28,     8,  2030,    11,  7402,\n",
            "         1348,  7586,     5,   696,   478,   398,  6634,    11,   169,    44,\n",
            "          709,    80,  1681,     5,    27,  9082,  6675,  5652, 18169,    10,\n",
            "         1429,    71,  1499,  1042,   213,   284,   689,  2579,     3,     9,\n",
            "         1236,    31,     7,   564,  2348,    57,    70,  7586,    16,  1317,\n",
            "         7404,     6,    66, 12494,    57,  4856,     5,    37,   381,    13,\n",
            "         7404,    54,  5215,   344,   481,     6,    68,   284,  1236,    56,\n",
            "           43,    44,   709,   220,  7404,     5,    37,   689,  1910,    19,\n",
            "           10,  6341, 23954, 17763,   536, 17763,   357,     3,   233, 17763,\n",
            "          567,     5,  1698,  2604,    19,    46, 30278,    16,     8,   620,\n",
            "            3,  9498,  2915,     5,   290,    56,    36,    44,   709,    80,\n",
            "         1236,    11,   112,    87,   760,  7586,    16,     8,  1042,     5,\n",
            "            3,  9744,   345,  6675,  5652, 18169,    10,  1429,    37,   478,\n",
            "          225,   166,  3911,     8,   564,    11,  1348,  2604,     3, 12279,\n",
            "           12,   192,  7908,  1982,  1747,    13,   334,  1236,    30,    80,\n",
            "          689,     6,    16,     8,   455,    79,  4283,    16,     8,  3785,\n",
            "            5,  1429,    37,   478,   225,   416,  3911,     8,   564,   599,\n",
            "            7,    61,    13,     8,  1236,   599,     7,    61,    28,     8,\n",
            "         2030,    11,  7402,  1348,  7586,     6,   590,    28,    70,  1348,\n",
            "         7586,     5,   156,   132,    19,   163,    80,  1236,     6,    24,\n",
            "         1236,   225,    36,  2008,    21,   321,     8,  2030,    11,  7402,\n",
            "         1348,     5,   156,   132,    33,  1317,   481,    28,     8,   337,\n",
            "         2030,    42,  7402,  1348,     6,   258,   570,    66,   224,   481,\n",
            "           16,     8,   455,    79,  4283,    16,     8,  3785,     5,   262,\n",
            "            4, 15837,  3765,   209,    10,    27,  9082,  6675,    41, 17752,\n",
            "        17779,  4578,  3347,   377, 20129,    61,    10, 13390, 11989,  2777,\n",
            "            3,  3940,  5762,  2861,  6374,  2775, 11989, 12707,     3,  4060,\n",
            "        11989,  2777,     3,  4271,     3,  4508,     3,  9744,   345,  6675,\n",
            "           10, 13390,    10,     3,  4608,     5,  4201,  5762,    10,     3,\n",
            "         4013,     5,  1752, 12707,    10,     3,  3914,     5,  3328,  1592,\n",
            "          222, 23836,    10, 12707,     6,     3,  3914,     5,  3328,  5586,\n",
            "          222, 23836,    10,  5762,     6,     3,  4013,     5,  1752,   262,\n",
            "            4, 15837,  3765,   204,    10,    27,  9082,  6675,    41, 17752,\n",
            "        17779,  4578,  3347,   377, 20129,    61,    10, 13390, 11989,  2777,\n",
            "        11923,  5762,  6374,  2775, 11989, 12707, 11923,  2777, 11989, 18821,\n",
            "        11923,  2777, 11989, 11566,  1640,  7123,  2861,     3,  9744,   345,\n",
            "         6675,    10, 13390,    10,   668, 10667,  5762,    10,   505, 10667,\n",
            "        12707,    10,   668, 10667, 18821,    10,   668, 10667, 11566,    10,\n",
            "          431, 23577,  1592,   222, 23836,    10, 13390,     6, 12707,     6,\n",
            "        18821,     6,   668, 10667,  5586,   222, 23836,    10, 11566,     6,\n",
            "          431, 23577,     5, 19539,    15,    26,  2024,    46,     7,     7,\n",
            "         3321,    21,     8,   682,    10,    20,    89, 11837,   834, 28951,\n",
            "          599,     7,  9022,     7,    61,    10,  1205,  4505,   599,     7,\n",
            "         9022,     7,    61,     3,    87,    90,    29,   599,     7,  9022,\n",
            "            7,     1])\n",
            "Student Answer IDs: torch.Size([512])\n",
            "Target IDs: torch.Size([512])\n",
            "\n",
            "\n"
          ]
        }
      ],
      "execution_count": 33
    },
    {
      "cell_type": "code",
      "source": [
        "gpt2_tokenizer.pad_token"
      ],
      "metadata": {
        "trusted": true,
        "execution": {
          "iopub.status.busy": "2025-01-10T08:01:19.862935Z",
          "iopub.execute_input": "2025-01-10T08:01:19.863329Z",
          "iopub.status.idle": "2025-01-10T08:01:19.86895Z",
          "shell.execute_reply.started": "2025-01-10T08:01:19.863292Z",
          "shell.execute_reply": "2025-01-10T08:01:19.868143Z"
        },
        "id": "6Wlser8Ba7Iy",
        "outputId": "a74082f1-8e7c-4bc2-8fe7-7ab9ea3aae28",
        "colab": {
          "base_uri": "https://localhost:8080/",
          "height": 36
        }
      },
      "outputs": [
        {
          "output_type": "execute_result",
          "data": {
            "text/plain": [
              "'<|endoftext|>'"
            ],
            "application/vnd.google.colaboratory.intrinsic+json": {
              "type": "string"
            }
          },
          "metadata": {},
          "execution_count": 34
        }
      ],
      "execution_count": 34
    },
    {
      "cell_type": "code",
      "source": [
        "gpt2_pad_token_id = gpt2_tokenizer.pad_token_id"
      ],
      "metadata": {
        "trusted": true,
        "execution": {
          "iopub.status.busy": "2025-01-10T08:01:20.506762Z",
          "iopub.execute_input": "2025-01-10T08:01:20.507076Z",
          "iopub.status.idle": "2025-01-10T08:01:20.510997Z",
          "shell.execute_reply.started": "2025-01-10T08:01:20.507046Z",
          "shell.execute_reply": "2025-01-10T08:01:20.510051Z"
        },
        "id": "cnDxXCGxa7Iy"
      },
      "outputs": [],
      "execution_count": 35
    },
    {
      "cell_type": "code",
      "source": [
        "gpt2_pad_token_id"
      ],
      "metadata": {
        "trusted": true,
        "execution": {
          "iopub.status.busy": "2025-01-10T08:01:21.2266Z",
          "iopub.execute_input": "2025-01-10T08:01:21.226909Z",
          "iopub.status.idle": "2025-01-10T08:01:21.232061Z",
          "shell.execute_reply.started": "2025-01-10T08:01:21.226881Z",
          "shell.execute_reply": "2025-01-10T08:01:21.231191Z"
        },
        "id": "5LAI9-sZa7Iy",
        "outputId": "63b56b58-9297-45ed-95a2-f7b00eb5c848",
        "colab": {
          "base_uri": "https://localhost:8080/"
        }
      },
      "outputs": [
        {
          "output_type": "execute_result",
          "data": {
            "text/plain": [
              "50256"
            ]
          },
          "metadata": {},
          "execution_count": 36
        }
      ],
      "execution_count": 36
    },
    {
      "cell_type": "code",
      "source": [
        "t5_tokenizer.pad_token"
      ],
      "metadata": {
        "trusted": true,
        "execution": {
          "iopub.status.busy": "2025-01-10T08:01:23.328268Z",
          "iopub.execute_input": "2025-01-10T08:01:23.328922Z",
          "iopub.status.idle": "2025-01-10T08:01:23.33844Z",
          "shell.execute_reply.started": "2025-01-10T08:01:23.328875Z",
          "shell.execute_reply": "2025-01-10T08:01:23.337321Z"
        },
        "id": "hEyynFuNa7Iz",
        "outputId": "5f8ba893-2930-4c92-afa6-3b9f632bd0dd",
        "colab": {
          "base_uri": "https://localhost:8080/",
          "height": 36
        }
      },
      "outputs": [
        {
          "output_type": "execute_result",
          "data": {
            "text/plain": [
              "'<pad>'"
            ],
            "application/vnd.google.colaboratory.intrinsic+json": {
              "type": "string"
            }
          },
          "metadata": {},
          "execution_count": 37
        }
      ],
      "execution_count": 37
    },
    {
      "cell_type": "code",
      "source": [
        "t5_pad_token_id = t5_tokenizer.pad_token_id"
      ],
      "metadata": {
        "trusted": true,
        "execution": {
          "iopub.status.busy": "2025-01-10T08:01:23.681422Z",
          "iopub.execute_input": "2025-01-10T08:01:23.681757Z",
          "iopub.status.idle": "2025-01-10T08:01:23.687243Z",
          "shell.execute_reply.started": "2025-01-10T08:01:23.681728Z",
          "shell.execute_reply": "2025-01-10T08:01:23.684135Z"
        },
        "id": "sGPK7f0ba7Iz"
      },
      "outputs": [],
      "execution_count": 38
    },
    {
      "cell_type": "code",
      "source": [
        "t5_pad_token_id"
      ],
      "metadata": {
        "trusted": true,
        "execution": {
          "iopub.status.busy": "2025-01-10T08:01:23.936261Z",
          "iopub.execute_input": "2025-01-10T08:01:23.936529Z",
          "iopub.status.idle": "2025-01-10T08:01:23.941523Z",
          "shell.execute_reply.started": "2025-01-10T08:01:23.936506Z",
          "shell.execute_reply": "2025-01-10T08:01:23.940795Z"
        },
        "id": "nWn7op96a7I0",
        "outputId": "bd4c99d8-4932-4564-be9c-4c4ce7a4e40e",
        "colab": {
          "base_uri": "https://localhost:8080/"
        }
      },
      "outputs": [
        {
          "output_type": "execute_result",
          "data": {
            "text/plain": [
              "0"
            ]
          },
          "metadata": {},
          "execution_count": 39
        }
      ],
      "execution_count": 39
    },
    {
      "cell_type": "markdown",
      "source": [
        "# Context Enocder"
      ],
      "metadata": {
        "id": "HK7ybN62a7I0"
      }
    },
    {
      "cell_type": "code",
      "source": [
        "# class ContextEncoder(nn.Module):\n",
        "#     def __init__(self, t5_model_name='t5-base', output_dim=768 , max_length = 512):\n",
        "#         super(ContextEncoder, self).__init__()\n",
        "\n",
        "#         self.max_length = max_length\n",
        "\n",
        "#         self.t5_encoder = T5Model.from_pretrained(t5_model_name).encoder\n",
        "#         self.t5_tokenizer = T5Tokenizer.from_pretrained(t5_model_name)\n",
        "#         self.fc = nn.Linear(self.t5_encoder.config.d_model, output_dim)\n",
        "\n",
        "#     def forward(self, problem_code_ids, attention_masks=None, prompt=\"\"):\n",
        "\n",
        "#         prompt_ids = torch.tensor(\n",
        "#             self.t5_tokenizer.encode(prompt, max_length=self.max_length, truncation=True, padding=\"max_length\")\n",
        "#         )\n",
        "\n",
        "#         problem_code = [self.t5_tokenizer.decode(ids, skip_special_tokens=True) for ids in problem_code_ids]\n",
        "\n",
        "#         combined_text = prompt + \" \" + \" \".join(problem_code)\n",
        "\n",
        "#         encoded = self.t5_tokenizer(\n",
        "#             combined_text,\n",
        "#             max_length=self.max_length,\n",
        "#             truncation=True,\n",
        "#             padding=\"max_length\",\n",
        "#             return_tensors=\"pt\"\n",
        "#         ).to(problem_code_ids.device)\n",
        "\n",
        "#         encoder_outputs = self.t5_encoder(\n",
        "#             input_ids=encoded[\"input_ids\"],\n",
        "#             attention_mask=encoded[\"attention_mask\"]\n",
        "#         )\n",
        "\n",
        "#         context_hidden_states = encoder_outputs.last_hidden_state\n",
        "\n",
        "#         context_rep = context_hidden_states.mean(dim=1)\n",
        "\n",
        "#         # decoded_combined = [\n",
        "#         # self.t5_tokenizer.decode(ids, skip_special_tokens=True)\n",
        "#         # for ids in encoded_outputs]\n",
        "\n",
        "#         context_rep = self.fc(context_rep)\n",
        "#         final_rep = context_rep.unsqueeze(1)\n",
        "\n",
        "#         return final_rep"
      ],
      "metadata": {
        "trusted": true,
        "execution": {
          "iopub.status.busy": "2025-01-10T07:42:09.352192Z",
          "iopub.execute_input": "2025-01-10T07:42:09.35248Z",
          "iopub.status.idle": "2025-01-10T07:42:09.356085Z",
          "shell.execute_reply.started": "2025-01-10T07:42:09.352458Z",
          "shell.execute_reply": "2025-01-10T07:42:09.355317Z"
        },
        "id": "epmjfCO_a7I2"
      },
      "outputs": [],
      "execution_count": null
    },
    {
      "cell_type": "code",
      "source": [
        "# context_encoder = ContextEncoder().to(device)"
      ],
      "metadata": {
        "trusted": true,
        "execution": {
          "iopub.status.busy": "2025-01-10T07:42:10.516269Z",
          "iopub.execute_input": "2025-01-10T07:42:10.516554Z",
          "iopub.status.idle": "2025-01-10T07:42:10.519945Z",
          "shell.execute_reply.started": "2025-01-10T07:42:10.516531Z",
          "shell.execute_reply": "2025-01-10T07:42:10.519153Z"
        },
        "id": "Fnjz8vrra7I2"
      },
      "outputs": [],
      "execution_count": null
    },
    {
      "cell_type": "code",
      "source": [
        "# context_encoder"
      ],
      "metadata": {
        "trusted": true,
        "execution": {
          "iopub.status.busy": "2025-01-10T07:42:10.833751Z",
          "iopub.execute_input": "2025-01-10T07:42:10.834074Z",
          "iopub.status.idle": "2025-01-10T07:42:10.837366Z",
          "shell.execute_reply.started": "2025-01-10T07:42:10.834049Z",
          "shell.execute_reply": "2025-01-10T07:42:10.836531Z"
        },
        "id": "GCZmPBnSa7I2"
      },
      "outputs": [],
      "execution_count": null
    },
    {
      "cell_type": "code",
      "source": [
        "\n",
        "# class MetacognitionLayer(nn.Module):\n",
        "#     def __init__(self, metacognitive_dim=16, output_dim=768):\n",
        "#         super(MetacognitionLayer, self).__init__()\n",
        "#         #16 to 768 mapping\n",
        "#         self.metacognitive_fc = nn.Linear(metacognitive_dim, output_dim)\n",
        "#         self.final_fc = nn.Linear(output_dim, output_dim)\n",
        "\n",
        "#         self.tokenizer = T5Tokenizer.from_pretrained(\"t5-base\")\n",
        "#         self.t5_pad_token_id = self.tokenizer.pad_token_id\n",
        "#         self.encoder = T5Model.from_pretrained(\"t5-base\").encoder\n",
        "\n",
        "\n",
        "\n",
        "#         for param in self.encoder.parameters():\n",
        "#             param.requires_grad = False\n",
        "\n",
        "#     def forward(self, metacognitive_vector):\n",
        "\n",
        "#         metacognitive_components = [\n",
        "#                 \"Read\", \"Identify\", \"Rephrase\", \"Examples\", \"Breakdown\", \"Estimate\", \"Plan\",\n",
        "#                 \"Revise\", \"Verify\", \"AvoidMistakes\", \"MonitorSteps\", \"MonitorProcess\",\n",
        "#                 \"ValidateConstraints\", \"Confirm\", \"CheckRequirements\", \"Reflect\"\n",
        "#             ]\n",
        "\n",
        "#         prompt_text = (\n",
        "#             f\"Metacognitive feedback helps students reflect on their algorithm-solving strategies. \"\n",
        "#             f\"The passed metacognitive vector is a 16-dimensional vector describing the student's metacognition profile, \"\n",
        "#             f\"where each dimension represents one of 16 metacognitive components, rated as 1 (Almost never), \"\n",
        "#             f\"2 (Sometimes), or 3 (Often). These components include: {', '.join(metacognitive_components)}.\"\n",
        "#         )\n",
        "\n",
        "\n",
        "#         input_prompt = self.tokenizer(\n",
        "#         prompt_text,\n",
        "#         return_tensors=\"pt\",\n",
        "#         padding=True,\n",
        "#         truncation=True,\n",
        "#         max_length=512-16\n",
        "#         )\n",
        "#         input_prompt = {key: value.to(metacognitive_vector.device) for key, value in input_prompt.items()}\n",
        "\n",
        "#         outputs = self.encoder(input_ids=input_prompt[\"input_ids\"], attention_mask=input_prompt[\"attention_mask\"])\n",
        "#         prompt_embedding = outputs.last_hidden_state.mean(dim=1)\n",
        "#         prompt_embedding = prompt_embedding.to(metacognitive_vector.device)\n",
        "\n",
        "#         metacognitive_rep = self.metacognitive_fc(metacognitive_vector)\n",
        "#         final_rep = self.final_fc(metacognitive_rep)\n",
        "#         persona_rep = final_rep.unsqueeze(1)\n",
        "\n",
        "#         final_persona = persona_rep + prompt_embedding\n",
        "\n",
        "#         return final_persona"
      ],
      "metadata": {
        "trusted": true,
        "execution": {
          "iopub.status.busy": "2025-01-10T07:42:11.101146Z",
          "iopub.execute_input": "2025-01-10T07:42:11.101428Z",
          "iopub.status.idle": "2025-01-10T07:42:11.105145Z",
          "shell.execute_reply.started": "2025-01-10T07:42:11.101402Z",
          "shell.execute_reply": "2025-01-10T07:42:11.104305Z"
        },
        "id": "ZX97CJgLa7I2"
      },
      "outputs": [],
      "execution_count": null
    },
    {
      "cell_type": "code",
      "source": [
        "# metacognitive_emb = MetacognitionLayer().to(device)"
      ],
      "metadata": {
        "trusted": true,
        "execution": {
          "iopub.status.busy": "2025-01-10T07:42:12.661334Z",
          "iopub.execute_input": "2025-01-10T07:42:12.66162Z",
          "iopub.status.idle": "2025-01-10T07:42:12.664928Z",
          "shell.execute_reply.started": "2025-01-10T07:42:12.661597Z",
          "shell.execute_reply": "2025-01-10T07:42:12.66408Z"
        },
        "id": "x5pQ-96_a7JA"
      },
      "outputs": [],
      "execution_count": null
    },
    {
      "cell_type": "code",
      "source": [
        "# metacognitive_emb"
      ],
      "metadata": {
        "trusted": true,
        "execution": {
          "iopub.status.busy": "2025-01-10T07:42:12.982547Z",
          "iopub.execute_input": "2025-01-10T07:42:12.982828Z",
          "iopub.status.idle": "2025-01-10T07:42:12.986083Z",
          "shell.execute_reply.started": "2025-01-10T07:42:12.982805Z",
          "shell.execute_reply": "2025-01-10T07:42:12.985264Z"
        },
        "id": "BQMfinGKa7JA"
      },
      "outputs": [],
      "execution_count": null
    },
    {
      "cell_type": "code",
      "source": [
        "\n",
        "class PAALayer(nn.Module):\n",
        "    def __init__(self, hidden_dimension = 768 , tau=0.8,dropout_rate=0.1):\n",
        "        super(PAALayer, self).__init__()\n",
        "        self.hidden_dimenstion = hidden_dimension\n",
        "        self.tau = tau\n",
        "\n",
        "\n",
        "        self.fc = nn.Linear(2 * hidden_dimension, hidden_dimension)\n",
        "        self.sigmoid = nn.Sigmoid()\n",
        "        self.fc_out = nn.Linear(hidden_dimension, hidden_dimension)\n",
        "        self.dropout = nn.Dropout(p=dropout_rate)\n",
        "\n",
        "\n",
        "    def forward(self, hR , oP, oC):\n",
        "\n",
        "        Mp_input  = torch.cat([hR,oP], dim=-1)\n",
        "        Mp = self.fc(Mp_input)\n",
        "        Wp = self.sigmoid(Mp)\n",
        "\n",
        "        Mpersona = Wp\n",
        "        Mcontext = 1 - Wp\n",
        "\n",
        "        oP_weighted = Mcontext * oP\n",
        "        oC_weighted = Mpersona * oC\n",
        "\n",
        "        HPAA = oP_weighted + oC_weighted\n",
        "\n",
        "        output = self.fc_out(HPAA)\n",
        "\n",
        "        return output"
      ],
      "metadata": {
        "trusted": true,
        "execution": {
          "iopub.status.busy": "2025-01-10T08:01:28.217882Z",
          "iopub.execute_input": "2025-01-10T08:01:28.218192Z",
          "iopub.status.idle": "2025-01-10T08:01:28.22372Z",
          "shell.execute_reply.started": "2025-01-10T08:01:28.218164Z",
          "shell.execute_reply": "2025-01-10T08:01:28.22288Z"
        },
        "id": "2Z_xRbhNa7JA"
      },
      "outputs": [],
      "execution_count": 40
    },
    {
      "cell_type": "code",
      "source": [
        "paa = PAALayer()"
      ],
      "metadata": {
        "trusted": true,
        "execution": {
          "iopub.status.busy": "2025-01-10T08:01:29.907573Z",
          "iopub.execute_input": "2025-01-10T08:01:29.907901Z",
          "iopub.status.idle": "2025-01-10T08:01:29.929916Z",
          "shell.execute_reply.started": "2025-01-10T08:01:29.907878Z",
          "shell.execute_reply": "2025-01-10T08:01:29.929272Z"
        },
        "id": "E6kRw4dea7JB"
      },
      "outputs": [],
      "execution_count": 41
    },
    {
      "cell_type": "code",
      "source": [
        "paa"
      ],
      "metadata": {
        "trusted": true,
        "execution": {
          "iopub.status.busy": "2025-01-10T08:01:30.278334Z",
          "iopub.execute_input": "2025-01-10T08:01:30.278664Z",
          "iopub.status.idle": "2025-01-10T08:01:30.283749Z",
          "shell.execute_reply.started": "2025-01-10T08:01:30.278635Z",
          "shell.execute_reply": "2025-01-10T08:01:30.282831Z"
        },
        "id": "T3pInXDya7JB",
        "outputId": "1b3d3101-b5ce-4a2a-df8c-25733c01d1da",
        "colab": {
          "base_uri": "https://localhost:8080/"
        }
      },
      "outputs": [
        {
          "output_type": "execute_result",
          "data": {
            "text/plain": [
              "PAALayer(\n",
              "  (fc): Linear(in_features=1536, out_features=768, bias=True)\n",
              "  (sigmoid): Sigmoid()\n",
              "  (fc_out): Linear(in_features=768, out_features=768, bias=True)\n",
              "  (dropout): Dropout(p=0.1, inplace=False)\n",
              ")"
            ]
          },
          "metadata": {},
          "execution_count": 42
        }
      ],
      "execution_count": 42
    },
    {
      "cell_type": "code",
      "source": [
        "class CustomTransformerBlock(nn.Module):\n",
        "    def __init__(self, hidden_size, tau , dropout_rate=0.1):\n",
        "        super(CustomTransformerBlock, self).__init__()\n",
        "\n",
        "        self.input_self_attention = nn.MultiheadAttention(hidden_size, num_heads=12, batch_first=True)\n",
        "        self.context_attn = nn.MultiheadAttention(hidden_size, num_heads=12, batch_first=True)\n",
        "        self.persona_attn = nn.MultiheadAttention(hidden_size, num_heads=12, batch_first=True)\n",
        "\n",
        "\n",
        "        self.paa_layer = PAALayer(hidden_dimension=hidden_size, tau=tau)\n",
        "\n",
        "        self.mlp = nn.Sequential(\n",
        "            nn.Linear(hidden_size, 2048),\n",
        "            nn.ReLU(),\n",
        "            nn.Dropout(p=0.1),\n",
        "            nn.Linear(2048, hidden_size),\n",
        "            nn.LayerNorm(hidden_size)\n",
        "        )\n",
        "        self.layer_norm2 = nn.LayerNorm(hidden_size)\n",
        "\n",
        "    def forward(self, student_initial_state, encoded_persona, encoded_context):\n",
        "\n",
        "        hR, _ = self.input_self_attention(student_initial_state, student_initial_state, student_initial_state) #query\n",
        "\n",
        "        oP, _ = self.persona_attn(hR, encoded_persona, encoded_persona )\n",
        "\n",
        "        encoded_context = encoded_context.repeat(hR.size(0), hR.size(1), 1)\n",
        "\n",
        "        oC, _ = self.context_attn(hR, encoded_context, encoded_context )\n",
        "\n",
        "        HPAA = self.paa_layer(hR, oP, oC)\n",
        "\n",
        "        mlp_output = self.mlp(HPAA)\n",
        "        output = self.layer_norm2(mlp_output)\n",
        "\n",
        "        return output\n"
      ],
      "metadata": {
        "trusted": true,
        "execution": {
          "iopub.status.busy": "2025-01-10T08:01:30.541823Z",
          "iopub.execute_input": "2025-01-10T08:01:30.542148Z",
          "iopub.status.idle": "2025-01-10T08:01:30.548739Z",
          "shell.execute_reply.started": "2025-01-10T08:01:30.542119Z",
          "shell.execute_reply": "2025-01-10T08:01:30.547838Z"
        },
        "id": "wDhvR6Goa7JB"
      },
      "outputs": [],
      "execution_count": 43
    },
    {
      "cell_type": "code",
      "source": [
        "custom_layer = CustomTransformerBlock(768,0.5)"
      ],
      "metadata": {
        "trusted": true,
        "execution": {
          "iopub.status.busy": "2025-01-10T08:01:32.28649Z",
          "iopub.execute_input": "2025-01-10T08:01:32.286948Z",
          "iopub.status.idle": "2025-01-10T08:01:32.387499Z",
          "shell.execute_reply.started": "2025-01-10T08:01:32.286915Z",
          "shell.execute_reply": "2025-01-10T08:01:32.386559Z"
        },
        "id": "v_D6juUna7JC"
      },
      "outputs": [],
      "execution_count": 44
    },
    {
      "cell_type": "code",
      "source": [
        "custom_layer"
      ],
      "metadata": {
        "trusted": true,
        "execution": {
          "iopub.status.busy": "2025-01-10T08:01:32.576475Z",
          "iopub.execute_input": "2025-01-10T08:01:32.576783Z",
          "iopub.status.idle": "2025-01-10T08:01:32.581508Z",
          "shell.execute_reply.started": "2025-01-10T08:01:32.576748Z",
          "shell.execute_reply": "2025-01-10T08:01:32.580905Z"
        },
        "id": "nwq9pZy6a7JC",
        "outputId": "e88a5dfc-8b0d-4db3-f008-a05775526f1c",
        "colab": {
          "base_uri": "https://localhost:8080/"
        }
      },
      "outputs": [
        {
          "output_type": "execute_result",
          "data": {
            "text/plain": [
              "CustomTransformerBlock(\n",
              "  (input_self_attention): MultiheadAttention(\n",
              "    (out_proj): NonDynamicallyQuantizableLinear(in_features=768, out_features=768, bias=True)\n",
              "  )\n",
              "  (context_attn): MultiheadAttention(\n",
              "    (out_proj): NonDynamicallyQuantizableLinear(in_features=768, out_features=768, bias=True)\n",
              "  )\n",
              "  (persona_attn): MultiheadAttention(\n",
              "    (out_proj): NonDynamicallyQuantizableLinear(in_features=768, out_features=768, bias=True)\n",
              "  )\n",
              "  (paa_layer): PAALayer(\n",
              "    (fc): Linear(in_features=1536, out_features=768, bias=True)\n",
              "    (sigmoid): Sigmoid()\n",
              "    (fc_out): Linear(in_features=768, out_features=768, bias=True)\n",
              "    (dropout): Dropout(p=0.1, inplace=False)\n",
              "  )\n",
              "  (mlp): Sequential(\n",
              "    (0): Linear(in_features=768, out_features=2048, bias=True)\n",
              "    (1): ReLU()\n",
              "    (2): Dropout(p=0.1, inplace=False)\n",
              "    (3): Linear(in_features=2048, out_features=768, bias=True)\n",
              "    (4): LayerNorm((768,), eps=1e-05, elementwise_affine=True)\n",
              "  )\n",
              "  (layer_norm2): LayerNorm((768,), eps=1e-05, elementwise_affine=True)\n",
              ")"
            ]
          },
          "metadata": {},
          "execution_count": 45
        }
      ],
      "execution_count": 45
    },
    {
      "cell_type": "code",
      "source": [
        "class PAAModel(nn.Module):\n",
        "    def __init__(self, hidden_size=768, vocab_size = 32100 ,tau=0.5, max_length=512, num_transformer_blocks=4):\n",
        "        super(PAAModel , self).__init__()\n",
        "        self.hidden_size = hidden_size\n",
        "        self.tau = tau\n",
        "        self.vocab_size = vocab_size\n",
        "        self.max_length = max_length\n",
        "        self.num_transformer_blocks = num_transformer_blocks\n",
        "\n",
        "        self.t5_encoder = T5Model.from_pretrained(\"t5-base\").encoder\n",
        "        for param in self.t5_encoder.parameters():\n",
        "            param.requires_grad = False\n",
        "\n",
        "\n",
        "        self.token_embedding = nn.Embedding(vocab_size, hidden_size)\n",
        "        self.position_embedding = nn.Embedding(max_length, hidden_size)\n",
        "        self.dropout = nn.Dropout(p=0.1)\n",
        "\n",
        "        self.transformer_blocks = nn.ModuleList([CustomTransformerBlock(hidden_size, tau) for _ in range(num_transformer_blocks)])\n",
        "        self.final_fc = nn.Linear(hidden_size, vocab_size)\n",
        "        self.layer_norm = nn.LayerNorm(hidden_size)\n",
        "\n",
        "    def forward(self,  metacognition_prompt_ids,\n",
        "                       problem_student_code_ids ,\n",
        "                       problem_expected_code_ids,\n",
        "                       metacognition_attention_mask,\n",
        "                       expected_attention_mask):\n",
        "\n",
        "        with torch.no_grad():\n",
        "\n",
        "            metacognition_prompt_encoded = self.t5_encoder(\n",
        "                                                        input_ids=metacognition_prompt_ids,\n",
        "                                                        attention_mask=metacognition_attention_mask).last_hidden_state\n",
        "\n",
        "            problem_expected_code_encoded = self.t5_encoder(\n",
        "                                                        input_ids=problem_expected_code_ids,\n",
        "                                                        attention_mask=expected_attention_mask).last_hidden_state\n",
        "\n",
        "\n",
        "        token_embeds = self.token_embedding(problem_student_code_ids)\n",
        "        position_ids = torch.arange(0, 1, device=problem_student_code_ids.device).unsqueeze(0)\n",
        "        position_ids = position_ids % self.max_length\n",
        "        position_embeds = self.position_embedding(position_ids)\n",
        "\n",
        "        inputs_embeds = token_embeds + position_embeds\n",
        "        inputs_embeds = self.dropout(inputs_embeds)\n",
        "\n",
        "        student_initial_state = inputs_embeds\n",
        "        transformer_output = student_initial_state\n",
        "\n",
        "        for transformer_block in self.transformer_blocks:\n",
        "            transformer_output = transformer_block(transformer_output, metacognition_prompt_encoded, problem_expected_code_encoded)\n",
        "\n",
        "        logits = self.final_fc(transformer_output)\n",
        "\n",
        "        return logits"
      ],
      "metadata": {
        "trusted": true,
        "execution": {
          "iopub.status.busy": "2025-01-10T08:01:50.970149Z",
          "iopub.execute_input": "2025-01-10T08:01:50.970452Z",
          "iopub.status.idle": "2025-01-10T08:01:50.977966Z",
          "shell.execute_reply.started": "2025-01-10T08:01:50.970425Z",
          "shell.execute_reply": "2025-01-10T08:01:50.977143Z"
        },
        "id": "YSUMxJOYa7JC"
      },
      "outputs": [],
      "execution_count": 46
    },
    {
      "cell_type": "code",
      "source": [
        "model = PAAModel()"
      ],
      "metadata": {
        "trusted": true,
        "execution": {
          "iopub.status.busy": "2025-01-10T08:01:53.142072Z",
          "iopub.execute_input": "2025-01-10T08:01:53.142408Z",
          "iopub.status.idle": "2025-01-10T08:01:54.567669Z",
          "shell.execute_reply.started": "2025-01-10T08:01:53.142376Z",
          "shell.execute_reply": "2025-01-10T08:01:54.566965Z"
        },
        "id": "AROFcsBVa7JD",
        "outputId": "019a9a18-34f2-4c8c-de74-145a99cfde68",
        "colab": {
          "base_uri": "https://localhost:8080/",
          "height": 49,
          "referenced_widgets": [
            "1a2a03bf04ee4abf941bb9058d4b2eb7",
            "92ed16ba1be949659b0027d10fefc261",
            "d4e1929317c34e4a89cb776e239c23cf",
            "50c5b30e721c4dd182f099ef703e16c9",
            "8469ed43b4104a04b50c0f09ae151617",
            "ffc42d480b7c450388b006b544c7e98d",
            "7072dc9873dd42c6bf442aec18bfd5e8",
            "41e680ccd1af428a9cc939f02dba2f73",
            "6aa8accc60bb44879fa9f8c4db3f49fe",
            "698dc213b3db4520bd1dd0ff5efa7ab7",
            "0a62ad880e5c446dadf3e3c26923201c"
          ]
        }
      },
      "outputs": [
        {
          "output_type": "display_data",
          "data": {
            "text/plain": [
              "model.safetensors:   0%|          | 0.00/892M [00:00<?, ?B/s]"
            ],
            "application/vnd.jupyter.widget-view+json": {
              "version_major": 2,
              "version_minor": 0,
              "model_id": "1a2a03bf04ee4abf941bb9058d4b2eb7"
            }
          },
          "metadata": {}
        }
      ],
      "execution_count": 47
    },
    {
      "cell_type": "code",
      "source": [
        "model.to(device)"
      ],
      "metadata": {
        "trusted": true,
        "execution": {
          "iopub.status.busy": "2025-01-10T08:01:56.60315Z",
          "iopub.execute_input": "2025-01-10T08:01:56.603437Z",
          "iopub.status.idle": "2025-01-10T08:01:57.046073Z",
          "shell.execute_reply.started": "2025-01-10T08:01:56.603412Z",
          "shell.execute_reply": "2025-01-10T08:01:57.04537Z"
        },
        "id": "ukrbmnT1a7JD",
        "outputId": "f5695155-3b84-4b28-be9a-f14e4a3afbd8",
        "colab": {
          "base_uri": "https://localhost:8080/"
        }
      },
      "outputs": [
        {
          "output_type": "execute_result",
          "data": {
            "text/plain": [
              "PAAModel(\n",
              "  (t5_encoder): T5Stack(\n",
              "    (embed_tokens): Embedding(32128, 768)\n",
              "    (block): ModuleList(\n",
              "      (0): T5Block(\n",
              "        (layer): ModuleList(\n",
              "          (0): T5LayerSelfAttention(\n",
              "            (SelfAttention): T5Attention(\n",
              "              (q): Linear(in_features=768, out_features=768, bias=False)\n",
              "              (k): Linear(in_features=768, out_features=768, bias=False)\n",
              "              (v): Linear(in_features=768, out_features=768, bias=False)\n",
              "              (o): Linear(in_features=768, out_features=768, bias=False)\n",
              "              (relative_attention_bias): Embedding(32, 12)\n",
              "            )\n",
              "            (layer_norm): T5LayerNorm()\n",
              "            (dropout): Dropout(p=0.1, inplace=False)\n",
              "          )\n",
              "          (1): T5LayerFF(\n",
              "            (DenseReluDense): T5DenseActDense(\n",
              "              (wi): Linear(in_features=768, out_features=3072, bias=False)\n",
              "              (wo): Linear(in_features=3072, out_features=768, bias=False)\n",
              "              (dropout): Dropout(p=0.1, inplace=False)\n",
              "              (act): ReLU()\n",
              "            )\n",
              "            (layer_norm): T5LayerNorm()\n",
              "            (dropout): Dropout(p=0.1, inplace=False)\n",
              "          )\n",
              "        )\n",
              "      )\n",
              "      (1-11): 11 x T5Block(\n",
              "        (layer): ModuleList(\n",
              "          (0): T5LayerSelfAttention(\n",
              "            (SelfAttention): T5Attention(\n",
              "              (q): Linear(in_features=768, out_features=768, bias=False)\n",
              "              (k): Linear(in_features=768, out_features=768, bias=False)\n",
              "              (v): Linear(in_features=768, out_features=768, bias=False)\n",
              "              (o): Linear(in_features=768, out_features=768, bias=False)\n",
              "            )\n",
              "            (layer_norm): T5LayerNorm()\n",
              "            (dropout): Dropout(p=0.1, inplace=False)\n",
              "          )\n",
              "          (1): T5LayerFF(\n",
              "            (DenseReluDense): T5DenseActDense(\n",
              "              (wi): Linear(in_features=768, out_features=3072, bias=False)\n",
              "              (wo): Linear(in_features=3072, out_features=768, bias=False)\n",
              "              (dropout): Dropout(p=0.1, inplace=False)\n",
              "              (act): ReLU()\n",
              "            )\n",
              "            (layer_norm): T5LayerNorm()\n",
              "            (dropout): Dropout(p=0.1, inplace=False)\n",
              "          )\n",
              "        )\n",
              "      )\n",
              "    )\n",
              "    (final_layer_norm): T5LayerNorm()\n",
              "    (dropout): Dropout(p=0.1, inplace=False)\n",
              "  )\n",
              "  (token_embedding): Embedding(32100, 768)\n",
              "  (position_embedding): Embedding(512, 768)\n",
              "  (dropout): Dropout(p=0.1, inplace=False)\n",
              "  (transformer_blocks): ModuleList(\n",
              "    (0-3): 4 x CustomTransformerBlock(\n",
              "      (input_self_attention): MultiheadAttention(\n",
              "        (out_proj): NonDynamicallyQuantizableLinear(in_features=768, out_features=768, bias=True)\n",
              "      )\n",
              "      (context_attn): MultiheadAttention(\n",
              "        (out_proj): NonDynamicallyQuantizableLinear(in_features=768, out_features=768, bias=True)\n",
              "      )\n",
              "      (persona_attn): MultiheadAttention(\n",
              "        (out_proj): NonDynamicallyQuantizableLinear(in_features=768, out_features=768, bias=True)\n",
              "      )\n",
              "      (paa_layer): PAALayer(\n",
              "        (fc): Linear(in_features=1536, out_features=768, bias=True)\n",
              "        (sigmoid): Sigmoid()\n",
              "        (fc_out): Linear(in_features=768, out_features=768, bias=True)\n",
              "        (dropout): Dropout(p=0.1, inplace=False)\n",
              "      )\n",
              "      (mlp): Sequential(\n",
              "        (0): Linear(in_features=768, out_features=2048, bias=True)\n",
              "        (1): ReLU()\n",
              "        (2): Dropout(p=0.1, inplace=False)\n",
              "        (3): Linear(in_features=2048, out_features=768, bias=True)\n",
              "        (4): LayerNorm((768,), eps=1e-05, elementwise_affine=True)\n",
              "      )\n",
              "      (layer_norm2): LayerNorm((768,), eps=1e-05, elementwise_affine=True)\n",
              "    )\n",
              "  )\n",
              "  (final_fc): Linear(in_features=768, out_features=32100, bias=True)\n",
              "  (layer_norm): LayerNorm((768,), eps=1e-05, elementwise_affine=True)\n",
              ")"
            ]
          },
          "metadata": {},
          "execution_count": 48
        }
      ],
      "execution_count": 48
    },
    {
      "cell_type": "code",
      "source": [
        "torch.cuda.empty_cache()"
      ],
      "metadata": {
        "trusted": true,
        "execution": {
          "iopub.status.busy": "2025-01-10T08:02:01.57824Z",
          "iopub.execute_input": "2025-01-10T08:02:01.578536Z",
          "iopub.status.idle": "2025-01-10T08:02:01.582026Z",
          "shell.execute_reply.started": "2025-01-10T08:02:01.578512Z",
          "shell.execute_reply": "2025-01-10T08:02:01.58124Z"
        },
        "id": "w-YM7dxRa7JD"
      },
      "outputs": [],
      "execution_count": 49
    },
    {
      "cell_type": "code",
      "source": [
        "import torch.optim as optim\n",
        "optimizer = optim.AdamW(model.parameters(), lr=5e-5)\n",
        "scheduler = torch.optim.lr_scheduler.StepLR(optimizer, step_size=10, gamma=0.1)"
      ],
      "metadata": {
        "trusted": true,
        "execution": {
          "iopub.status.busy": "2025-01-10T08:02:02.596789Z",
          "iopub.execute_input": "2025-01-10T08:02:02.597084Z",
          "iopub.status.idle": "2025-01-10T08:02:03.148754Z",
          "shell.execute_reply.started": "2025-01-10T08:02:02.597061Z",
          "shell.execute_reply": "2025-01-10T08:02:03.148033Z"
        },
        "id": "sCrMz7qra7JE"
      },
      "outputs": [],
      "execution_count": 50
    },
    {
      "cell_type": "code",
      "source": [
        "LOSS = torch.nn.CrossEntropyLoss()"
      ],
      "metadata": {
        "trusted": true,
        "execution": {
          "iopub.status.busy": "2025-01-10T08:02:04.632136Z",
          "iopub.execute_input": "2025-01-10T08:02:04.632651Z",
          "iopub.status.idle": "2025-01-10T08:02:04.636393Z",
          "shell.execute_reply.started": "2025-01-10T08:02:04.632613Z",
          "shell.execute_reply": "2025-01-10T08:02:04.635519Z"
        },
        "id": "kNNiPR_ja7JE"
      },
      "outputs": [],
      "execution_count": 51
    },
    {
      "cell_type": "code",
      "source": [
        "num_epochs = 200"
      ],
      "metadata": {
        "trusted": true,
        "execution": {
          "iopub.status.busy": "2025-01-10T08:02:04.936734Z",
          "iopub.execute_input": "2025-01-10T08:02:04.937037Z",
          "iopub.status.idle": "2025-01-10T08:02:04.940846Z",
          "shell.execute_reply.started": "2025-01-10T08:02:04.937012Z",
          "shell.execute_reply": "2025-01-10T08:02:04.939877Z"
        },
        "id": "gMr9Wd8_a7JE"
      },
      "outputs": [],
      "execution_count": 52
    },
    {
      "cell_type": "code",
      "source": [
        "df_train = df[0:5000]"
      ],
      "metadata": {
        "trusted": true,
        "execution": {
          "iopub.status.busy": "2025-01-10T08:02:05.202221Z",
          "iopub.execute_input": "2025-01-10T08:02:05.202497Z",
          "iopub.status.idle": "2025-01-10T08:02:05.206364Z",
          "shell.execute_reply.started": "2025-01-10T08:02:05.202475Z",
          "shell.execute_reply": "2025-01-10T08:02:05.205519Z"
        },
        "id": "U5UW8SVga7JE"
      },
      "outputs": [],
      "execution_count": 53
    },
    {
      "cell_type": "code",
      "source": [
        "len(df_train)"
      ],
      "metadata": {
        "trusted": true,
        "execution": {
          "iopub.status.busy": "2025-01-10T08:02:06.788708Z",
          "iopub.execute_input": "2025-01-10T08:02:06.789022Z",
          "iopub.status.idle": "2025-01-10T08:02:06.793719Z",
          "shell.execute_reply.started": "2025-01-10T08:02:06.788994Z",
          "shell.execute_reply": "2025-01-10T08:02:06.793041Z"
        },
        "id": "FADAr7rsa7JF",
        "outputId": "bd188455-f302-4a5f-bc85-7f10b865f9fb",
        "colab": {
          "base_uri": "https://localhost:8080/"
        }
      },
      "outputs": [
        {
          "output_type": "execute_result",
          "data": {
            "text/plain": [
              "5000"
            ]
          },
          "metadata": {},
          "execution_count": 54
        }
      ],
      "execution_count": 54
    },
    {
      "cell_type": "code",
      "source": [
        "df_train.isnull().sum()"
      ],
      "metadata": {
        "trusted": true,
        "execution": {
          "iopub.status.busy": "2025-01-10T08:02:07.126012Z",
          "iopub.execute_input": "2025-01-10T08:02:07.126227Z",
          "iopub.status.idle": "2025-01-10T08:02:07.139461Z",
          "shell.execute_reply.started": "2025-01-10T08:02:07.126209Z",
          "shell.execute_reply": "2025-01-10T08:02:07.138674Z"
        },
        "id": "V_g5jqJQa7JF",
        "outputId": "8e8f867a-1475-4b05-f752-d2acfb9bc4b3",
        "colab": {
          "base_uri": "https://localhost:8080/",
          "height": 836
        }
      },
      "outputs": [
        {
          "output_type": "execute_result",
          "data": {
            "text/plain": [
              "Problem                         0\n",
              "Student_code                    0\n",
              "Expected_code                   0\n",
              "Q01                             0\n",
              "Q02                             0\n",
              "Q03                             0\n",
              "Q04                             0\n",
              "Q05                             0\n",
              "Q06                             0\n",
              "Q07                             0\n",
              "Q08                             0\n",
              "Q09                             0\n",
              "Q10                             0\n",
              "Q11                             0\n",
              "Q12                             0\n",
              "Q13                             0\n",
              "Q14                             0\n",
              "Q15                             0\n",
              "Q16                             0\n",
              "metacognitive_vector            0\n",
              "metacognitive_feedback          0\n",
              "combined_problem_student        0\n",
              "combined_problem_expected       0\n",
              "combined_metacogntion_prompt    0\n",
              "dtype: int64"
            ],
            "text/html": [
              "<div>\n",
              "<style scoped>\n",
              "    .dataframe tbody tr th:only-of-type {\n",
              "        vertical-align: middle;\n",
              "    }\n",
              "\n",
              "    .dataframe tbody tr th {\n",
              "        vertical-align: top;\n",
              "    }\n",
              "\n",
              "    .dataframe thead th {\n",
              "        text-align: right;\n",
              "    }\n",
              "</style>\n",
              "<table border=\"1\" class=\"dataframe\">\n",
              "  <thead>\n",
              "    <tr style=\"text-align: right;\">\n",
              "      <th></th>\n",
              "      <th>0</th>\n",
              "    </tr>\n",
              "  </thead>\n",
              "  <tbody>\n",
              "    <tr>\n",
              "      <th>Problem</th>\n",
              "      <td>0</td>\n",
              "    </tr>\n",
              "    <tr>\n",
              "      <th>Student_code</th>\n",
              "      <td>0</td>\n",
              "    </tr>\n",
              "    <tr>\n",
              "      <th>Expected_code</th>\n",
              "      <td>0</td>\n",
              "    </tr>\n",
              "    <tr>\n",
              "      <th>Q01</th>\n",
              "      <td>0</td>\n",
              "    </tr>\n",
              "    <tr>\n",
              "      <th>Q02</th>\n",
              "      <td>0</td>\n",
              "    </tr>\n",
              "    <tr>\n",
              "      <th>Q03</th>\n",
              "      <td>0</td>\n",
              "    </tr>\n",
              "    <tr>\n",
              "      <th>Q04</th>\n",
              "      <td>0</td>\n",
              "    </tr>\n",
              "    <tr>\n",
              "      <th>Q05</th>\n",
              "      <td>0</td>\n",
              "    </tr>\n",
              "    <tr>\n",
              "      <th>Q06</th>\n",
              "      <td>0</td>\n",
              "    </tr>\n",
              "    <tr>\n",
              "      <th>Q07</th>\n",
              "      <td>0</td>\n",
              "    </tr>\n",
              "    <tr>\n",
              "      <th>Q08</th>\n",
              "      <td>0</td>\n",
              "    </tr>\n",
              "    <tr>\n",
              "      <th>Q09</th>\n",
              "      <td>0</td>\n",
              "    </tr>\n",
              "    <tr>\n",
              "      <th>Q10</th>\n",
              "      <td>0</td>\n",
              "    </tr>\n",
              "    <tr>\n",
              "      <th>Q11</th>\n",
              "      <td>0</td>\n",
              "    </tr>\n",
              "    <tr>\n",
              "      <th>Q12</th>\n",
              "      <td>0</td>\n",
              "    </tr>\n",
              "    <tr>\n",
              "      <th>Q13</th>\n",
              "      <td>0</td>\n",
              "    </tr>\n",
              "    <tr>\n",
              "      <th>Q14</th>\n",
              "      <td>0</td>\n",
              "    </tr>\n",
              "    <tr>\n",
              "      <th>Q15</th>\n",
              "      <td>0</td>\n",
              "    </tr>\n",
              "    <tr>\n",
              "      <th>Q16</th>\n",
              "      <td>0</td>\n",
              "    </tr>\n",
              "    <tr>\n",
              "      <th>metacognitive_vector</th>\n",
              "      <td>0</td>\n",
              "    </tr>\n",
              "    <tr>\n",
              "      <th>metacognitive_feedback</th>\n",
              "      <td>0</td>\n",
              "    </tr>\n",
              "    <tr>\n",
              "      <th>combined_problem_student</th>\n",
              "      <td>0</td>\n",
              "    </tr>\n",
              "    <tr>\n",
              "      <th>combined_problem_expected</th>\n",
              "      <td>0</td>\n",
              "    </tr>\n",
              "    <tr>\n",
              "      <th>combined_metacogntion_prompt</th>\n",
              "      <td>0</td>\n",
              "    </tr>\n",
              "  </tbody>\n",
              "</table>\n",
              "</div><br><label><b>dtype:</b> int64</label>"
            ]
          },
          "metadata": {},
          "execution_count": 55
        }
      ],
      "execution_count": 55
    },
    {
      "cell_type": "code",
      "source": [
        "from torch.utils.data import DataLoader\n",
        "train_dataset = CustomDataset(df_train, t5_tokenizer , gpt2_tokenizer)\n",
        "train_dataloader = DataLoader(train_dataset , batch_size = 4 ,shuffle = True )"
      ],
      "metadata": {
        "trusted": true,
        "execution": {
          "iopub.status.busy": "2025-01-10T08:02:09.202276Z",
          "iopub.execute_input": "2025-01-10T08:02:09.202558Z",
          "iopub.status.idle": "2025-01-10T08:02:09.206611Z",
          "shell.execute_reply.started": "2025-01-10T08:02:09.202535Z",
          "shell.execute_reply": "2025-01-10T08:02:09.205825Z"
        },
        "id": "GqHiiAc1a7JF"
      },
      "outputs": [],
      "execution_count": 56
    },
    {
      "cell_type": "code",
      "source": [
        "# from torch.utils.tensorboard import SummaryWriter\n",
        "# writer = SummaryWriter()"
      ],
      "metadata": {
        "trusted": true,
        "execution": {
          "iopub.status.busy": "2025-01-10T08:02:09.55725Z",
          "iopub.execute_input": "2025-01-10T08:02:09.557494Z",
          "iopub.status.idle": "2025-01-10T08:02:09.560522Z",
          "shell.execute_reply.started": "2025-01-10T08:02:09.557472Z",
          "shell.execute_reply": "2025-01-10T08:02:09.559772Z"
        },
        "id": "pvWMI-1La7JG"
      },
      "outputs": [],
      "execution_count": 57
    },
    {
      "cell_type": "code",
      "source": [
        "import os"
      ],
      "metadata": {
        "trusted": true,
        "execution": {
          "iopub.status.busy": "2025-01-10T08:02:09.968138Z",
          "iopub.execute_input": "2025-01-10T08:02:09.968439Z",
          "iopub.status.idle": "2025-01-10T08:02:09.972067Z",
          "shell.execute_reply.started": "2025-01-10T08:02:09.968414Z",
          "shell.execute_reply": "2025-01-10T08:02:09.971099Z"
        },
        "id": "nK_8-clUPbjl"
      },
      "outputs": [],
      "execution_count": 58
    },
    {
      "cell_type": "code",
      "source": [
        "checkpoint_dir = \"./checkpoints\"\n",
        "os.makedirs(checkpoint_dir, exist_ok=True)"
      ],
      "metadata": {
        "trusted": true,
        "execution": {
          "iopub.status.busy": "2025-01-10T08:02:10.24786Z",
          "iopub.execute_input": "2025-01-10T08:02:10.248139Z",
          "iopub.status.idle": "2025-01-10T08:02:10.251836Z",
          "shell.execute_reply.started": "2025-01-10T08:02:10.248116Z",
          "shell.execute_reply": "2025-01-10T08:02:10.251047Z"
        },
        "id": "_G2DGEL_a7JG"
      },
      "outputs": [],
      "execution_count": 59
    },
    {
      "cell_type": "code",
      "source": [
        "t5_encoder = T5Model.from_pretrained(checkpoint).encoder"
      ],
      "metadata": {
        "trusted": true,
        "execution": {
          "iopub.status.busy": "2025-01-10T07:53:09.111864Z",
          "iopub.execute_input": "2025-01-10T07:53:09.112148Z",
          "iopub.status.idle": "2025-01-10T07:53:13.560189Z",
          "shell.execute_reply.started": "2025-01-10T07:53:09.112125Z",
          "shell.execute_reply": "2025-01-10T07:53:13.559466Z"
        },
        "id": "uTHaPRM0Pbjm",
        "outputId": "61a447c5-a84d-46d7-f8d2-f6ef825617e1",
        "colab": {
          "referenced_widgets": [
            "36193b687f064d6e868bd8d8bb3ffb7b"
          ]
        }
      },
      "outputs": [
        {
          "output_type": "display_data",
          "data": {
            "text/plain": "model.safetensors:   0%|          | 0.00/892M [00:00<?, ?B/s]",
            "application/vnd.jupyter.widget-view+json": {
              "version_major": 2,
              "version_minor": 0,
              "model_id": "36193b687f064d6e868bd8d8bb3ffb7b"
            }
          },
          "metadata": {}
        }
      ],
      "execution_count": null
    },
    {
      "cell_type": "code",
      "source": [
        "# t5_encoder.to(device)"
      ],
      "metadata": {
        "trusted": true,
        "execution": {
          "iopub.status.busy": "2025-01-10T07:46:30.86035Z",
          "iopub.execute_input": "2025-01-10T07:46:30.860703Z",
          "iopub.status.idle": "2025-01-10T07:46:31.018914Z",
          "shell.execute_reply.started": "2025-01-10T07:46:30.860675Z",
          "shell.execute_reply": "2025-01-10T07:46:31.018041Z"
        },
        "collapsed": true,
        "jupyter": {
          "outputs_hidden": true
        },
        "id": "Z92QUUvmPbjm",
        "outputId": "f127cda5-201a-44e5-d537-bb3d8de4dcf6"
      },
      "outputs": [
        {
          "execution_count": 68,
          "output_type": "execute_result",
          "data": {
            "text/plain": "T5Stack(\n  (embed_tokens): Embedding(32128, 768)\n  (block): ModuleList(\n    (0): T5Block(\n      (layer): ModuleList(\n        (0): T5LayerSelfAttention(\n          (SelfAttention): T5Attention(\n            (q): Linear(in_features=768, out_features=768, bias=False)\n            (k): Linear(in_features=768, out_features=768, bias=False)\n            (v): Linear(in_features=768, out_features=768, bias=False)\n            (o): Linear(in_features=768, out_features=768, bias=False)\n            (relative_attention_bias): Embedding(32, 12)\n          )\n          (layer_norm): T5LayerNorm()\n          (dropout): Dropout(p=0.1, inplace=False)\n        )\n        (1): T5LayerFF(\n          (DenseReluDense): T5DenseActDense(\n            (wi): Linear(in_features=768, out_features=3072, bias=False)\n            (wo): Linear(in_features=3072, out_features=768, bias=False)\n            (dropout): Dropout(p=0.1, inplace=False)\n            (act): ReLU()\n          )\n          (layer_norm): T5LayerNorm()\n          (dropout): Dropout(p=0.1, inplace=False)\n        )\n      )\n    )\n    (1-11): 11 x T5Block(\n      (layer): ModuleList(\n        (0): T5LayerSelfAttention(\n          (SelfAttention): T5Attention(\n            (q): Linear(in_features=768, out_features=768, bias=False)\n            (k): Linear(in_features=768, out_features=768, bias=False)\n            (v): Linear(in_features=768, out_features=768, bias=False)\n            (o): Linear(in_features=768, out_features=768, bias=False)\n          )\n          (layer_norm): T5LayerNorm()\n          (dropout): Dropout(p=0.1, inplace=False)\n        )\n        (1): T5LayerFF(\n          (DenseReluDense): T5DenseActDense(\n            (wi): Linear(in_features=768, out_features=3072, bias=False)\n            (wo): Linear(in_features=3072, out_features=768, bias=False)\n            (dropout): Dropout(p=0.1, inplace=False)\n            (act): ReLU()\n          )\n          (layer_norm): T5LayerNorm()\n          (dropout): Dropout(p=0.1, inplace=False)\n        )\n      )\n    )\n  )\n  (final_layer_norm): T5LayerNorm()\n  (dropout): Dropout(p=0.1, inplace=False)\n)"
          },
          "metadata": {}
        }
      ],
      "execution_count": null
    },
    {
      "cell_type": "code",
      "source": [
        "for epoch in range(num_epochs):\n",
        "    print(f\"Training started for epoch {epoch + 1}/{num_epochs}\")\n",
        "    model.train()\n",
        "    total_loss = 0\n",
        "\n",
        "    for idx, (metacognition_prompt_ids,\n",
        "              problem_student_code_ids,\n",
        "              problem_expected_code_ids,\n",
        "              student_code_ids,\n",
        "              target_ids) in enumerate(train_dataloader):\n",
        "\n",
        "\n",
        "        metacognition_prompt_ids = metacognition_prompt_ids.to(device)\n",
        "        problem_student_code_ids = problem_student_code_ids.to(device)\n",
        "        problem_expected_code_ids = problem_expected_code_ids.to(device)\n",
        "        student_code_ids = student_code_ids.to(device)\n",
        "        target_ids = target_ids.to(device)\n",
        "\n",
        "        #attention masking\n",
        "        student_attention_mask = (problem_student_code_ids != t5_pad_token_id).long().to(device)\n",
        "        expected_attention_mask = (problem_expected_code_ids != t5_pad_token_id).long().to(device)\n",
        "        metacognition_attention_mask = (metacognition_prompt_ids != t5_pad_token_id).long().to(device)\n",
        "\n",
        "        #encoding the decoder inputs for cross attention\n",
        "        # metacognition_prompt_encoded = t5_encoder(\n",
        "        #                                             input_ids=metacognition_prompt_ids,\n",
        "        #                                             attention_mask=metacognition_attention_mask).last_hidden_state\n",
        "\n",
        "        # problem_expected_code_encoded = t5_encoder(\n",
        "        #                                             input_ids=problem_expected_code_ids,\n",
        "        #                                             attention_mask=expected_attention_mask).last_hidden_state\n",
        "\n",
        "\n",
        "\n",
        "        optimizer.zero_grad()\n",
        "        logits = model(metacognition_prompt_ids,\n",
        "                       problem_student_code_ids ,\n",
        "                       problem_expected_code_ids,\n",
        "                      metacognition_attention_mask,\n",
        "                      expected_attention_mask)\n",
        "\n",
        "\n",
        "        logits = logits.view(-1, logits.size(-1))\n",
        "\n",
        "        target_ids = target_ids.view(-1)\n",
        "        # print(logits.shape)\n",
        "        # print(target_ids.shape)\n",
        "\n",
        "\n",
        "        loss = LOSS(logits, target_ids)\n",
        "        total_loss += loss.item()\n",
        "\n",
        "\n",
        "        loss.backward()\n",
        "        # for name, param in model.named_parameters():\n",
        "        #     if 'context_encoder' in name:\n",
        "        #         assert param.grad is None, f\"Gradients found in frozen encoder {name}\"\n",
        "        torch.nn.utils.clip_grad_norm_(model.parameters(), max_norm=1.0)\n",
        "        optimizer.step()\n",
        "\n",
        "        if idx % 10 == 0:\n",
        "            print(f\"Batch {idx + 1}/{len(train_dataloader)} | Loss: {loss.item():.4f}\" , end='\\r')\n",
        "\n",
        "\n",
        "\n",
        "\n",
        "\n",
        "\n",
        "    if epoch % 5 ==0 :\n",
        "            for name, param in model.named_parameters():\n",
        "                if param.requires_grad and param.grad is not None:\n",
        "                    print(f\"Layer: {name} | Grad Norm: {param.grad.norm().item()}\")\n",
        "                elif param.requires_grad:\n",
        "                    print(f\"Layer: {name} | Grad: None\")\n",
        "\n",
        "    if (epoch + 1) % 20 == 0:\n",
        "        checkpoint_path = os.path.join(checkpoint_dir, f\"model_epoch_{epoch + 1}.pth\")\n",
        "        torch.save({\n",
        "            'epoch': epoch + 1,\n",
        "            'model_state_dict': model.state_dict(),\n",
        "            'optimizer_state_dict': optimizer.state_dict(),\n",
        "            'loss': total_loss / max(len(train_dataloader), 1),\n",
        "        }, checkpoint_path)\n",
        "        print(f\"Checkpoint saved at {checkpoint_path}\")\n",
        "\n",
        "\n",
        "    avg_loss = total_loss / max(len(train_dataloader), 1)\n",
        "    #writer.add_scalar(\"Loss/train\", avg_loss, epoch + 1)\n",
        "    print(f\"Epoch [{epoch + 1}/{num_epochs}] completed | Average Loss: {avg_loss:.4f}\")"
      ],
      "metadata": {
        "trusted": true,
        "execution": {
          "iopub.status.busy": "2025-01-10T08:02:12.677668Z",
          "iopub.execute_input": "2025-01-10T08:02:12.678145Z",
          "iopub.status.idle": "2025-01-10T08:02:13.601878Z",
          "shell.execute_reply.started": "2025-01-10T08:02:12.678098Z",
          "shell.execute_reply": "2025-01-10T08:02:13.600702Z"
        },
        "id": "qBooPbJNa7JG",
        "outputId": "f793dcd0-f613-465e-c83e-14a740b3dbc9",
        "colab": {
          "base_uri": "https://localhost:8080/",
          "height": 1000
        }
      },
      "outputs": [
        {
          "output_type": "stream",
          "name": "stdout",
          "text": [
            "Training started for epoch 1/200\n"
          ]
        },
        {
          "output_type": "error",
          "ename": "OutOfMemoryError",
          "evalue": "CUDA out of memory. Tried to allocate 12.00 GiB. GPU 0 has a total capacity of 14.75 GiB of which 1.53 GiB is free. Process 5662 has 13.22 GiB memory in use. Of the allocated memory 12.99 GiB is allocated by PyTorch, and 112.25 MiB is reserved by PyTorch but unallocated. If reserved but unallocated memory is large try setting PYTORCH_CUDA_ALLOC_CONF=expandable_segments:True to avoid fragmentation.  See documentation for Memory Management  (https://pytorch.org/docs/stable/notes/cuda.html#environment-variables)",
          "traceback": [
            "\u001b[0;31m---------------------------------------------------------------------------\u001b[0m",
            "\u001b[0;31mOutOfMemoryError\u001b[0m                          Traceback (most recent call last)",
            "\u001b[0;32m<ipython-input-60-6430a21f3f39>\u001b[0m in \u001b[0;36m<cell line: 1>\u001b[0;34m()\u001b[0m\n\u001b[1;32m     34\u001b[0m \u001b[0;34m\u001b[0m\u001b[0m\n\u001b[1;32m     35\u001b[0m         \u001b[0moptimizer\u001b[0m\u001b[0;34m.\u001b[0m\u001b[0mzero_grad\u001b[0m\u001b[0;34m(\u001b[0m\u001b[0;34m)\u001b[0m\u001b[0;34m\u001b[0m\u001b[0;34m\u001b[0m\u001b[0m\n\u001b[0;32m---> 36\u001b[0;31m         logits = model(metacognition_prompt_ids,\n\u001b[0m\u001b[1;32m     37\u001b[0m                        \u001b[0mproblem_student_code_ids\u001b[0m \u001b[0;34m,\u001b[0m\u001b[0;34m\u001b[0m\u001b[0;34m\u001b[0m\u001b[0m\n\u001b[1;32m     38\u001b[0m                        \u001b[0mproblem_expected_code_ids\u001b[0m\u001b[0;34m,\u001b[0m\u001b[0;34m\u001b[0m\u001b[0;34m\u001b[0m\u001b[0m\n",
            "\u001b[0;32m/usr/local/lib/python3.10/dist-packages/torch/nn/modules/module.py\u001b[0m in \u001b[0;36m_wrapped_call_impl\u001b[0;34m(self, *args, **kwargs)\u001b[0m\n\u001b[1;32m   1734\u001b[0m             \u001b[0;32mreturn\u001b[0m \u001b[0mself\u001b[0m\u001b[0;34m.\u001b[0m\u001b[0m_compiled_call_impl\u001b[0m\u001b[0;34m(\u001b[0m\u001b[0;34m*\u001b[0m\u001b[0margs\u001b[0m\u001b[0;34m,\u001b[0m \u001b[0;34m**\u001b[0m\u001b[0mkwargs\u001b[0m\u001b[0;34m)\u001b[0m  \u001b[0;31m# type: ignore[misc]\u001b[0m\u001b[0;34m\u001b[0m\u001b[0;34m\u001b[0m\u001b[0m\n\u001b[1;32m   1735\u001b[0m         \u001b[0;32melse\u001b[0m\u001b[0;34m:\u001b[0m\u001b[0;34m\u001b[0m\u001b[0;34m\u001b[0m\u001b[0m\n\u001b[0;32m-> 1736\u001b[0;31m             \u001b[0;32mreturn\u001b[0m \u001b[0mself\u001b[0m\u001b[0;34m.\u001b[0m\u001b[0m_call_impl\u001b[0m\u001b[0;34m(\u001b[0m\u001b[0;34m*\u001b[0m\u001b[0margs\u001b[0m\u001b[0;34m,\u001b[0m \u001b[0;34m**\u001b[0m\u001b[0mkwargs\u001b[0m\u001b[0;34m)\u001b[0m\u001b[0;34m\u001b[0m\u001b[0;34m\u001b[0m\u001b[0m\n\u001b[0m\u001b[1;32m   1737\u001b[0m \u001b[0;34m\u001b[0m\u001b[0m\n\u001b[1;32m   1738\u001b[0m     \u001b[0;31m# torchrec tests the code consistency with the following code\u001b[0m\u001b[0;34m\u001b[0m\u001b[0;34m\u001b[0m\u001b[0m\n",
            "\u001b[0;32m/usr/local/lib/python3.10/dist-packages/torch/nn/modules/module.py\u001b[0m in \u001b[0;36m_call_impl\u001b[0;34m(self, *args, **kwargs)\u001b[0m\n\u001b[1;32m   1745\u001b[0m                 \u001b[0;32mor\u001b[0m \u001b[0m_global_backward_pre_hooks\u001b[0m \u001b[0;32mor\u001b[0m \u001b[0m_global_backward_hooks\u001b[0m\u001b[0;34m\u001b[0m\u001b[0;34m\u001b[0m\u001b[0m\n\u001b[1;32m   1746\u001b[0m                 or _global_forward_hooks or _global_forward_pre_hooks):\n\u001b[0;32m-> 1747\u001b[0;31m             \u001b[0;32mreturn\u001b[0m \u001b[0mforward_call\u001b[0m\u001b[0;34m(\u001b[0m\u001b[0;34m*\u001b[0m\u001b[0margs\u001b[0m\u001b[0;34m,\u001b[0m \u001b[0;34m**\u001b[0m\u001b[0mkwargs\u001b[0m\u001b[0;34m)\u001b[0m\u001b[0;34m\u001b[0m\u001b[0;34m\u001b[0m\u001b[0m\n\u001b[0m\u001b[1;32m   1748\u001b[0m \u001b[0;34m\u001b[0m\u001b[0m\n\u001b[1;32m   1749\u001b[0m         \u001b[0mresult\u001b[0m \u001b[0;34m=\u001b[0m \u001b[0;32mNone\u001b[0m\u001b[0;34m\u001b[0m\u001b[0;34m\u001b[0m\u001b[0m\n",
            "\u001b[0;32m<ipython-input-46-6b2d307c9871>\u001b[0m in \u001b[0;36mforward\u001b[0;34m(self, metacognition_prompt_ids, problem_student_code_ids, problem_expected_code_ids, metacognition_attention_mask, expected_attention_mask)\u001b[0m\n\u001b[1;32m     50\u001b[0m \u001b[0;34m\u001b[0m\u001b[0m\n\u001b[1;32m     51\u001b[0m         \u001b[0;32mfor\u001b[0m \u001b[0mtransformer_block\u001b[0m \u001b[0;32min\u001b[0m \u001b[0mself\u001b[0m\u001b[0;34m.\u001b[0m\u001b[0mtransformer_blocks\u001b[0m\u001b[0;34m:\u001b[0m\u001b[0;34m\u001b[0m\u001b[0;34m\u001b[0m\u001b[0m\n\u001b[0;32m---> 52\u001b[0;31m             \u001b[0mtransformer_output\u001b[0m \u001b[0;34m=\u001b[0m \u001b[0mtransformer_block\u001b[0m\u001b[0;34m(\u001b[0m\u001b[0mtransformer_output\u001b[0m\u001b[0;34m,\u001b[0m \u001b[0mmetacognition_prompt_encoded\u001b[0m\u001b[0;34m,\u001b[0m \u001b[0mproblem_expected_code_encoded\u001b[0m\u001b[0;34m)\u001b[0m\u001b[0;34m\u001b[0m\u001b[0;34m\u001b[0m\u001b[0m\n\u001b[0m\u001b[1;32m     53\u001b[0m \u001b[0;34m\u001b[0m\u001b[0m\n\u001b[1;32m     54\u001b[0m         \u001b[0mlogits\u001b[0m \u001b[0;34m=\u001b[0m \u001b[0mself\u001b[0m\u001b[0;34m.\u001b[0m\u001b[0mfinal_fc\u001b[0m\u001b[0;34m(\u001b[0m\u001b[0mtransformer_output\u001b[0m\u001b[0;34m)\u001b[0m\u001b[0;34m\u001b[0m\u001b[0;34m\u001b[0m\u001b[0m\n",
            "\u001b[0;32m/usr/local/lib/python3.10/dist-packages/torch/nn/modules/module.py\u001b[0m in \u001b[0;36m_wrapped_call_impl\u001b[0;34m(self, *args, **kwargs)\u001b[0m\n\u001b[1;32m   1734\u001b[0m             \u001b[0;32mreturn\u001b[0m \u001b[0mself\u001b[0m\u001b[0;34m.\u001b[0m\u001b[0m_compiled_call_impl\u001b[0m\u001b[0;34m(\u001b[0m\u001b[0;34m*\u001b[0m\u001b[0margs\u001b[0m\u001b[0;34m,\u001b[0m \u001b[0;34m**\u001b[0m\u001b[0mkwargs\u001b[0m\u001b[0;34m)\u001b[0m  \u001b[0;31m# type: ignore[misc]\u001b[0m\u001b[0;34m\u001b[0m\u001b[0;34m\u001b[0m\u001b[0m\n\u001b[1;32m   1735\u001b[0m         \u001b[0;32melse\u001b[0m\u001b[0;34m:\u001b[0m\u001b[0;34m\u001b[0m\u001b[0;34m\u001b[0m\u001b[0m\n\u001b[0;32m-> 1736\u001b[0;31m             \u001b[0;32mreturn\u001b[0m \u001b[0mself\u001b[0m\u001b[0;34m.\u001b[0m\u001b[0m_call_impl\u001b[0m\u001b[0;34m(\u001b[0m\u001b[0;34m*\u001b[0m\u001b[0margs\u001b[0m\u001b[0;34m,\u001b[0m \u001b[0;34m**\u001b[0m\u001b[0mkwargs\u001b[0m\u001b[0;34m)\u001b[0m\u001b[0;34m\u001b[0m\u001b[0;34m\u001b[0m\u001b[0m\n\u001b[0m\u001b[1;32m   1737\u001b[0m \u001b[0;34m\u001b[0m\u001b[0m\n\u001b[1;32m   1738\u001b[0m     \u001b[0;31m# torchrec tests the code consistency with the following code\u001b[0m\u001b[0;34m\u001b[0m\u001b[0;34m\u001b[0m\u001b[0m\n",
            "\u001b[0;32m/usr/local/lib/python3.10/dist-packages/torch/nn/modules/module.py\u001b[0m in \u001b[0;36m_call_impl\u001b[0;34m(self, *args, **kwargs)\u001b[0m\n\u001b[1;32m   1745\u001b[0m                 \u001b[0;32mor\u001b[0m \u001b[0m_global_backward_pre_hooks\u001b[0m \u001b[0;32mor\u001b[0m \u001b[0m_global_backward_hooks\u001b[0m\u001b[0;34m\u001b[0m\u001b[0;34m\u001b[0m\u001b[0m\n\u001b[1;32m   1746\u001b[0m                 or _global_forward_hooks or _global_forward_pre_hooks):\n\u001b[0;32m-> 1747\u001b[0;31m             \u001b[0;32mreturn\u001b[0m \u001b[0mforward_call\u001b[0m\u001b[0;34m(\u001b[0m\u001b[0;34m*\u001b[0m\u001b[0margs\u001b[0m\u001b[0;34m,\u001b[0m \u001b[0;34m**\u001b[0m\u001b[0mkwargs\u001b[0m\u001b[0;34m)\u001b[0m\u001b[0;34m\u001b[0m\u001b[0;34m\u001b[0m\u001b[0m\n\u001b[0m\u001b[1;32m   1748\u001b[0m \u001b[0;34m\u001b[0m\u001b[0m\n\u001b[1;32m   1749\u001b[0m         \u001b[0mresult\u001b[0m \u001b[0;34m=\u001b[0m \u001b[0;32mNone\u001b[0m\u001b[0;34m\u001b[0m\u001b[0;34m\u001b[0m\u001b[0m\n",
            "\u001b[0;32m<ipython-input-43-1867a2de6b22>\u001b[0m in \u001b[0;36mforward\u001b[0;34m(self, student_initial_state, encoded_persona, encoded_context)\u001b[0m\n\u001b[1;32m     27\u001b[0m         \u001b[0mencoded_context\u001b[0m \u001b[0;34m=\u001b[0m \u001b[0mencoded_context\u001b[0m\u001b[0;34m.\u001b[0m\u001b[0mrepeat\u001b[0m\u001b[0;34m(\u001b[0m\u001b[0mhR\u001b[0m\u001b[0;34m.\u001b[0m\u001b[0msize\u001b[0m\u001b[0;34m(\u001b[0m\u001b[0;36m0\u001b[0m\u001b[0;34m)\u001b[0m\u001b[0;34m,\u001b[0m \u001b[0mhR\u001b[0m\u001b[0;34m.\u001b[0m\u001b[0msize\u001b[0m\u001b[0;34m(\u001b[0m\u001b[0;36m1\u001b[0m\u001b[0;34m)\u001b[0m\u001b[0;34m,\u001b[0m \u001b[0;36m1\u001b[0m\u001b[0;34m)\u001b[0m\u001b[0;34m\u001b[0m\u001b[0;34m\u001b[0m\u001b[0m\n\u001b[1;32m     28\u001b[0m \u001b[0;34m\u001b[0m\u001b[0m\n\u001b[0;32m---> 29\u001b[0;31m         \u001b[0moC\u001b[0m\u001b[0;34m,\u001b[0m \u001b[0m_\u001b[0m \u001b[0;34m=\u001b[0m \u001b[0mself\u001b[0m\u001b[0;34m.\u001b[0m\u001b[0mcontext_attn\u001b[0m\u001b[0;34m(\u001b[0m\u001b[0mhR\u001b[0m\u001b[0;34m,\u001b[0m \u001b[0mencoded_context\u001b[0m\u001b[0;34m,\u001b[0m \u001b[0mencoded_context\u001b[0m \u001b[0;34m)\u001b[0m\u001b[0;34m\u001b[0m\u001b[0;34m\u001b[0m\u001b[0m\n\u001b[0m\u001b[1;32m     30\u001b[0m \u001b[0;34m\u001b[0m\u001b[0m\n\u001b[1;32m     31\u001b[0m         \u001b[0mHPAA\u001b[0m \u001b[0;34m=\u001b[0m \u001b[0mself\u001b[0m\u001b[0;34m.\u001b[0m\u001b[0mpaa_layer\u001b[0m\u001b[0;34m(\u001b[0m\u001b[0mhR\u001b[0m\u001b[0;34m,\u001b[0m \u001b[0moP\u001b[0m\u001b[0;34m,\u001b[0m \u001b[0moC\u001b[0m\u001b[0;34m)\u001b[0m\u001b[0;34m\u001b[0m\u001b[0;34m\u001b[0m\u001b[0m\n",
            "\u001b[0;32m/usr/local/lib/python3.10/dist-packages/torch/nn/modules/module.py\u001b[0m in \u001b[0;36m_wrapped_call_impl\u001b[0;34m(self, *args, **kwargs)\u001b[0m\n\u001b[1;32m   1734\u001b[0m             \u001b[0;32mreturn\u001b[0m \u001b[0mself\u001b[0m\u001b[0;34m.\u001b[0m\u001b[0m_compiled_call_impl\u001b[0m\u001b[0;34m(\u001b[0m\u001b[0;34m*\u001b[0m\u001b[0margs\u001b[0m\u001b[0;34m,\u001b[0m \u001b[0;34m**\u001b[0m\u001b[0mkwargs\u001b[0m\u001b[0;34m)\u001b[0m  \u001b[0;31m# type: ignore[misc]\u001b[0m\u001b[0;34m\u001b[0m\u001b[0;34m\u001b[0m\u001b[0m\n\u001b[1;32m   1735\u001b[0m         \u001b[0;32melse\u001b[0m\u001b[0;34m:\u001b[0m\u001b[0;34m\u001b[0m\u001b[0;34m\u001b[0m\u001b[0m\n\u001b[0;32m-> 1736\u001b[0;31m             \u001b[0;32mreturn\u001b[0m \u001b[0mself\u001b[0m\u001b[0;34m.\u001b[0m\u001b[0m_call_impl\u001b[0m\u001b[0;34m(\u001b[0m\u001b[0;34m*\u001b[0m\u001b[0margs\u001b[0m\u001b[0;34m,\u001b[0m \u001b[0;34m**\u001b[0m\u001b[0mkwargs\u001b[0m\u001b[0;34m)\u001b[0m\u001b[0;34m\u001b[0m\u001b[0;34m\u001b[0m\u001b[0m\n\u001b[0m\u001b[1;32m   1737\u001b[0m \u001b[0;34m\u001b[0m\u001b[0m\n\u001b[1;32m   1738\u001b[0m     \u001b[0;31m# torchrec tests the code consistency with the following code\u001b[0m\u001b[0;34m\u001b[0m\u001b[0;34m\u001b[0m\u001b[0m\n",
            "\u001b[0;32m/usr/local/lib/python3.10/dist-packages/torch/nn/modules/module.py\u001b[0m in \u001b[0;36m_call_impl\u001b[0;34m(self, *args, **kwargs)\u001b[0m\n\u001b[1;32m   1745\u001b[0m                 \u001b[0;32mor\u001b[0m \u001b[0m_global_backward_pre_hooks\u001b[0m \u001b[0;32mor\u001b[0m \u001b[0m_global_backward_hooks\u001b[0m\u001b[0;34m\u001b[0m\u001b[0;34m\u001b[0m\u001b[0m\n\u001b[1;32m   1746\u001b[0m                 or _global_forward_hooks or _global_forward_pre_hooks):\n\u001b[0;32m-> 1747\u001b[0;31m             \u001b[0;32mreturn\u001b[0m \u001b[0mforward_call\u001b[0m\u001b[0;34m(\u001b[0m\u001b[0;34m*\u001b[0m\u001b[0margs\u001b[0m\u001b[0;34m,\u001b[0m \u001b[0;34m**\u001b[0m\u001b[0mkwargs\u001b[0m\u001b[0;34m)\u001b[0m\u001b[0;34m\u001b[0m\u001b[0;34m\u001b[0m\u001b[0m\n\u001b[0m\u001b[1;32m   1748\u001b[0m \u001b[0;34m\u001b[0m\u001b[0m\n\u001b[1;32m   1749\u001b[0m         \u001b[0mresult\u001b[0m \u001b[0;34m=\u001b[0m \u001b[0;32mNone\u001b[0m\u001b[0;34m\u001b[0m\u001b[0;34m\u001b[0m\u001b[0m\n",
            "\u001b[0;32m/usr/local/lib/python3.10/dist-packages/torch/nn/modules/activation.py\u001b[0m in \u001b[0;36mforward\u001b[0;34m(self, query, key, value, key_padding_mask, need_weights, attn_mask, average_attn_weights, is_causal)\u001b[0m\n\u001b[1;32m   1366\u001b[0m             )\n\u001b[1;32m   1367\u001b[0m         \u001b[0;32melse\u001b[0m\u001b[0;34m:\u001b[0m\u001b[0;34m\u001b[0m\u001b[0;34m\u001b[0m\u001b[0m\n\u001b[0;32m-> 1368\u001b[0;31m             attn_output, attn_output_weights = F.multi_head_attention_forward(\n\u001b[0m\u001b[1;32m   1369\u001b[0m                 \u001b[0mquery\u001b[0m\u001b[0;34m,\u001b[0m\u001b[0;34m\u001b[0m\u001b[0;34m\u001b[0m\u001b[0m\n\u001b[1;32m   1370\u001b[0m                 \u001b[0mkey\u001b[0m\u001b[0;34m,\u001b[0m\u001b[0;34m\u001b[0m\u001b[0;34m\u001b[0m\u001b[0m\n",
            "\u001b[0;32m/usr/local/lib/python3.10/dist-packages/torch/nn/functional.py\u001b[0m in \u001b[0;36mmulti_head_attention_forward\u001b[0;34m(query, key, value, embed_dim_to_check, num_heads, in_proj_weight, in_proj_bias, bias_k, bias_v, add_zero_attn, dropout_p, out_proj_weight, out_proj_bias, training, key_padding_mask, need_weights, attn_mask, use_separate_proj_weight, q_proj_weight, k_proj_weight, v_proj_weight, static_k, static_v, average_attn_weights, is_causal)\u001b[0m\n\u001b[1;32m   6095\u001b[0m             \u001b[0min_proj_weight\u001b[0m \u001b[0;32mis\u001b[0m \u001b[0;32mnot\u001b[0m \u001b[0;32mNone\u001b[0m\u001b[0;34m\u001b[0m\u001b[0;34m\u001b[0m\u001b[0m\n\u001b[1;32m   6096\u001b[0m         ), \"use_separate_proj_weight is False but in_proj_weight is None\"\n\u001b[0;32m-> 6097\u001b[0;31m         \u001b[0mq\u001b[0m\u001b[0;34m,\u001b[0m \u001b[0mk\u001b[0m\u001b[0;34m,\u001b[0m \u001b[0mv\u001b[0m \u001b[0;34m=\u001b[0m \u001b[0m_in_projection_packed\u001b[0m\u001b[0;34m(\u001b[0m\u001b[0mquery\u001b[0m\u001b[0;34m,\u001b[0m \u001b[0mkey\u001b[0m\u001b[0;34m,\u001b[0m \u001b[0mvalue\u001b[0m\u001b[0;34m,\u001b[0m \u001b[0min_proj_weight\u001b[0m\u001b[0;34m,\u001b[0m \u001b[0min_proj_bias\u001b[0m\u001b[0;34m)\u001b[0m\u001b[0;34m\u001b[0m\u001b[0;34m\u001b[0m\u001b[0m\n\u001b[0m\u001b[1;32m   6098\u001b[0m     \u001b[0;32melse\u001b[0m\u001b[0;34m:\u001b[0m\u001b[0;34m\u001b[0m\u001b[0;34m\u001b[0m\u001b[0m\n\u001b[1;32m   6099\u001b[0m         assert (\n",
            "\u001b[0;32m/usr/local/lib/python3.10/dist-packages/torch/nn/functional.py\u001b[0m in \u001b[0;36m_in_projection_packed\u001b[0;34m(q, k, v, w, b)\u001b[0m\n\u001b[1;32m   5517\u001b[0m                 \u001b[0mb_q\u001b[0m\u001b[0;34m,\u001b[0m \u001b[0mb_kv\u001b[0m \u001b[0;34m=\u001b[0m \u001b[0mb\u001b[0m\u001b[0;34m.\u001b[0m\u001b[0msplit\u001b[0m\u001b[0;34m(\u001b[0m\u001b[0;34m[\u001b[0m\u001b[0mE\u001b[0m\u001b[0;34m,\u001b[0m \u001b[0mE\u001b[0m \u001b[0;34m*\u001b[0m \u001b[0;36m2\u001b[0m\u001b[0;34m]\u001b[0m\u001b[0;34m)\u001b[0m\u001b[0;34m\u001b[0m\u001b[0;34m\u001b[0m\u001b[0m\n\u001b[1;32m   5518\u001b[0m             \u001b[0mq_proj\u001b[0m \u001b[0;34m=\u001b[0m \u001b[0mlinear\u001b[0m\u001b[0;34m(\u001b[0m\u001b[0mq\u001b[0m\u001b[0;34m,\u001b[0m \u001b[0mw_q\u001b[0m\u001b[0;34m,\u001b[0m \u001b[0mb_q\u001b[0m\u001b[0;34m)\u001b[0m\u001b[0;34m\u001b[0m\u001b[0;34m\u001b[0m\u001b[0m\n\u001b[0;32m-> 5519\u001b[0;31m             \u001b[0mkv_proj\u001b[0m \u001b[0;34m=\u001b[0m \u001b[0mlinear\u001b[0m\u001b[0;34m(\u001b[0m\u001b[0mk\u001b[0m\u001b[0;34m,\u001b[0m \u001b[0mw_kv\u001b[0m\u001b[0;34m,\u001b[0m \u001b[0mb_kv\u001b[0m\u001b[0;34m)\u001b[0m\u001b[0;34m\u001b[0m\u001b[0;34m\u001b[0m\u001b[0m\n\u001b[0m\u001b[1;32m   5520\u001b[0m             \u001b[0;31m# reshape to 2, E and not E, 2 is deliberate for better memory coalescing and keeping same order as chunk()\u001b[0m\u001b[0;34m\u001b[0m\u001b[0;34m\u001b[0m\u001b[0m\n\u001b[1;32m   5521\u001b[0m             kv_proj = (\n",
            "\u001b[0;31mOutOfMemoryError\u001b[0m: CUDA out of memory. Tried to allocate 12.00 GiB. GPU 0 has a total capacity of 14.75 GiB of which 1.53 GiB is free. Process 5662 has 13.22 GiB memory in use. Of the allocated memory 12.99 GiB is allocated by PyTorch, and 112.25 MiB is reserved by PyTorch but unallocated. If reserved but unallocated memory is large try setting PYTORCH_CUDA_ALLOC_CONF=expandable_segments:True to avoid fragmentation.  See documentation for Memory Management  (https://pytorch.org/docs/stable/notes/cuda.html#environment-variables)"
          ]
        }
      ],
      "execution_count": 60
    },
    {
      "cell_type": "code",
      "source": [
        "torch.cuda.memory_summary(device='cuda', abbreviated=False)"
      ],
      "metadata": {
        "trusted": true,
        "execution": {
          "iopub.status.busy": "2025-01-10T07:49:46.167024Z",
          "iopub.execute_input": "2025-01-10T07:49:46.167397Z",
          "iopub.status.idle": "2025-01-10T07:49:46.173875Z",
          "shell.execute_reply.started": "2025-01-10T07:49:46.167365Z",
          "shell.execute_reply": "2025-01-10T07:49:46.172871Z"
        },
        "id": "zanppmyFPbjn",
        "outputId": "7c28d6df-2375-41c2-9339-198138afd7a2"
      },
      "outputs": [
        {
          "execution_count": 74,
          "output_type": "execute_result",
          "data": {
            "text/plain": "'|===========================================================================|\\n|                  PyTorch CUDA memory summary, device ID 0                 |\\n|---------------------------------------------------------------------------|\\n|            CUDA OOMs: 2            |        cudaMalloc retries: 2         |\\n|===========================================================================|\\n|        Metric         | Cur Usage  | Peak Usage | Tot Alloc  | Tot Freed  |\\n|---------------------------------------------------------------------------|\\n| Allocated memory      |   7929 MiB |   7972 MiB |  14364 MiB |   6434 MiB |\\n|       from large pool |   7927 MiB |   7970 MiB |  14332 MiB |   6405 MiB |\\n|       from small pool |      1 MiB |      3 MiB |     31 MiB |     29 MiB |\\n|---------------------------------------------------------------------------|\\n| Active memory         |   7929 MiB |   7972 MiB |  14364 MiB |   6434 MiB |\\n|       from large pool |   7927 MiB |   7970 MiB |  14332 MiB |   6405 MiB |\\n|       from small pool |      1 MiB |      3 MiB |     31 MiB |     29 MiB |\\n|---------------------------------------------------------------------------|\\n| Requested memory      |   7926 MiB |   7968 MiB |  14360 MiB |   6433 MiB |\\n|       from large pool |   7924 MiB |   7966 MiB |  14328 MiB |   6404 MiB |\\n|       from small pool |      1 MiB |      3 MiB |     31 MiB |     29 MiB |\\n|---------------------------------------------------------------------------|\\n| GPU reserved memory   |   8202 MiB |   8252 MiB |   8302 MiB | 102400 KiB |\\n|       from large pool |   8200 MiB |   8248 MiB |   8296 MiB |  98304 KiB |\\n|       from small pool |      2 MiB |      4 MiB |      6 MiB |   4096 KiB |\\n|---------------------------------------------------------------------------|\\n| Non-releasable memory | 279286 KiB | 297210 KiB |   6963 MiB |   6690 MiB |\\n|       from large pool | 279080 KiB | 297000 KiB |   6931 MiB |   6659 MiB |\\n|       from small pool |    206 KiB |   2132 KiB |     31 MiB |     31 MiB |\\n|---------------------------------------------------------------------------|\\n| Allocations           |    1023    |    1025    |    1854    |     831    |\\n|       from large pool |     774    |     776    |    1320    |     546    |\\n|       from small pool |     249    |     250    |     534    |     285    |\\n|---------------------------------------------------------------------------|\\n| Active allocs         |    1023    |    1025    |    1854    |     831    |\\n|       from large pool |     774    |     776    |    1320    |     546    |\\n|       from small pool |     249    |     250    |     534    |     285    |\\n|---------------------------------------------------------------------------|\\n| GPU reserved segments |     244    |     246    |     248    |       4    |\\n|       from large pool |     243    |     244    |     245    |       2    |\\n|       from small pool |       1    |       2    |       3    |       2    |\\n|---------------------------------------------------------------------------|\\n| Non-releasable allocs |     135    |     136    |     666    |     531    |\\n|       from large pool |     129    |     130    |     509    |     380    |\\n|       from small pool |       6    |       7    |     157    |     151    |\\n|---------------------------------------------------------------------------|\\n| Oversize allocations  |       0    |       0    |       0    |       0    |\\n|---------------------------------------------------------------------------|\\n| Oversize GPU segments |       0    |       0    |       0    |       0    |\\n|===========================================================================|\\n'"
          },
          "metadata": {}
        }
      ],
      "execution_count": null
    },
    {
      "cell_type": "code",
      "source": [
        "export CUDA_LAUNCH_BLOCKING=1"
      ],
      "metadata": {
        "trusted": true,
        "execution": {
          "iopub.status.busy": "2025-01-08T14:16:16.118335Z",
          "iopub.execute_input": "2025-01-08T14:16:16.118626Z",
          "iopub.status.idle": "2025-01-08T14:16:16.123946Z",
          "shell.execute_reply.started": "2025-01-08T14:16:16.118603Z",
          "shell.execute_reply": "2025-01-08T14:16:16.122821Z"
        },
        "id": "86jvC4a8Pbjo"
      },
      "outputs": [],
      "execution_count": null
    },
    {
      "cell_type": "code",
      "source": [
        "torch.save(model.state_dict(), 'paamodel.pth')"
      ],
      "metadata": {
        "trusted": true,
        "execution": {
          "iopub.status.busy": "2025-01-02T09:15:35.127979Z",
          "iopub.execute_input": "2025-01-02T09:15:35.1283Z",
          "iopub.status.idle": "2025-01-02T09:15:38.043298Z",
          "shell.execute_reply.started": "2025-01-02T09:15:35.128272Z",
          "shell.execute_reply": "2025-01-02T09:15:38.042319Z"
        },
        "id": "wkDGQ4eRa7JH"
      },
      "outputs": [],
      "execution_count": null
    },
    {
      "cell_type": "code",
      "source": [
        "model = PAAModel()\n",
        "\n",
        "# Load the saved state dict\n",
        "model.load_state_dict(torch.load('paamodel.pth'))"
      ],
      "metadata": {
        "trusted": true,
        "execution": {
          "iopub.status.busy": "2025-01-02T09:15:38.044438Z",
          "iopub.execute_input": "2025-01-02T09:15:38.044677Z",
          "iopub.status.idle": "2025-01-02T09:15:43.200276Z",
          "shell.execute_reply.started": "2025-01-02T09:15:38.044656Z",
          "shell.execute_reply": "2025-01-02T09:15:43.199391Z"
        },
        "id": "7TcPgRsja7JH"
      },
      "outputs": [],
      "execution_count": null
    },
    {
      "cell_type": "code",
      "source": [
        "df_eval = df[9999:10000].reset_index(drop=True)"
      ],
      "metadata": {
        "trusted": true,
        "execution": {
          "iopub.status.busy": "2025-01-02T09:13:31.90417Z",
          "iopub.execute_input": "2025-01-02T09:13:31.904508Z",
          "iopub.status.idle": "2025-01-02T09:13:31.909558Z",
          "shell.execute_reply.started": "2025-01-02T09:13:31.904481Z",
          "shell.execute_reply": "2025-01-02T09:13:31.908551Z"
        },
        "id": "K1MXJesua7JI"
      },
      "outputs": [],
      "execution_count": null
    },
    {
      "cell_type": "code",
      "source": [
        "df_eval"
      ],
      "metadata": {
        "trusted": true,
        "execution": {
          "iopub.status.busy": "2025-01-02T09:13:33.152773Z",
          "iopub.execute_input": "2025-01-02T09:13:33.153078Z",
          "iopub.status.idle": "2025-01-02T09:13:33.167906Z",
          "shell.execute_reply.started": "2025-01-02T09:13:33.153052Z",
          "shell.execute_reply": "2025-01-02T09:13:33.166951Z"
        },
        "id": "9D4sb3pxa7JI"
      },
      "outputs": [],
      "execution_count": null
    },
    {
      "cell_type": "code",
      "source": [
        "eval_dataset = CustomDataset(df_eval, t5_tokenizer,gpt2_tokenizer)"
      ],
      "metadata": {
        "trusted": true,
        "execution": {
          "iopub.status.busy": "2025-01-02T09:13:36.045686Z",
          "iopub.execute_input": "2025-01-02T09:13:36.046004Z",
          "iopub.status.idle": "2025-01-02T09:13:36.049807Z",
          "shell.execute_reply.started": "2025-01-02T09:13:36.045976Z",
          "shell.execute_reply": "2025-01-02T09:13:36.048902Z"
        },
        "id": "p0goTw6Da7JI"
      },
      "outputs": [],
      "execution_count": null
    },
    {
      "cell_type": "code",
      "source": [
        "\n",
        "\n",
        "def inference(model,gpt2_tokenizer, t5_tokenizer, eval_dataset, device):\n",
        "    model.eval()\n",
        "    model.to(device)\n",
        "\n",
        "    metacognitive_vector_ids, problem_student_code_ids, problem_expected_code_ids,student_code_ids, target_ids = eval_dataset[0]\n",
        "\n",
        "    metacognitive_tensor = metacognitive_vector_ids.unsqueeze(0).to(device)\n",
        "    problem_student_code_tensor = problem_student_code_ids.unsqueeze(0).to(device)\n",
        "    problem_expected_code_tensor = problem_expected_code_ids.unsqueeze(0).to(device)\n",
        "    target_tensor = target_ids.unsqueeze(0).to(device)\n",
        "\n",
        "    student_attention_mask = (problem_student_code_tensor != t5_tokenizer.pad_token_id).long().to(device)\n",
        "    expected_attention_mask = (problem_expected_code_tensor != t5_tokenizer.pad_token_id).long().to(device)\n",
        "\n",
        "\n",
        "    with torch.no_grad():\n",
        "\n",
        "        logits = model(\n",
        "            metacognitive_vector_ids=metacognitive_tensor,\n",
        "            problem_student_code_ids=problem_student_code_tensor,\n",
        "            problem_expected_code_ids=problem_expected_code_tensor,\n",
        "            expected_attention_mask=expected_attention_mask,\n",
        "            student_attention_mask=student_attention_mask\n",
        "        )\n",
        "\n",
        "        predictions = logits.argmax(dim=-1).squeeze().tolist()\n",
        "        filtered_tokens = [token for token in predictions if token != 0]\n",
        "        #decoded_text = t5_tokenizer.decode(filtered_tokens, skip_special_tokens=False)\n",
        "        decoded_text = t5_tokenizer.decode(predictions, skip_special_tokens=True)\n",
        "\n",
        "\n",
        "        return filtered_tokens, decoded_text\n",
        "\n"
      ],
      "metadata": {
        "trusted": true,
        "execution": {
          "iopub.status.busy": "2025-01-02T09:42:25.839368Z",
          "iopub.execute_input": "2025-01-02T09:42:25.839702Z",
          "iopub.status.idle": "2025-01-02T09:42:25.84611Z",
          "shell.execute_reply.started": "2025-01-02T09:42:25.839676Z",
          "shell.execute_reply": "2025-01-02T09:42:25.845101Z"
        },
        "id": "GGKQrOYQa7JJ"
      },
      "outputs": [],
      "execution_count": null
    },
    {
      "cell_type": "code",
      "source": [
        "predictions, decoded_text = inference(model, gpt2_tokenizer, t5_tokenizer, eval_dataset, device)"
      ],
      "metadata": {
        "trusted": true,
        "execution": {
          "iopub.status.busy": "2025-01-02T09:42:26.462145Z",
          "iopub.execute_input": "2025-01-02T09:42:26.462503Z",
          "iopub.status.idle": "2025-01-02T09:42:26.555247Z",
          "shell.execute_reply.started": "2025-01-02T09:42:26.462473Z",
          "shell.execute_reply": "2025-01-02T09:42:26.554554Z"
        },
        "id": "Nk1Ua-_va7JJ"
      },
      "outputs": [],
      "execution_count": null
    },
    {
      "cell_type": "code",
      "source": [
        "print(\"Predicted Tokens:\", predictions)"
      ],
      "metadata": {
        "trusted": true,
        "execution": {
          "iopub.status.busy": "2025-01-02T09:42:26.833831Z",
          "iopub.execute_input": "2025-01-02T09:42:26.834114Z",
          "iopub.status.idle": "2025-01-02T09:42:26.838824Z",
          "shell.execute_reply.started": "2025-01-02T09:42:26.834092Z",
          "shell.execute_reply": "2025-01-02T09:42:26.837971Z"
        },
        "id": "0i90o8Nfa7JK"
      },
      "outputs": [],
      "execution_count": null
    },
    {
      "cell_type": "code",
      "source": [
        "print(\"Decoded Text:\", decoded_text)"
      ],
      "metadata": {
        "trusted": true,
        "execution": {
          "iopub.status.busy": "2025-01-02T09:42:27.089445Z",
          "iopub.execute_input": "2025-01-02T09:42:27.089745Z",
          "iopub.status.idle": "2025-01-02T09:42:27.094494Z",
          "shell.execute_reply.started": "2025-01-02T09:42:27.089722Z",
          "shell.execute_reply": "2025-01-02T09:42:27.093656Z"
        },
        "id": "Mv7lQhaFa7JK"
      },
      "outputs": [],
      "execution_count": null
    },
    {
      "cell_type": "code",
      "source": [
        "def load_checkpoint(checkpoint_path, model, optimizer=None):\n",
        "    checkpoint = torch.load(checkpoint_path)\n",
        "    model.load_state_dict(checkpoint['model_state_dict'])\n",
        "    if optimizer:\n",
        "        optimizer.load_state_dict(checkpoint['optimizer_state_dict'])\n",
        "    epoch = checkpoint['epoch']\n",
        "    loss = checkpoint['loss']\n",
        "    print(f\"Checkpoint loaded: Epoch {epoch}, Loss: {loss:.4f}\")\n",
        "    return model, optimizer, epoch, loss"
      ],
      "metadata": {
        "trusted": true,
        "execution": {
          "iopub.status.busy": "2025-01-02T09:14:56.480065Z",
          "iopub.execute_input": "2025-01-02T09:14:56.480394Z",
          "iopub.status.idle": "2025-01-02T09:14:56.484822Z",
          "shell.execute_reply.started": "2025-01-02T09:14:56.480367Z",
          "shell.execute_reply": "2025-01-02T09:14:56.483857Z"
        },
        "id": "XRItYXvQa7JN"
      },
      "outputs": [],
      "execution_count": null
    },
    {
      "cell_type": "code",
      "source": [
        "checkpoint_path = \"./checkpoints/model_epoch_20.pth\"\n",
        "model, optimizer, start_epoch, _ = load_checkpoint(checkpoint_path, model, optimizer)"
      ],
      "metadata": {
        "trusted": true,
        "execution": {
          "iopub.status.busy": "2025-01-02T09:14:20.031344Z",
          "iopub.execute_input": "2025-01-02T09:14:20.031652Z",
          "iopub.status.idle": "2025-01-02T09:14:21.532472Z",
          "shell.execute_reply.started": "2025-01-02T09:14:20.031628Z",
          "shell.execute_reply": "2025-01-02T09:14:21.531698Z"
        },
        "id": "iJ7FRM_wa7JO"
      },
      "outputs": [],
      "execution_count": null
    },
    {
      "cell_type": "code",
      "source": [
        "checkpoint_path = \"./checkpoints/model_epoch_10.pth\"\n",
        "checkpoint = torch.load(checkpoint_path, map_location=torch.device('cpu'))  # Use GPU if available: 'cuda'\n",
        "model.load_state_dict(checkpoint['model_state_dict'])"
      ],
      "metadata": {
        "trusted": true,
        "execution": {
          "iopub.status.busy": "2025-01-02T09:13:55.653477Z",
          "iopub.execute_input": "2025-01-02T09:13:55.653715Z",
          "iopub.status.idle": "2025-01-02T09:13:55.676084Z",
          "shell.execute_reply.started": "2025-01-02T09:13:55.653693Z",
          "shell.execute_reply": "2025-01-02T09:13:55.674979Z"
        },
        "collapsed": true,
        "jupyter": {
          "outputs_hidden": true
        },
        "id": "tBk9w-l_a7JO"
      },
      "outputs": [],
      "execution_count": null
    },
    {
      "cell_type": "code",
      "source": [
        "len(df)"
      ],
      "metadata": {
        "trusted": true,
        "execution": {
          "iopub.status.busy": "2025-01-02T09:14:26.196139Z",
          "iopub.execute_input": "2025-01-02T09:14:26.19651Z",
          "iopub.status.idle": "2025-01-02T09:14:26.201901Z",
          "shell.execute_reply.started": "2025-01-02T09:14:26.196481Z",
          "shell.execute_reply": "2025-01-02T09:14:26.200956Z"
        },
        "id": "b9Shapm3a7JP"
      },
      "outputs": [],
      "execution_count": null
    },
    {
      "cell_type": "code",
      "source": [
        "df_eval1 = df[449:450].reset_index(drop=True)"
      ],
      "metadata": {
        "trusted": true,
        "execution": {
          "iopub.status.busy": "2025-01-02T09:15:21.71876Z",
          "iopub.execute_input": "2025-01-02T09:15:21.719058Z",
          "iopub.status.idle": "2025-01-02T09:15:21.723418Z",
          "shell.execute_reply.started": "2025-01-02T09:15:21.719035Z",
          "shell.execute_reply": "2025-01-02T09:15:21.722544Z"
        },
        "id": "QznZNXd2a7JP"
      },
      "outputs": [],
      "execution_count": null
    },
    {
      "cell_type": "code",
      "source": [
        "eval_dataset1 = CustomDataset(df_eval1, t5_tokenizer,gpt2_tokenizer)"
      ],
      "metadata": {
        "trusted": true,
        "execution": {
          "iopub.status.busy": "2025-01-02T09:15:22.79416Z",
          "iopub.execute_input": "2025-01-02T09:15:22.794471Z",
          "iopub.status.idle": "2025-01-02T09:15:22.798035Z",
          "shell.execute_reply.started": "2025-01-02T09:15:22.794449Z",
          "shell.execute_reply": "2025-01-02T09:15:22.79709Z"
        },
        "id": "JuJQTbuma7JQ"
      },
      "outputs": [],
      "execution_count": null
    },
    {
      "cell_type": "code",
      "source": [
        "predictions, decoded_text = inference(model, gpt2_tokenizer, t5_tokenizer, eval_dataset1, device)"
      ],
      "metadata": {
        "trusted": true,
        "execution": {
          "iopub.status.busy": "2025-01-02T09:15:44.516595Z",
          "iopub.execute_input": "2025-01-02T09:15:44.516895Z",
          "iopub.status.idle": "2025-01-02T09:15:44.999499Z",
          "shell.execute_reply.started": "2025-01-02T09:15:44.516872Z",
          "shell.execute_reply": "2025-01-02T09:15:44.998792Z"
        },
        "id": "450TkAAMa7JQ"
      },
      "outputs": [],
      "execution_count": null
    },
    {
      "cell_type": "code",
      "source": [
        "print(\"Decoded Text:\", decoded_text)"
      ],
      "metadata": {
        "trusted": true,
        "execution": {
          "iopub.status.busy": "2025-01-02T09:15:47.030509Z",
          "iopub.execute_input": "2025-01-02T09:15:47.030805Z",
          "iopub.status.idle": "2025-01-02T09:15:47.035393Z",
          "shell.execute_reply.started": "2025-01-02T09:15:47.030783Z",
          "shell.execute_reply": "2025-01-02T09:15:47.034606Z"
        },
        "id": "wOV8HjGSa7JQ"
      },
      "outputs": [],
      "execution_count": null
    },
    {
      "cell_type": "code",
      "source": [],
      "metadata": {
        "trusted": true,
        "id": "YVP6ZYJXa7JQ"
      },
      "outputs": [],
      "execution_count": null
    }
  ]
}